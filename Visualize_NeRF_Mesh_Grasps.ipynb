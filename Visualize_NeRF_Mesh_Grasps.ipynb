{
 "cells": [
  {
   "cell_type": "markdown",
   "id": "9a59aada-fcf6-41d9-849d-31d71845789e",
   "metadata": {},
   "source": [
    "# Train NeRF Grasp Metric\n",
    "\n",
    "## Summary (April 18, 2023)\n",
    "\n",
    "The purpose of this script is to train a neural network model to take in:\n",
    "\n",
    "* a NeRF object model\n",
    "\n",
    "* $n$ ray origins and directions representating fingers approaching (for now, $n = 2$)\n",
    "\n",
    "and output:\n",
    "\n",
    "* a grasp metric $g$ representing the quality of grasp (for now, $g \\in [0, 1]$, where 0 is failed grasp and 1 is successful grasp).\n",
    "\n",
    "To do this, we will be using the [ACRONYM dataset](https://sites.google.com/nvidia.com/graspdataset), which contains ~1.7M grasps on over 8k objects each labeled with the grasp success."
   ]
  },
  {
   "cell_type": "code",
   "execution_count": null,
   "id": "cd4caff0-c4d7-4fc8-ab24-2100638b6432",
   "metadata": {
    "lines_to_next_cell": 2,
    "tags": []
   },
   "outputs": [],
   "source": [
    "import wandb\n",
    "import os\n",
    "import h5py\n",
    "import numpy as np\n",
    "from localscope import localscope\n",
    "import time\n",
    "import math\n",
    "\n",
    "import random\n",
    "import torch\n",
    "import plotly.graph_objects as go\n",
    "import trimesh\n",
    "\n",
    "import matplotlib.pyplot as plt\n",
    "import mpl_toolkits.mplot3d as mplot3d\n",
    "\n",
    "from nerf_grasping.grasp_utils import nerf_to_ig, ig_to_nerf"
   ]
  },
  {
   "cell_type": "markdown",
   "id": "692bc431-a97c-46d5-86e7-53099f71d3a1",
   "metadata": {
    "lines_to_next_cell": 2
   },
   "source": [
    "# Read In Config"
   ]
  },
  {
   "cell_type": "code",
   "execution_count": null,
   "id": "d160ff32-6f17-46be-a748-17f7ec3f05c0",
   "metadata": {
    "lines_to_next_cell": 2
   },
   "outputs": [],
   "source": [
    "def is_notebook() -> bool:\n",
    "    try:\n",
    "        shell = get_ipython().__class__.__name__\n",
    "        if shell == \"ZMQInteractiveShell\":\n",
    "            return True  # Jupyter notebook or qtconsole\n",
    "        elif shell == \"TerminalInteractiveShell\":\n",
    "            return False  # Terminal running IPython\n",
    "        else:\n",
    "            return False  # Other type (?)\n",
    "    except NameError:\n",
    "        return False  # Probably standard Python interpreter"
   ]
  },
  {
   "cell_type": "code",
   "execution_count": null,
   "id": "e3a3cb37-5512-49e4-86e4-0a36360bc5cd",
   "metadata": {},
   "outputs": [],
   "source": [
    "# Use with hydra later\n",
    "# if is_notebook():\n",
    "#     arguments = []\n",
    "# else:\n",
    "#     arguments = sys.argv[1:]\n",
    "#     print(f\"arguments = {arguments}\")\n",
    "#\n",
    "# OmegaConf.register_new_resolver(\"eval\", eval)\n",
    "# with initialize(version_base=None, config_path=\"train_bc_config_files\"):\n",
    "#     cfg = compose(config_name=\"config\", overrides=arguments)\n",
    "#     print(OmegaConf.to_yaml(cfg))"
   ]
  },
  {
   "cell_type": "code",
   "execution_count": null,
   "id": "15119b88-4e64-46f0-b86b-231dca30ba59",
   "metadata": {},
   "outputs": [],
   "source": []
  },
  {
   "cell_type": "markdown",
   "id": "82276de1-7ebd-400f-9bfb-0349cdee4d06",
   "metadata": {},
   "source": [
    "# Setup Wandb"
   ]
  },
  {
   "cell_type": "code",
   "execution_count": null,
   "id": "ae76c9cd-76d5-4316-9f19-78c357be403b",
   "metadata": {},
   "outputs": [],
   "source": [
    "\n",
    "# time_str = datetime.now().strftime(\"%Y-%m-%d_%H-%M-%S\")\n",
    "# run_name = f\"{cfg.wandb_name}_{time_str}\" if len(cfg.wandb_name) > 0 else time_str\n",
    "\n",
    "# wandb.init(entity=cfg.wandb_entity,\n",
    "#            project=cfg.wandb_project,\n",
    "#            name=run_name,\n",
    "#            group=cfg.wandb_group if len(cfg.wandb_group) > 0 else None,\n",
    "#            job_type=cfg.wandb_job_type if len(cfg.wandb_job_type) > 0 else None,\n",
    "#            config=OmegaConf.to_container(cfg),\n",
    "#            reinit=True)"
   ]
  },
  {
   "cell_type": "code",
   "execution_count": null,
   "id": "f8f47fdf-ac47-49a6-a7fc-b55e663bcac6",
   "metadata": {},
   "outputs": [],
   "source": [
    "\n",
    "\n",
    "@localscope.mfc\n",
    "def set_seed(seed):\n",
    "    random.seed(seed)\n",
    "    torch.manual_seed(seed)\n",
    "    torch.cuda.manual_seed(seed)\n",
    "    np.random.seed(seed)\n",
    "    torch.set_num_threads(1)\n",
    "\n",
    "\n",
    "# set_seed(cfg.RANDOM_SEED)"
   ]
  },
  {
   "cell_type": "markdown",
   "id": "7dd896a0-e1b8-4937-a961-dd5a86ad8300",
   "metadata": {},
   "source": [
    "# Load Data From Files"
   ]
  },
  {
   "cell_type": "code",
   "execution_count": null,
   "id": "146a7dc2-5c73-4d38-964e-cdf9ae274203",
   "metadata": {
    "tags": []
   },
   "outputs": [],
   "source": [
    "# TODO: Need way to connect an acronym file to a nerf model nicely\n",
    "assets_dir_filepath = \"/juno/u/tylerlum/github_repos/nerf_grasping/assets/objects\"\n",
    "acronym_dir_filepath = \"/juno/u/tylerlum/github_repos/acronym/data/grasps\"\n",
    "USE_MUG = False\n",
    "if USE_MUG:\n",
    "    nerf_model_workspace = \"isaac_Mug_10f6e09036350e92b3f21f1137c3c347_0.0002682458/\"\n",
    "    acronym_data_filepath = os.path.join(\n",
    "        acronym_dir_filepath,\n",
    "        \"Mug_10f6e09036350e92b3f21f1137c3c347_0.0002682457830986903.h5\",\n",
    "    )\n",
    "    urdf_filepath = os.path.join(\n",
    "        assets_dir_filepath, \"urdf\", \"Mug_10f6e09036350e92b3f21f1137c3c347.urdf\"\n",
    "    )\n",
    "    obj_filepath = os.path.join(\n",
    "        assets_dir_filepath, \"meshes\", \"Mug\", \"10f6e09036350e92b3f21f1137c3c347.obj\"\n",
    "    )\n",
    "else:\n",
    "    nerf_model_workspace = \"isaac_Dog_35f73ca2716aefcfbeccafa1b3b5f850_0.0041745997\"\n",
    "    acronym_data_filepath = os.path.join(\n",
    "        acronym_dir_filepath,\n",
    "        \"Dog_35f73ca2716aefcfbeccafa1b3b5f850_0.004174599731357345.h5\",\n",
    "    )\n",
    "    urdf_filepath = os.path.join(\n",
    "        assets_dir_filepath, \"urdf\", \"Dog_35f73ca2716aefcfbeccafa1b3b5f850.urdf\"\n",
    "    )\n",
    "    obj_filepath = os.path.join(\n",
    "        assets_dir_filepath, \"meshes\", \"Dog\", \"35f73ca2716aefcfbeccafa1b3b5f850.obj\"\n",
    "    )"
   ]
  },
  {
   "cell_type": "code",
   "execution_count": null,
   "id": "a8dbff02-f191-4673-8751-2b710ebbcf96",
   "metadata": {
    "tags": []
   },
   "outputs": [],
   "source": [
    "acronym_data = h5py.File(acronym_data_filepath, \"r\")\n",
    "mesh_scale = float(acronym_data[\"object/scale\"][()])\n",
    "\n",
    "grasp_transforms = np.array(acronym_data[\"grasps/transforms\"])\n",
    "grasp_successes = np.array(acronym_data[\"grasps/qualities/flex/object_in_gripper\"])"
   ]
  },
  {
   "cell_type": "code",
   "execution_count": null,
   "id": "9439b90a-90b3-4b05-842d-af0619c9d329",
   "metadata": {
    "tags": []
   },
   "outputs": [],
   "source": [
    "print(f\"{grasp_transforms.shape = }\")\n",
    "print(f\"{grasp_successes.shape = }\")"
   ]
  },
  {
   "cell_type": "code",
   "execution_count": null,
   "id": "cbb20c14-2e99-437e-9986-887a587abf45",
   "metadata": {
    "tags": []
   },
   "outputs": [],
   "source": [
    "LEFT_TIP_POSITION_GRASP_FRAME = np.array(\n",
    "    [4.10000000e-02, -7.27595772e-12, 1.12169998e-01]\n",
    ")\n",
    "RIGHT_TIP_POSITION_GRASP_FRAME = np.array(\n",
    "    [-4.10000000e-02, -7.27595772e-12, 1.12169998e-01]\n",
    ")"
   ]
  },
  {
   "cell_type": "code",
   "execution_count": null,
   "id": "2a7e7363-f7ec-4e23-9e2a-e6ada8a40d10",
   "metadata": {},
   "outputs": [],
   "source": [
    "@localscope.mfc\n",
    "def position_to_transformed_positions(position, transforms):\n",
    "    assert position.shape == (3,)\n",
    "    assert len(transforms.shape) == 3 and transforms.shape[1:] == (4, 4)\n",
    "    num_transforms = transforms.shape[0]\n",
    "\n",
    "    transformed_positions = (transforms @ np.array([*position, 1.0]).reshape(1, 4, 1))[\n",
    "        :, :3, :\n",
    "    ].squeeze()\n",
    "    assert transformed_positions.shape == (num_transforms, 3)\n",
    "    return transformed_positions\n",
    "\n",
    "\n",
    "@localscope.mfc\n",
    "def position_to_transformed_positions_unvectorized(position, transforms):\n",
    "    assert position.shape == (3,)\n",
    "    assert len(transforms.shape) == 3 and transforms.shape[1:] == (4, 4)\n",
    "    num_transforms = transforms.shape[0]\n",
    "\n",
    "    transformed_positions = []\n",
    "    for i in range(num_transforms):\n",
    "        transformed_positions.append((transforms[i] @ np.array([*position, 1.0]))[:3])\n",
    "    transformed_positions = np.stack(transformed_positions)\n",
    "    return transformed_positions\n",
    "\n",
    "\n",
    "@localscope.mfc\n",
    "def run_sanity_check(position, transforms):\n",
    "    # Non-vectorized\n",
    "    start = time.time()\n",
    "    positions_object_frame = position_to_transformed_positions_unvectorized(\n",
    "        position=position, transforms=transforms\n",
    "    )\n",
    "    print(f\"Non-vectorized took {1000 * (time.time() - start):.2f} ms\")\n",
    "\n",
    "    # Vectorized version\n",
    "    start = time.time()\n",
    "    positions_object_frame_2 = position_to_transformed_positions(\n",
    "        position=position, transforms=transforms\n",
    "    )\n",
    "    print(f\"Vectorized took {1000 * (time.time() - start):.2f} ms\")\n",
    "\n",
    "    assert np.max(np.abs(positions_object_frame - positions_object_frame_2)) < 1e-5\n",
    "    print(\"Passed the test, they match!\")\n",
    "    return"
   ]
  },
  {
   "cell_type": "code",
   "execution_count": null,
   "id": "41c6ab90-2aff-4846-ba67-13f6bc9f3a63",
   "metadata": {
    "tags": []
   },
   "outputs": [],
   "source": [
    "run_sanity_check(position=LEFT_TIP_POSITION_GRASP_FRAME, transforms=grasp_transforms)"
   ]
  },
  {
   "cell_type": "code",
   "execution_count": null,
   "id": "ccc09d9c-b41c-44e0-8b70-f89bd4be7bdb",
   "metadata": {
    "tags": []
   },
   "outputs": [],
   "source": [
    "@localscope.mfc\n",
    "def plot_obj(obj_filepath, scale=1.0, offset=None, color=\"lightpink\"):\n",
    "    if offset is None:\n",
    "        offset = np.zeros(3)\n",
    "\n",
    "    # Read in the OBJ file\n",
    "    with open(obj_filepath, \"r\") as f:\n",
    "        lines = f.readlines()\n",
    "\n",
    "    # Extract the vertex coordinates and faces from the OBJ file\n",
    "    vertices = []\n",
    "    faces = []\n",
    "    for line in lines:\n",
    "        if line.startswith(\"v \"):\n",
    "            vertex = [float(i) * scale for i in line.split()[1:4]]\n",
    "            vertices.append(vertex)\n",
    "        elif line.startswith(\"f \"):\n",
    "            face = [int(i.split(\"/\")[0]) - 1 for i in line.split()[1:4]]\n",
    "            faces.append(face)\n",
    "\n",
    "    # Convert the vertex coordinates and faces to numpy arrays\n",
    "    vertices = np.array(vertices)\n",
    "    faces = np.array(faces)\n",
    "\n",
    "    assert len(vertices.shape) == 2 and vertices.shape[1] == 3\n",
    "    assert len(faces.shape) == 2 and faces.shape[1] == 3\n",
    "\n",
    "    vertices += offset.reshape(1, 3)\n",
    "\n",
    "    # Create the mesh3d trace\n",
    "    mesh = go.Mesh3d(\n",
    "        x=vertices[:, 0],\n",
    "        y=vertices[:, 1],\n",
    "        z=vertices[:, 2],\n",
    "        i=faces[:, 0],\n",
    "        j=faces[:, 1],\n",
    "        k=faces[:, 2],\n",
    "        color=color,\n",
    "        opacity=0.5,\n",
    "        name=f\"Mesh: {os.path.basename(obj_filepath)}\",\n",
    "    )\n",
    "\n",
    "    # Create the layout\n",
    "    coordinates = \"Object Coordinates\" if np.all(offset == 0) else \"Isaac Coordinates\"\n",
    "    layout = go.Layout(\n",
    "        scene=dict(xaxis=dict(title=\"X\"), yaxis=dict(title=\"Y\"), zaxis=dict(title=\"Z\")),\n",
    "        showlegend=True,\n",
    "        title=f\"Mesh: {os.path.basename(obj_filepath)} ({coordinates})\",\n",
    "    )\n",
    "\n",
    "    # Create the figure\n",
    "    fig = go.Figure(data=[mesh], layout=layout)\n",
    "\n",
    "    # Return the figure\n",
    "    return fig"
   ]
  },
  {
   "cell_type": "code",
   "execution_count": null,
   "id": "e313b9f1-cc77-4110-b80b-f7d081cf463b",
   "metadata": {
    "lines_to_next_cell": 2,
    "tags": []
   },
   "outputs": [],
   "source": [
    "mesh = trimesh.load(obj_filepath, force=\"mesh\")\n",
    "\n",
    "\n",
    "@localscope.mfc\n",
    "def get_mesh_centroid(mesh, scale=1):\n",
    "    return np.array(mesh.centroid) * scale\n",
    "\n",
    "\n",
    "# Get bounds of mesh\n",
    "@localscope.mfc\n",
    "def get_mesh_bounds(mesh, scale=1):\n",
    "    min_points, max_points = mesh.bounds\n",
    "    return np.array(min_points) * scale, np.array(max_points) * scale\n",
    "\n",
    "\n",
    "min_points_obj_frame, max_points_obj_frame = get_mesh_bounds(mesh, scale=mesh_scale)\n",
    "print(min_points_obj_frame, max_points_obj_frame)"
   ]
  },
  {
   "cell_type": "code",
   "execution_count": null,
   "id": "f6b49884",
   "metadata": {
    "lines_to_next_cell": 2,
    "tags": []
   },
   "outputs": [],
   "source": [
    "# Use this offset for all plots so that the plot is in isaac coordinates\n",
    "bound_min_z_obj_frame = min_points_obj_frame[2]\n",
    "mesh_centroid_obj_frame = get_mesh_centroid(mesh, scale=mesh_scale)\n",
    "\n",
    "USE_ISAAC_COORDINATES = True\n",
    "if USE_ISAAC_COORDINATES:\n",
    "    obj_offset = np.array(\n",
    "        [\n",
    "            -mesh_centroid_obj_frame[0],\n",
    "            -mesh_centroid_obj_frame[1],\n",
    "            -bound_min_z_obj_frame,\n",
    "        ]\n",
    "    )\n",
    "else:\n",
    "    obj_offset = np.zeros(3)\n",
    "print(f\"USE_ISAAC_COORDINATES: {USE_ISAAC_COORDINATES}\")\n",
    "print(f\"Offset: {obj_offset}\")\n",
    "\n",
    "fig = plot_obj(obj_filepath, scale=mesh_scale, offset=obj_offset)\n",
    "fig.show()"
   ]
  },
  {
   "cell_type": "code",
   "execution_count": null,
   "id": "d118a552",
   "metadata": {},
   "outputs": [],
   "source": [
    "\n",
    "\n",
    "@localscope.mfc\n",
    "def get_mesh_centroid_scatter(mesh_centroid, offset=None):\n",
    "    if offset is None:\n",
    "        offset = np.zeros(3)\n",
    "\n",
    "    translated_mesh_centroid = mesh_centroid + offset\n",
    "    scatter = go.Scatter3d(\n",
    "        x=[translated_mesh_centroid[0]],\n",
    "        y=[translated_mesh_centroid[1]],\n",
    "        z=[translated_mesh_centroid[2]],\n",
    "        mode=\"markers\",\n",
    "        marker=dict(size=10, color=\"black\"),\n",
    "        name=\"Mesh Centroid\",\n",
    "    )\n",
    "    return scatter\n",
    "\n",
    "\n",
    "@localscope.mfc\n",
    "def get_mesh_origin_lines(offset=None):\n",
    "    if offset is None:\n",
    "        offset = np.zeros(3)\n",
    "\n",
    "    x_lines = np.array([[0.0, 0.0, 0.0], [0.1, 0.0, 0.0]])\n",
    "    y_lines = np.array([[0.0, 0.0, 0.0], [0.0, 0.1, 0.0]])\n",
    "    z_lines = np.array([[0.0, 0.0, 0.0], [0.0, 0.0, 0.1]])\n",
    "    x_lines += offset\n",
    "    y_lines += offset\n",
    "    z_lines += offset\n",
    "    lines = [\n",
    "        go.Scatter3d(\n",
    "            x=x_lines[:, 0],\n",
    "            y=x_lines[:, 1],\n",
    "            z=x_lines[:, 2],\n",
    "            mode=\"lines\",\n",
    "            line=dict(width=2, color=\"red\"),\n",
    "            name=\"Mesh Origin X Axis\",\n",
    "        ),\n",
    "        go.Scatter3d(\n",
    "            x=y_lines[:, 0],\n",
    "            y=y_lines[:, 1],\n",
    "            z=y_lines[:, 2],\n",
    "            mode=\"lines\",\n",
    "            line=dict(width=2, color=\"green\"),\n",
    "            name=\"Mesh Origin Y Axis\",\n",
    "        ),\n",
    "        go.Scatter3d(\n",
    "            x=z_lines[:, 0],\n",
    "            y=z_lines[:, 1],\n",
    "            z=z_lines[:, 2],\n",
    "            mode=\"lines\",\n",
    "            line=dict(width=2, color=\"blue\"),\n",
    "            name=\"Mesh Origin Z Axis\",\n",
    "        ),\n",
    "    ]\n",
    "    return lines"
   ]
  },
  {
   "cell_type": "code",
   "execution_count": null,
   "id": "f2e648fe",
   "metadata": {},
   "outputs": [],
   "source": [
    "fig = plot_obj(obj_filepath, scale=mesh_scale, offset=obj_offset)\n",
    "mesh_centroid_scatter = get_mesh_centroid_scatter(\n",
    "    mesh_centroid_obj_frame, offset=obj_offset\n",
    ")\n",
    "mesh_origin_lines = get_mesh_origin_lines(offset=obj_offset)\n",
    "fig.add_trace(mesh_centroid_scatter)\n",
    "for mesh_origin_line in mesh_origin_lines:\n",
    "    fig.add_trace(mesh_origin_line)\n",
    "fig.show()"
   ]
  },
  {
   "cell_type": "code",
   "execution_count": null,
   "id": "144cbd05",
   "metadata": {},
   "outputs": [],
   "source": [
    "@localscope.mfc\n",
    "def get_grasp_gripper_lines(grasp_transforms, grasp_successes, offset=None):\n",
    "    if offset is None:\n",
    "        offset = np.zeros(3)\n",
    "\n",
    "    raw_left_tip = np.array([4.10000000e-02, -7.27595772e-12, 1.12169998e-01])\n",
    "    raw_right_tip = np.array([-4.10000000e-02, -7.27595772e-12, 1.12169998e-01])\n",
    "    raw_left_knuckle = np.array([4.10000000e-02, -7.27595772e-12, 6.59999996e-02])\n",
    "    raw_right_knuckle = np.array([-4.10000000e-02, -7.27595772e-12, 6.59999996e-02])\n",
    "    raw_hand_origin = np.array([0.0, 0.0, 0.0])\n",
    "    left_tips = position_to_transformed_positions(\n",
    "        position=raw_left_tip, transforms=grasp_transforms\n",
    "    )\n",
    "    right_tips = position_to_transformed_positions(\n",
    "        position=raw_right_tip, transforms=grasp_transforms\n",
    "    )\n",
    "    left_knuckles = position_to_transformed_positions(\n",
    "        position=raw_left_knuckle, transforms=grasp_transforms\n",
    "    )\n",
    "    right_knuckles = position_to_transformed_positions(\n",
    "        position=raw_right_knuckle, transforms=grasp_transforms\n",
    "    )\n",
    "    hand_origins = position_to_transformed_positions(\n",
    "        position=raw_hand_origin, transforms=grasp_transforms\n",
    "    )\n",
    "\n",
    "    assert (\n",
    "        left_tips.shape\n",
    "        == right_tips.shape\n",
    "        == left_knuckles.shape\n",
    "        == right_knuckles.shape\n",
    "        == hand_origins.shape\n",
    "        == (len(grasp_successes), 3)\n",
    "    )\n",
    "    left_tips += offset.reshape(1, 3)\n",
    "    right_tips += offset.reshape(1, 3)\n",
    "    left_knuckles += offset.reshape(1, 3)\n",
    "    right_knuckles += offset.reshape(1, 3)\n",
    "    hand_origins += offset.reshape(1, 3)\n",
    "\n",
    "    grasp_lines = []\n",
    "    for i, (\n",
    "        left_tip,\n",
    "        right_tip,\n",
    "        left_knuckle,\n",
    "        right_knuckle,\n",
    "        hand_origin,\n",
    "        grasp_success,\n",
    "    ) in enumerate(\n",
    "        zip(\n",
    "            left_tips,\n",
    "            right_tips,\n",
    "            left_knuckles,\n",
    "            right_knuckles,\n",
    "            hand_origins,\n",
    "            grasp_successes,\n",
    "        )\n",
    "    ):\n",
    "        assert grasp_success in [0, 1]\n",
    "        color = \"green\" if grasp_success == 1 else \"red\"\n",
    "\n",
    "        # left tip => left knuckle => right knuckle => right tip => right_knuckle => btwn knuckles => hand_origin\n",
    "        btwn_knuckles = (left_knuckle + right_knuckle) / 2\n",
    "\n",
    "        points = np.stack(\n",
    "            [\n",
    "                left_tip,\n",
    "                left_knuckle,\n",
    "                right_knuckle,\n",
    "                right_tip,\n",
    "                btwn_knuckles,\n",
    "                hand_origin,\n",
    "            ],\n",
    "            axis=0,\n",
    "        )\n",
    "        assert points.shape == (6, 3)\n",
    "\n",
    "        # Create 1 continous line per grasp\n",
    "        grasp_line = go.Scatter3d(\n",
    "            x=points[:, 0],\n",
    "            y=points[:, 1],\n",
    "            z=points[:, 2],\n",
    "            mode=\"lines\",\n",
    "            line=dict(color=color, width=5),\n",
    "            name=f\"Grasp {i}\",\n",
    "        )\n",
    "        grasp_lines.append(grasp_line)\n",
    "    return grasp_lines"
   ]
  },
  {
   "cell_type": "code",
   "execution_count": null,
   "id": "26123f44",
   "metadata": {},
   "outputs": [],
   "source": [
    "fig = plot_obj(obj_filepath, scale=mesh_scale, offset=obj_offset)\n",
    "grasp_lines = get_grasp_gripper_lines(\n",
    "    grasp_transforms[:6], grasp_successes[:6], offset=obj_offset\n",
    ")\n",
    "for grasp_line in grasp_lines:\n",
    "    fig.add_trace(grasp_line)\n",
    "fig.show()"
   ]
  },
  {
   "cell_type": "code",
   "execution_count": null,
   "id": "9521a7a2",
   "metadata": {},
   "outputs": [],
   "source": [
    "@localscope.mfc\n",
    "def get_grasp_ray_lines(grasp_transforms, grasp_successes, offset=None):\n",
    "    if offset is None:\n",
    "        offset = np.zeros(3)\n",
    "\n",
    "    raw_left_tip = np.array([4.10000000e-02, -7.27595772e-12, 1.12169998e-01])\n",
    "    raw_right_tip = np.array([-4.10000000e-02, -7.27595772e-12, 1.12169998e-01])\n",
    "    left_tips = position_to_transformed_positions(\n",
    "        position=raw_left_tip, transforms=grasp_transforms\n",
    "    )\n",
    "    right_tips = position_to_transformed_positions(\n",
    "        position=raw_right_tip, transforms=grasp_transforms\n",
    "    )\n",
    "\n",
    "    assert left_tips.shape == right_tips.shape == (len(grasp_successes), 3)\n",
    "    left_tips += offset.reshape(1, 3)\n",
    "    right_tips += offset.reshape(1, 3)\n",
    "\n",
    "    grasp_lines = []\n",
    "    for i, (\n",
    "        left_tip,\n",
    "        right_tip,\n",
    "        grasp_success,\n",
    "    ) in enumerate(\n",
    "        zip(\n",
    "            left_tips,\n",
    "            right_tips,\n",
    "            grasp_successes,\n",
    "        )\n",
    "    ):\n",
    "        assert grasp_success in [0, 1]\n",
    "        color = \"green\" if grasp_success == 1 else \"red\"\n",
    "\n",
    "        # left tip => right_tip\n",
    "        points = np.stack(\n",
    "            [\n",
    "                left_tip,\n",
    "                right_tip,\n",
    "            ],\n",
    "            axis=0,\n",
    "        )\n",
    "        assert points.shape == (2, 3)\n",
    "\n",
    "        # Create 1 continous line per grasp\n",
    "        grasp_line = go.Scatter3d(\n",
    "            x=points[:, 0],\n",
    "            y=points[:, 1],\n",
    "            z=points[:, 2],\n",
    "            mode=\"lines\",\n",
    "            line=dict(color=color, width=5),\n",
    "            name=f\"Grasp {i}\",\n",
    "        )\n",
    "        grasp_lines.append(grasp_line)\n",
    "    return grasp_lines"
   ]
  },
  {
   "cell_type": "code",
   "execution_count": null,
   "id": "ef529909-c6f8-4e99-9da9-4e80df5a1bfc",
   "metadata": {},
   "outputs": [],
   "source": [
    "fig = plot_obj(obj_filepath, scale=mesh_scale, offset=obj_offset)\n",
    "grasp_lines = get_grasp_ray_lines(\n",
    "    grasp_transforms[:6], grasp_successes[:6], offset=obj_offset\n",
    ")\n",
    "for grasp_line in grasp_lines:\n",
    "    fig.add_trace(grasp_line)\n",
    "fig.show()"
   ]
  },
  {
   "cell_type": "markdown",
   "id": "4800c307-d78f-4497-81da-6db6c5bb520c",
   "metadata": {
    "lines_to_next_cell": 2
   },
   "source": [
    "## TEMP: Visualize NeRF"
   ]
  },
  {
   "cell_type": "code",
   "execution_count": null,
   "id": "40f97abc-d4eb-4483-adac-6db203415f0f",
   "metadata": {
    "lines_to_next_cell": 2,
    "tags": []
   },
   "outputs": [],
   "source": [
    "@localscope.mfc(\n",
    "    allowed=[\"LEFT_TIP_POSITION_GRASP_FRAME\", \"RIGHT_TIP_POSITION_GRASP_FRAME\"]\n",
    ")\n",
    "def get_grasp_query_points_grasp_frame():\n",
    "    # Grid of points in grasp frame (x, y, z)\n",
    "    GRIPPER_WIDTH_MM = 82\n",
    "    GRIPPER_FINGER_WIDTH_MM = 20\n",
    "    GRIPPER_FINGER_HEIGHT_MM = 36\n",
    "\n",
    "    # Want points equally spread out in space\n",
    "    DIST_BTWN_PTS_MM = 1\n",
    "\n",
    "    NUM_PTS_X = int(GRIPPER_WIDTH_MM / DIST_BTWN_PTS_MM)\n",
    "    NUM_PTS_Y = int(GRIPPER_FINGER_WIDTH_MM / DIST_BTWN_PTS_MM)\n",
    "    NUM_PTS_Z = int(GRIPPER_FINGER_HEIGHT_MM / DIST_BTWN_PTS_MM)\n",
    "\n",
    "    assert NUM_PTS_X * DIST_BTWN_PTS_MM == GRIPPER_WIDTH_MM\n",
    "    assert NUM_PTS_Y * DIST_BTWN_PTS_MM == GRIPPER_FINGER_WIDTH_MM\n",
    "    assert NUM_PTS_Z * DIST_BTWN_PTS_MM == GRIPPER_FINGER_HEIGHT_MM\n",
    "    num_pts = (NUM_PTS_X + 1) * (NUM_PTS_Y + 1) * (NUM_PTS_Z + 1)\n",
    "    print(f\"num_pts: {num_pts}\")\n",
    "\n",
    "    GRIPPER_WIDTH_M = GRIPPER_WIDTH_MM / 1000.0\n",
    "    GRIPPER_FINGER_WIDTH_M = GRIPPER_FINGER_WIDTH_MM / 1000.0\n",
    "    GRIPPER_FINGER_HEIGHT_M = GRIPPER_FINGER_HEIGHT_MM / 1000.0\n",
    "\n",
    "    # Create grid of points in grasp frame with shape (NUM_PTS_X, NUM_PTS_Y, NUM_PTS_Z, 3)\n",
    "    # So that grid_of_points[2, 3, 5] = [x, y, z], where x, y, z are the coordinates of the point\n",
    "    x_coords = np.linspace(-GRIPPER_WIDTH_M / 2, GRIPPER_WIDTH_M / 2, NUM_PTS_X + 1)\n",
    "    y_coords = np.linspace(\n",
    "        -GRIPPER_FINGER_WIDTH_M / 2, GRIPPER_FINGER_WIDTH_M / 2, NUM_PTS_Y + 1\n",
    "    )\n",
    "    z_coords = np.linspace(0, GRIPPER_FINGER_HEIGHT_M, NUM_PTS_Z + 1)\n",
    "\n",
    "    # Offset so centered between LEFT_TIP_POSITION_GRASP_FRAME and RIGHT_TIP_POSITION_GRASP_FRAME\n",
    "    center_point = (LEFT_TIP_POSITION_GRASP_FRAME + RIGHT_TIP_POSITION_GRASP_FRAME) / 2\n",
    "    x_coords += center_point[0]\n",
    "    y_coords += center_point[1]\n",
    "    z_coords += center_point[2]\n",
    "\n",
    "    xx, yy, zz = np.meshgrid(x_coords, y_coords, z_coords, indexing=\"ij\")\n",
    "    assert (\n",
    "        xx.shape\n",
    "        == yy.shape\n",
    "        == zz.shape\n",
    "        == (NUM_PTS_X + 1, NUM_PTS_Y + 1, NUM_PTS_Z + 1)\n",
    "    )\n",
    "    grid_of_points = np.stack([xx, yy, zz], axis=-1)\n",
    "    assert grid_of_points.shape == (NUM_PTS_X + 1, NUM_PTS_Y + 1, NUM_PTS_Z + 1, 3)\n",
    "    return grid_of_points\n",
    "\n",
    "\n",
    "grasp_query_points_grasp_frame = get_grasp_query_points_grasp_frame()"
   ]
  },
  {
   "cell_type": "code",
   "execution_count": null,
   "id": "8ff231ff",
   "metadata": {},
   "outputs": [],
   "source": [
    "# Transform query points to object frame\n",
    "\n",
    "\n",
    "@localscope.mfc\n",
    "def get_transformed_points(points, transform):\n",
    "    assert len(points.shape) == 2 and points.shape[1] == 3\n",
    "    assert transform.shape == (4, 4)\n",
    "\n",
    "    points_homogeneous = np.concatenate([points, np.ones((points.shape[0], 1))], axis=1)\n",
    "\n",
    "    # First (4, 4) @ (4, N) = (4, N)\n",
    "    # Then transpose to get (N, 4)\n",
    "    transformed_points = np.matmul(transform, points_homogeneous.T).T\n",
    "\n",
    "    return transformed_points[:, :3]\n",
    "\n",
    "\n",
    "transform = grasp_transforms[4]\n",
    "grasp_query_points_object_frame = get_transformed_points(\n",
    "    grasp_query_points_grasp_frame.reshape(-1, 3), transform\n",
    ").reshape(grasp_query_points_grasp_frame.shape)"
   ]
  },
  {
   "cell_type": "code",
   "execution_count": null,
   "id": "ce5909bf",
   "metadata": {},
   "outputs": [],
   "source": [
    "# Visualize points\n",
    "@localscope.mfc\n",
    "def get_points_scatter(points, offset=None):\n",
    "    if offset is None:\n",
    "        offset = np.zeros(3)\n",
    "\n",
    "    assert len(points.shape) == 2 and points.shape[1] == 3\n",
    "\n",
    "    points_to_plot = points + offset.reshape(1, 3)\n",
    "\n",
    "    # Use plotly to make scatter3d plot\n",
    "    scatter = go.Scatter3d(\n",
    "        x=points_to_plot[:, 0],\n",
    "        y=points_to_plot[:, 1],\n",
    "        z=points_to_plot[:, 2],\n",
    "        mode=\"markers\",\n",
    "        marker=dict(size=5, color=\"blue\"),\n",
    "        name=\"Query Points\",\n",
    "    )\n",
    "\n",
    "    return scatter"
   ]
  },
  {
   "cell_type": "code",
   "execution_count": null,
   "id": "91f5f254",
   "metadata": {},
   "outputs": [],
   "source": [
    "scatter = get_points_scatter(\n",
    "    grasp_query_points_object_frame.reshape(-1, 3), offset=obj_offset\n",
    ")\n",
    "\n",
    "# Add the scatter plot to a figure and display it\n",
    "fig = plot_obj(obj_filepath, scale=mesh_scale, offset=obj_offset)\n",
    "fig.add_trace(scatter)\n",
    "fig.show()"
   ]
  },
  {
   "cell_type": "code",
   "execution_count": null,
   "id": "b68f47fe-8e20-48a2-ad1e-227602b3dcff",
   "metadata": {
    "tags": []
   },
   "outputs": [],
   "source": [
    "from pathlib import Path\n",
    "from nerf_grasping import nerf_utils\n",
    "from nerf import utils\n",
    "\n",
    "\n",
    "def get_root_dir():\n",
    "    root_dir = None\n",
    "    try:\n",
    "        root_dir = Path(os.path.abspath(__file__)).parents[0]\n",
    "    except:\n",
    "        pass\n",
    "    try:\n",
    "        root_dir = Path(os.path.abspath(\".\"))\n",
    "    except:\n",
    "        pass\n",
    "    if root_dir is None:\n",
    "        raise ValueError(\"Can't get path to this file\")\n",
    "    return root_dir\n",
    "\n",
    "\n",
    "root_dir = get_root_dir()\n",
    "print(root_dir)"
   ]
  },
  {
   "cell_type": "code",
   "execution_count": null,
   "id": "4e82760e",
   "metadata": {
    "lines_to_next_cell": 2,
    "tags": []
   },
   "outputs": [],
   "source": [
    "@localscope.mfc(allowed=[\"root_dir\"])\n",
    "def load_nerf(workspace, bound, scale):\n",
    "    parser = utils.get_config_parser()\n",
    "    opt = parser.parse_args(\n",
    "        [\n",
    "            \"--workspace\",\n",
    "            f\"{root_dir}/nerf_checkpoints/{workspace}\",\n",
    "            \"--fp16\",\n",
    "            \"--test\",\n",
    "            \"--bound\",\n",
    "            f\"{bound}\",\n",
    "            \"--scale\",\n",
    "            f\"{scale}\",\n",
    "            \"--mode\",\n",
    "            \"blender\",\n",
    "            f\"{root_dir}/torch-ngp\",\n",
    "        ]\n",
    "    )\n",
    "    # Use options to determine proper network structure.\n",
    "    if opt.ff:\n",
    "        assert opt.fp16, \"fully-fused mode must be used with fp16 mode\"\n",
    "        from nerf.network_ff import NeRFNetwork\n",
    "    elif opt.tcnn:\n",
    "        assert opt.fp16, \"tcnn mode must be used with fp16 mode\"\n",
    "        from nerf.network_tcnn import NeRFNetwork\n",
    "    else:\n",
    "        from nerf.network import NeRFNetwork\n",
    "\n",
    "    # Create uninitialized network.\n",
    "    model = NeRFNetwork(\n",
    "        bound=opt.bound,\n",
    "        cuda_ray=opt.cuda_ray,\n",
    "    )\n",
    "\n",
    "    # Create trainer with NeRF; use its constructor to load network weights from file.\n",
    "    trainer = utils.Trainer(\n",
    "        \"ngp\",\n",
    "        vars(opt),\n",
    "        model,\n",
    "        workspace=opt.workspace,\n",
    "        criterion=None,\n",
    "        fp16=opt.fp16,\n",
    "        metrics=[None],\n",
    "        use_checkpoint=\"latest\",\n",
    "    )\n",
    "    assert len(trainer.stats[\"checkpoints\"]) != 0, \"failed to load checkpoint\"\n",
    "    return trainer.model\n",
    "\n",
    "\n",
    "nerf_model = load_nerf(workspace=nerf_model_workspace, bound=2, scale=1)"
   ]
  },
  {
   "cell_type": "code",
   "execution_count": null,
   "id": "43c5e744-9659-4f75-9460-51eba238eb16",
   "metadata": {
    "tags": []
   },
   "outputs": [],
   "source": [
    "nerf_model"
   ]
  },
  {
   "cell_type": "code",
   "execution_count": null,
   "id": "51beee93",
   "metadata": {},
   "outputs": [],
   "source": [
    "@localscope.mfc\n",
    "def get_nerf_densities(nerf_model, query_points):\n",
    "    \"\"\"\n",
    "    Evaluates density of a batch of grasp points, shape [B, n_f, 3].\n",
    "    query_points is torch.Tensor in nerf frame\n",
    "    \"\"\"\n",
    "    B, n_f, _ = query_points.shape\n",
    "    query_points = query_points.reshape(1, -1, 3)\n",
    "\n",
    "    return nerf_model.density(query_points).reshape(B, n_f)\n",
    "\n",
    "\n",
    "grasp_query_points_isaac_frame = np.copy(grasp_query_points_object_frame).reshape(\n",
    "    -1, 3\n",
    ") + obj_offset.reshape(1, 3)\n",
    "grasp_query_points_nerf_frame = ig_to_nerf(\n",
    "    grasp_query_points_isaac_frame, return_tensor=True\n",
    ")\n",
    "\n",
    "nerf_densities_torch = get_nerf_densities(\n",
    "    nerf_model=nerf_model,\n",
    "    query_points=grasp_query_points_nerf_frame.reshape(1, -1, 3).float().cuda(),\n",
    ").reshape(grasp_query_points_object_frame.shape[:-1])"
   ]
  },
  {
   "cell_type": "code",
   "execution_count": null,
   "id": "07ce495a-6efe-4bf9-b31c-3f9a5e870ed0",
   "metadata": {
    "tags": []
   },
   "outputs": [],
   "source": [
    "nerf_densities = nerf_densities_torch.detach().cpu().numpy()\n",
    "\n",
    "print(f\"np.max(nerf_densities) = {np.max(nerf_densities)}\")\n",
    "print(f\"np.min(nerf_densities) = {np.min(nerf_densities)}\")"
   ]
  },
  {
   "cell_type": "code",
   "execution_count": null,
   "id": "3f55c22f-3237-4373-9ec6-9f292f049a4b",
   "metadata": {
    "tags": []
   },
   "outputs": [],
   "source": [
    "# Visualize points\n",
    "@localscope.mfc\n",
    "def get_colored_points_scatter(points, colors, offset=None):\n",
    "    if offset is None:\n",
    "        offset = np.zeros(3)\n",
    "\n",
    "    assert len(points.shape) == 2 and points.shape[1] == 3\n",
    "\n",
    "    points_to_plot = points + offset.reshape(1, 3)\n",
    "\n",
    "    # Use plotly to make scatter3d plot\n",
    "    scatter = go.Scatter3d(\n",
    "        x=points_to_plot[:, 0],\n",
    "        y=points_to_plot[:, 1],\n",
    "        z=points_to_plot[:, 2],\n",
    "        mode=\"markers\",\n",
    "        marker=dict(\n",
    "            size=5,\n",
    "            color=colors,\n",
    "            colorscale=\"viridis\",\n",
    "            colorbar=dict(title=\"Density Scale\"),\n",
    "        ),\n",
    "        name=\"Query Points Densities\",\n",
    "    )\n",
    "\n",
    "    return scatter"
   ]
  },
  {
   "cell_type": "code",
   "execution_count": null,
   "id": "8e716ff5-6b69-4d78-b569-b3ebe389a5af",
   "metadata": {
    "tags": []
   },
   "outputs": [],
   "source": [
    "colored_points_scatter = get_colored_points_scatter(\n",
    "    points=grasp_query_points_object_frame.reshape(-1, 3),\n",
    "    colors=nerf_densities.reshape(-1),\n",
    "    offset=obj_offset,\n",
    ")\n",
    "\n",
    "# Add the scatter plot to a figure and display it\n",
    "fig = plot_obj(obj_filepath, scale=mesh_scale, offset=obj_offset)\n",
    "fig.add_trace(colored_points_scatter)\n",
    "\n",
    "# Avoid legend overlap\n",
    "fig.update_layout(legend_orientation=\"h\")\n",
    "\n",
    "fig.show()"
   ]
  },
  {
   "cell_type": "code",
   "execution_count": null,
   "id": "bd64bea7",
   "metadata": {},
   "outputs": [],
   "source": [
    "@localscope.mfc\n",
    "def get_query_points_mesh_region(min_points, max_points, n_pts_per_dim):\n",
    "    \"\"\"\n",
    "    Returns a batch of query points in the mesh region.\n",
    "    \"\"\"\n",
    "    x = np.linspace(min_points[0], max_points[0], n_pts_per_dim)\n",
    "    y = np.linspace(min_points[1], max_points[1], n_pts_per_dim)\n",
    "    z = np.linspace(min_points[2], max_points[2], n_pts_per_dim)\n",
    "    xv, yv, zv = np.meshgrid(x, y, z)\n",
    "    return np.stack([xv, yv, zv], axis=-1).reshape(-1, 3)\n",
    "\n",
    "\n",
    "query_points_mesh_region_obj_frame = get_query_points_mesh_region(\n",
    "    min_points_obj_frame, max_points_obj_frame, n_pts_per_dim=100\n",
    ")"
   ]
  },
  {
   "cell_type": "code",
   "execution_count": null,
   "id": "3d602f25-7cd7-4f1d-a48b-1d893c2a5e5e",
   "metadata": {
    "tags": []
   },
   "outputs": [],
   "source": [
    "query_points_mesh_region_obj_frame.shape"
   ]
  },
  {
   "cell_type": "code",
   "execution_count": null,
   "id": "73dfbf5b",
   "metadata": {},
   "outputs": [],
   "source": [
    "query_points_mesh_region_isaac_frame = np.copy(\n",
    "    query_points_mesh_region_obj_frame\n",
    ").reshape(-1, 3) + obj_offset.reshape(1, 3)\n",
    "query_points_mesh_region_nerf_frame = ig_to_nerf(\n",
    "    query_points_mesh_region_isaac_frame.reshape(-1, 3), return_tensor=True\n",
    ")"
   ]
  },
  {
   "cell_type": "code",
   "execution_count": null,
   "id": "46a2d029",
   "metadata": {
    "tags": []
   },
   "outputs": [],
   "source": [
    "nerf_densities_torch = get_nerf_densities(\n",
    "    nerf_model, query_points_mesh_region_nerf_frame.reshape(1, -1, 3).float().cuda()\n",
    ").reshape(query_points_mesh_region_nerf_frame.shape[:-1])\n",
    "nerf_densities = nerf_densities_torch.detach().cpu().numpy()"
   ]
  },
  {
   "cell_type": "code",
   "execution_count": null,
   "id": "9df29949-a88d-4f6f-86a2-f7ee6910ef26",
   "metadata": {
    "tags": []
   },
   "outputs": [],
   "source": [
    "points = query_points_mesh_region_obj_frame.reshape(-1, 3)\n",
    "densities = nerf_densities.reshape(-1)"
   ]
  },
  {
   "cell_type": "code",
   "execution_count": null,
   "id": "ad95e3d4-e82b-43de-8f93-0a4ebe1a841f",
   "metadata": {
    "tags": []
   },
   "outputs": [],
   "source": [
    "USE_PLOTLY = False\n",
    "if USE_PLOTLY:\n",
    "    import plotly.express as px\n",
    "\n",
    "    fig = px.histogram(\n",
    "        x=densities,\n",
    "        log_y=True,\n",
    "        title=\"Densities\",\n",
    "        labels={\"x\": \"Values\", \"y\": \"Frequency\"},\n",
    "    )\n",
    "\n",
    "    fig.show()\n",
    "else:\n",
    "    plt.hist(densities, log=True)\n",
    "    plt.title(\"Densities\")\n",
    "    plt.show()"
   ]
  },
  {
   "cell_type": "code",
   "execution_count": null,
   "id": "742dc69b-e5d7-4434-a188-92ce8b03b009",
   "metadata": {
    "tags": []
   },
   "outputs": [],
   "source": [
    "threshold = 250\n",
    "filtered_points = points[densities > threshold]\n",
    "filtered_densities = densities[densities > threshold]\n",
    "colored_points_scatter = get_colored_points_scatter(\n",
    "    points=filtered_points, colors=filtered_densities, offset=obj_offset\n",
    ")\n",
    "\n",
    "# Add the scatter plot to a figure and display it\n",
    "fig = plot_obj(obj_filepath, scale=mesh_scale, offset=obj_offset)\n",
    "fig.add_trace(colored_points_scatter)\n",
    "fig.update_layout(legend_orientation=\"h\")\n",
    "\n",
    "fig.show()"
   ]
  },
  {
   "cell_type": "code",
   "execution_count": null,
   "id": "1ff2dec7-0d90-4d32-8093-9721fffb161e",
   "metadata": {
    "tags": []
   },
   "outputs": [],
   "source": [
    "mesh.centroid * mesh_scale, mesh.extents * mesh_scale, mesh.bounds * mesh_scale"
   ]
  },
  {
   "cell_type": "markdown",
   "id": "92a53641-fee1-4d15-a169-ce44aeb3f270",
   "metadata": {},
   "source": [
    "# Create Dataset"
   ]
  },
  {
   "cell_type": "markdown",
   "id": "023dbb5b-2005-4cb5-a036-c5c7dc74e978",
   "metadata": {},
   "source": [
    "# Visualize Data"
   ]
  },
  {
   "cell_type": "markdown",
   "id": "d740e882-dacf-4292-a494-c97602251802",
   "metadata": {},
   "source": [
    "# Create Model"
   ]
  },
  {
   "cell_type": "markdown",
   "id": "19e0fc77-59d6-4e75-a6bc-f35d5bb3d11a",
   "metadata": {
    "tags": []
   },
   "source": [
    "# Run Training"
   ]
  },
  {
   "cell_type": "markdown",
   "id": "ce41955c-2ed5-4c08-bb72-b4cb12b925a3",
   "metadata": {},
   "source": [
    "# Run Evaluation"
   ]
  },
  {
   "cell_type": "markdown",
   "id": "9afcd138-6d40-4a73-96c0-3c6de957fb8b",
   "metadata": {},
   "source": [
    "# Visualize Results"
   ]
  },
  {
   "cell_type": "code",
   "execution_count": null,
   "id": "46f561b5-2a71-49ee-ac8e-ffc6b1963740",
   "metadata": {},
   "outputs": [],
   "source": []
  }
 ],
 "metadata": {
  "jupytext": {
   "formats": "ipynb,py:percent"
  },
  "kernelspec": {
   "display_name": "Python 3 (ipykernel)",
   "language": "python",
   "name": "python3"
  },
  "language_info": {
   "codemirror_mode": {
    "name": "ipython",
    "version": 3
   },
   "file_extension": ".py",
   "mimetype": "text/x-python",
   "name": "python",
   "nbconvert_exporter": "python",
   "pygments_lexer": "ipython3",
   "version": "3.8.16"
  },
  "toc-showcode": true
 },
 "nbformat": 4,
 "nbformat_minor": 5
}
