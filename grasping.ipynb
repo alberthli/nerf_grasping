{
 "cells": [
  {
   "cell_type": "code",
   "execution_count": 1,
   "id": "dd18781c-c177-49ed-a80a-5b9a1eb00b37",
   "metadata": {},
   "outputs": [],
   "source": [
    "# Imports and setup.\n",
    "import grasp_opt\n",
    "import mesh_utils\n",
    "import numpy as np\n",
    "import pypoisson\n",
    "import torch\n",
    "import trimesh\n",
    "\n",
    "from matplotlib import pyplot as plt\n",
    "from nerf_shared import config_parser, utils\n",
    "\n",
    "# Setup config (since we're not running from command line).\n",
    "parser = config_parser.config_parser()\n",
    "\n",
    "# Use the teddy_bear config, but change some filepaths.\n",
    "args = parser.parse_args(args=[\n",
    "    '--config', 'teddy_bear/config.txt', '--basedir', '.',\n",
    "    '--datadir', './nerf_shared/data/nerf_synthetic/teddy_bear'])\n",
    "\n",
    "# nerf_shared requires us to default to cuda tensors.\n",
    "torch.set_default_tensor_type(torch.cuda.FloatTensor)\n",
    "\n",
    "# I <3 autoreload.\n",
    "%load_ext autoreload\n",
    "%autoreload 2"
   ]
  },
  {
   "cell_type": "code",
   "execution_count": 2,
   "id": "b883cb30-e410-4036-b6cc-096c7da55ae0",
   "metadata": {},
   "outputs": [
    {
     "name": "stdout",
     "output_type": "stream",
     "text": [
      "Found ckpts ['./teddy_bear/010000.tar', './teddy_bear/020000.tar', './teddy_bear/030000.tar', './teddy_bear/040000.tar', './teddy_bear/050000.tar', './teddy_bear/060000.tar', './teddy_bear/070000.tar', './teddy_bear/080000.tar', './teddy_bear/090000.tar', './teddy_bear/100000.tar', './teddy_bear/110000.tar', './teddy_bear/120000.tar', './teddy_bear/130000.tar', './teddy_bear/140000.tar', './teddy_bear/150000.tar', './teddy_bear/160000.tar', './teddy_bear/170000.tar', './teddy_bear/180000.tar', './teddy_bear/200000.tar']\n",
      "Reloading from ./teddy_bear/200000.tar\n",
      "/media/data/pculbert/Documents/nerf_grasping\n",
      "Loaded blender (112, 400, 400, 4) torch.Size([40, 4, 4]) [400, 400, 555.5555155968841] ./nerf_shared/data/nerf_synthetic/teddy_bear\n",
      "Not ndc!\n",
      "{'training': True, '_parameters': OrderedDict(), '_buffers': OrderedDict(), '_non_persistent_buffers_set': set(), '_backward_hooks': OrderedDict(), '_is_full_backward_hook': None, '_forward_hooks': OrderedDict(), '_forward_pre_hooks': OrderedDict(), '_state_dict_hooks': OrderedDict(), '_load_state_dict_pre_hooks': OrderedDict(), '_modules': OrderedDict(), 'perturb': 1.0, 'N_importance': 128, 'N_samples': 64, 'use_viewdirs': True, 'white_bkgd': True, 'raw_noise_std': 0.0, 'ndc': False, 'lindisp': False, 'near': 0.2, 'far': 1.0}\n"
     ]
    }
   ],
   "source": [
    "# Load nerf models, params from checkpoint.\n",
    "coarse_model, fine_model = utils.create_nerf_models(args)\n",
    "optimizer = utils.get_optimizer(coarse_model, fine_model, args)\n",
    "utils.load_checkpoint(coarse_model, fine_model, optimizer, args, checkpoint_index=-1)\n",
    "images, poses, render_poses, hwf, i_split, K, bds_dict = utils.load_datasets(args)\n",
    "\n",
    "# Override the bounds dict by hand (bug in nerf_shared loading).\n",
    "bds_dict = {'near': 0.2, 'far':1.0}\n",
    "renderer = utils.get_renderer(args, bds_dict)\n",
    "H, W, focal = hwf"
   ]
  },
  {
   "cell_type": "code",
   "execution_count": 100,
   "id": "38fbe415-ad22-4645-b805-f0b6b2e8ee11",
   "metadata": {
    "tags": []
   },
   "outputs": [
    {
     "name": "stdout",
     "output_type": "stream",
     "text": [
      "tensor(79.2723, grad_fn=<AddBackward0>) tensor(78.2728, grad_fn=<MeanBackward0>) tensor([[ 0.0497,  0.0536,  0.1086],\n",
      "        [ 0.0156, -0.0475, -0.0260],\n",
      "        [-0.0184, -0.0321,  0.0045]], requires_grad=True)\n",
      "tensor(32.2896, grad_fn=<AddBackward0>) tensor(112.7596, grad_fn=<MeanBackward0>) tensor([[ 0.0422,  0.0571,  0.1152],\n",
      "        [ 0.0182, -0.0399, -0.0340],\n",
      "        [-0.0202, -0.0328,  0.0113]], requires_grad=True)\n",
      "tensor(13.1759, grad_fn=<AddBackward0>) tensor(134.4967, grad_fn=<MeanBackward0>) tensor([[ 0.0394,  0.0571,  0.1173],\n",
      "        [ 0.0134, -0.0394, -0.0380],\n",
      "        [-0.0241, -0.0361,  0.0172]], requires_grad=True)\n",
      "tensor(9.8722, grad_fn=<AddBackward0>) tensor(136.7018, grad_fn=<MeanBackward0>) tensor([[ 0.0381,  0.0564,  0.1169],\n",
      "        [ 0.0126, -0.0407, -0.0415],\n",
      "        [-0.0268, -0.0339,  0.0179]], requires_grad=True)\n",
      "tensor(9.7775, grad_fn=<AddBackward0>) tensor(124.8266, grad_fn=<MeanBackward0>) tensor([[ 0.0376,  0.0559,  0.1168],\n",
      "        [ 0.0116, -0.0408, -0.0436],\n",
      "        [-0.0278, -0.0333,  0.0178]], requires_grad=True)\n",
      "tensor(8.8965, grad_fn=<AddBackward0>) tensor(142.3182, grad_fn=<MeanBackward0>) tensor([[ 0.0372,  0.0555,  0.1164],\n",
      "        [ 0.0113, -0.0408, -0.0410],\n",
      "        [-0.0278, -0.0331,  0.0192]], requires_grad=True)\n",
      "tensor(11.4165, grad_fn=<AddBackward0>) tensor(138.9121, grad_fn=<MeanBackward0>) tensor([[ 0.0371,  0.0555,  0.1161],\n",
      "        [ 0.0121, -0.0411, -0.0417],\n",
      "        [-0.0300, -0.0348,  0.0197]], requires_grad=True)\n",
      "tensor(10.3253, grad_fn=<AddBackward0>) tensor(128.4424, grad_fn=<MeanBackward0>) tensor([[ 0.0370,  0.0561,  0.1159],\n",
      "        [ 0.0119, -0.0406, -0.0433],\n",
      "        [-0.0330, -0.0348,  0.0211]], requires_grad=True)\n",
      "tensor(14.7077, grad_fn=<AddBackward0>) tensor(160.4869, grad_fn=<MeanBackward0>) tensor([[ 0.0370,  0.0568,  0.1159],\n",
      "        [ 0.0099, -0.0404, -0.0399],\n",
      "        [-0.0329, -0.0312,  0.0231]], requires_grad=True)\n",
      "tensor(5.5807, grad_fn=<AddBackward0>) tensor(148.7290, grad_fn=<MeanBackward0>) tensor([[ 0.0370,  0.0573,  0.1158],\n",
      "        [ 0.0104, -0.0400, -0.0415],\n",
      "        [-0.0355, -0.0294,  0.0247]], requires_grad=True)\n",
      "tensor(12.8496, grad_fn=<AddBackward0>) tensor(134.7119, grad_fn=<MeanBackward0>) tensor([[ 0.0369,  0.0574,  0.1149],\n",
      "        [ 0.0131, -0.0400, -0.0415],\n",
      "        [-0.0366, -0.0289,  0.0260]], requires_grad=True)\n",
      "tensor(11.0750, grad_fn=<AddBackward0>) tensor(140.6248, grad_fn=<MeanBackward0>) tensor([[ 0.0369,  0.0574,  0.1145],\n",
      "        [ 0.0127, -0.0406, -0.0408],\n",
      "        [-0.0369, -0.0288,  0.0268]], requires_grad=True)\n",
      "tensor(11.2705, grad_fn=<AddBackward0>) tensor(142.1088, grad_fn=<MeanBackward0>) tensor([[ 0.0368,  0.0573,  0.1143],\n",
      "        [ 0.0106, -0.0404, -0.0422],\n",
      "        [-0.0369, -0.0286,  0.0272]], requires_grad=True)\n",
      "tensor(10.0519, grad_fn=<AddBackward0>) tensor(145.2990, grad_fn=<MeanBackward0>) tensor([[ 0.0368,  0.0573,  0.1142],\n",
      "        [ 0.0092, -0.0405, -0.0420],\n",
      "        [-0.0366, -0.0285,  0.0274]], requires_grad=True)\n",
      "tensor(7.3980, grad_fn=<AddBackward0>) tensor(144.9668, grad_fn=<MeanBackward0>) tensor([[ 0.0368,  0.0572,  0.1140],\n",
      "        [ 0.0094, -0.0409, -0.0427],\n",
      "        [-0.0362, -0.0285,  0.0276]], requires_grad=True)\n",
      "tensor(12.3199, grad_fn=<AddBackward0>) tensor(147.8519, grad_fn=<MeanBackward0>) tensor([[ 0.0368,  0.0573,  0.1138],\n",
      "        [ 0.0116, -0.0401, -0.0412],\n",
      "        [-0.0365, -0.0279,  0.0276]], requires_grad=True)\n",
      "tensor(6.5929, grad_fn=<AddBackward0>) tensor(141.2672, grad_fn=<MeanBackward0>) tensor([[ 0.0368,  0.0572,  0.1136],\n",
      "        [ 0.0143, -0.0398, -0.0399],\n",
      "        [-0.0366, -0.0275,  0.0275]], requires_grad=True)\n",
      "tensor(6.4121, grad_fn=<AddBackward0>) tensor(145.0255, grad_fn=<MeanBackward0>) tensor([[ 0.0367,  0.0572,  0.1134],\n",
      "        [ 0.0125, -0.0396, -0.0407],\n",
      "        [-0.0368, -0.0268,  0.0269]], requires_grad=True)\n",
      "tensor(11.8495, grad_fn=<AddBackward0>) tensor(146.9679, grad_fn=<MeanBackward0>) tensor([[ 0.0365,  0.0572,  0.1135],\n",
      "        [ 0.0127, -0.0408, -0.0417],\n",
      "        [-0.0371, -0.0258,  0.0272]], requires_grad=True)\n",
      "tensor(9.3276, grad_fn=<AddBackward0>) tensor(139.5804, grad_fn=<MeanBackward0>) tensor([[ 0.0364,  0.0574,  0.1130],\n",
      "        [ 0.0128, -0.0395, -0.0425],\n",
      "        [-0.0370, -0.0261,  0.0280]], requires_grad=True)\n",
      "tensor(6.5151, grad_fn=<AddBackward0>) tensor(147.2392, grad_fn=<MeanBackward0>) tensor([[ 0.0363,  0.0575,  0.1126],\n",
      "        [ 0.0122, -0.0400, -0.0407],\n",
      "        [-0.0389, -0.0270,  0.0278]], requires_grad=True)\n",
      "tensor(12.6770, grad_fn=<AddBackward0>) tensor(161.3308, grad_fn=<MeanBackward0>) tensor([[ 0.0363,  0.0576,  0.1127],\n",
      "        [ 0.0111, -0.0413, -0.0415],\n",
      "        [-0.0381, -0.0273,  0.0274]], requires_grad=True)\n",
      "tensor(9.6373, grad_fn=<AddBackward0>) tensor(140.5201, grad_fn=<MeanBackward0>) tensor([[ 0.0362,  0.0576,  0.1128],\n",
      "        [ 0.0104, -0.0404, -0.0433],\n",
      "        [-0.0370, -0.0270,  0.0274]], requires_grad=True)\n",
      "tensor(6.7209, grad_fn=<AddBackward0>) tensor(154.7715, grad_fn=<MeanBackward0>) tensor([[ 0.0361,  0.0578,  0.1128],\n",
      "        [ 0.0103, -0.0403, -0.0412],\n",
      "        [-0.0369, -0.0271,  0.0276]], requires_grad=True)\n",
      "tensor(10.4790, grad_fn=<AddBackward0>) tensor(137.4709, grad_fn=<MeanBackward0>) tensor([[ 0.0361,  0.0578,  0.1126],\n",
      "        [ 0.0144, -0.0414, -0.0405],\n",
      "        [-0.0373, -0.0274,  0.0279]], requires_grad=True)\n",
      "tensor(9.4379, grad_fn=<AddBackward0>) tensor(138.4843, grad_fn=<MeanBackward0>) tensor([[ 0.0363,  0.0578,  0.1124],\n",
      "        [ 0.0127, -0.0397, -0.0424],\n",
      "        [-0.0371, -0.0277,  0.0282]], requires_grad=True)\n",
      "tensor(7.7487, grad_fn=<AddBackward0>) tensor(154.2679, grad_fn=<MeanBackward0>) tensor([[ 0.0363,  0.0578,  0.1124],\n",
      "        [ 0.0109, -0.0405, -0.0405],\n",
      "        [-0.0366, -0.0278,  0.0284]], requires_grad=True)\n",
      "tensor(5.7369, grad_fn=<AddBackward0>) tensor(146.0847, grad_fn=<MeanBackward0>) tensor([[ 0.0363,  0.0578,  0.1125],\n",
      "        [ 0.0112, -0.0398, -0.0420],\n",
      "        [-0.0360, -0.0282,  0.0280]], requires_grad=True)\n",
      "tensor(11.5145, grad_fn=<AddBackward0>) tensor(146.9770, grad_fn=<MeanBackward0>) tensor([[ 0.0363,  0.0578,  0.1125],\n",
      "        [ 0.0122, -0.0411, -0.0416],\n",
      "        [-0.0360, -0.0286,  0.0280]], requires_grad=True)\n",
      "tensor(8.0696, grad_fn=<AddBackward0>) tensor(141.7624, grad_fn=<MeanBackward0>) tensor([[ 0.0363,  0.0578,  0.1123],\n",
      "        [ 0.0130, -0.0409, -0.0417],\n",
      "        [-0.0357, -0.0288,  0.0284]], requires_grad=True)\n",
      "tensor(6.7085, grad_fn=<AddBackward0>) tensor(140.4883, grad_fn=<MeanBackward0>) tensor([[ 0.0365,  0.0578,  0.1125],\n",
      "        [ 0.0119, -0.0401, -0.0423],\n",
      "        [-0.0365, -0.0298,  0.0284]], requires_grad=True)\n",
      "tensor(7.8794, grad_fn=<AddBackward0>) tensor(146.6603, grad_fn=<MeanBackward0>) tensor([[ 0.0365,  0.0578,  0.1127],\n",
      "        [ 0.0112, -0.0409, -0.0411],\n",
      "        [-0.0376, -0.0304,  0.0280]], requires_grad=True)\n",
      "tensor(14.5680, grad_fn=<AddBackward0>) tensor(145.1692, grad_fn=<MeanBackward0>) tensor([[ 0.0365,  0.0577,  0.1126],\n",
      "        [ 0.0112, -0.0396, -0.0413],\n",
      "        [-0.0380, -0.0299,  0.0281]], requires_grad=True)\n",
      "tensor(9.9118, grad_fn=<AddBackward0>) tensor(143.8384, grad_fn=<MeanBackward0>) tensor([[ 0.0366,  0.0576,  0.1122],\n",
      "        [ 0.0113, -0.0402, -0.0421],\n",
      "        [-0.0364, -0.0282,  0.0283]], requires_grad=True)\n",
      "tensor(5.3388, grad_fn=<AddBackward0>) tensor(151.1162, grad_fn=<MeanBackward0>) tensor([[ 0.0365,  0.0575,  0.1120],\n",
      "        [ 0.0118, -0.0407, -0.0418],\n",
      "        [-0.0358, -0.0271,  0.0281]], requires_grad=True)\n",
      "tensor(13.7212, grad_fn=<AddBackward0>) tensor(145.7475, grad_fn=<MeanBackward0>) tensor([[ 0.0365,  0.0574,  0.1118],\n",
      "        [ 0.0129, -0.0396, -0.0415],\n",
      "        [-0.0363, -0.0268,  0.0277]], requires_grad=True)\n",
      "tensor(6.8021, grad_fn=<AddBackward0>) tensor(141.6094, grad_fn=<MeanBackward0>) tensor([[ 0.0365,  0.0571,  0.1122],\n",
      "        [ 0.0123, -0.0405, -0.0427],\n",
      "        [-0.0369, -0.0277,  0.0273]], requires_grad=True)\n",
      "tensor(5.3632, grad_fn=<AddBackward0>) tensor(145.2243, grad_fn=<MeanBackward0>) tensor([[ 0.0365,  0.0570,  0.1124],\n",
      "        [ 0.0126, -0.0402, -0.0404],\n",
      "        [-0.0370, -0.0283,  0.0269]], requires_grad=True)\n",
      "tensor(8.4916, grad_fn=<AddBackward0>) tensor(140.4986, grad_fn=<MeanBackward0>) tensor([[ 0.0365,  0.0571,  0.1126],\n",
      "        [ 0.0127, -0.0395, -0.0404],\n",
      "        [-0.0366, -0.0283,  0.0270]], requires_grad=True)\n",
      "tensor(8.2238, grad_fn=<AddBackward0>) tensor(140.3988, grad_fn=<MeanBackward0>) tensor([[ 0.0365,  0.0571,  0.1127],\n",
      "        [ 0.0130, -0.0402, -0.0408],\n",
      "        [-0.0367, -0.0287,  0.0272]], requires_grad=True)\n",
      "tensor(10.3016, grad_fn=<AddBackward0>) tensor(141.2080, grad_fn=<MeanBackward0>) tensor([[ 0.0365,  0.0573,  0.1123],\n",
      "        [ 0.0113, -0.0401, -0.0424],\n",
      "        [-0.0368, -0.0285,  0.0276]], requires_grad=True)\n",
      "tensor(11.0530, grad_fn=<AddBackward0>) tensor(147.3995, grad_fn=<MeanBackward0>) tensor([[ 0.0368,  0.0577,  0.1116],\n",
      "        [ 0.0108, -0.0409, -0.0424],\n",
      "        [-0.0372, -0.0285,  0.0274]], requires_grad=True)\n",
      "tensor(7.5813, grad_fn=<AddBackward0>) tensor(152.5501, grad_fn=<MeanBackward0>) tensor([[ 0.0368,  0.0578,  0.1120],\n",
      "        [ 0.0094, -0.0399, -0.0412],\n",
      "        [-0.0369, -0.0282,  0.0276]], requires_grad=True)\n",
      "tensor(9.2070, grad_fn=<AddBackward0>) tensor(149.5768, grad_fn=<MeanBackward0>) tensor([[ 0.0368,  0.0583,  0.1119],\n",
      "        [ 0.0106, -0.0406, -0.0423],\n",
      "        [-0.0365, -0.0280,  0.0277]], requires_grad=True)\n",
      "tensor(7.3434, grad_fn=<AddBackward0>) tensor(151.2384, grad_fn=<MeanBackward0>) tensor([[ 0.0367,  0.0584,  0.1120],\n",
      "        [ 0.0118, -0.0405, -0.0423],\n",
      "        [-0.0360, -0.0276,  0.0271]], requires_grad=True)\n",
      "tensor(8.5818, grad_fn=<AddBackward0>) tensor(153.8816, grad_fn=<MeanBackward0>) tensor([[ 0.0366,  0.0585,  0.1122],\n",
      "        [ 0.0102, -0.0405, -0.0413],\n",
      "        [-0.0351, -0.0285,  0.0266]], requires_grad=True)\n",
      "tensor(10.9331, grad_fn=<AddBackward0>) tensor(146.9629, grad_fn=<MeanBackward0>) tensor([[ 0.0364,  0.0585,  0.1122],\n",
      "        [ 0.0095, -0.0403, -0.0416],\n",
      "        [-0.0354, -0.0298,  0.0256]], requires_grad=True)\n",
      "tensor(4.0123, grad_fn=<AddBackward0>) tensor(142.8575, grad_fn=<MeanBackward0>) tensor([[ 0.0362,  0.0584,  0.1118],\n",
      "        [ 0.0121, -0.0394, -0.0413],\n",
      "        [-0.0361, -0.0303,  0.0249]], requires_grad=True)\n",
      "tensor(7.3540, grad_fn=<AddBackward0>) tensor(146.8185, grad_fn=<MeanBackward0>) tensor([[ 0.0361,  0.0582,  0.1113],\n",
      "        [ 0.0124, -0.0409, -0.0410],\n",
      "        [-0.0361, -0.0300,  0.0250]], requires_grad=True)\n",
      "tensor(5.4664, grad_fn=<AddBackward0>) tensor(143.1171, grad_fn=<MeanBackward0>) tensor([[ 0.0361,  0.0580,  0.1112],\n",
      "        [ 0.0134, -0.0408, -0.0417],\n",
      "        [-0.0351, -0.0304,  0.0249]], requires_grad=True)\n"
     ]
    }
   ],
   "source": [
    "n_f = 3\n",
    "num_samples=100\n",
    "noise_std = 0.0025\n",
    "\n",
    "grasp_points = 0.05*torch.randn(n_f,3)\n",
    "grasp_points.requires_grad = True\n",
    "opt = torch.optim.Adam([grasp_points])\n",
    "\n",
    "def clip_loss(grasp_points, lb=100., ub=200.):\n",
    "    d = grasp_opt.nerf_densities(fine_model, grasp_points)\n",
    "    return torch.mean(torch.maximum(torch.zeros_like(d), torch.maximum(lb-d, d-ub)))\n",
    "\n",
    "for ii in range(500):\n",
    "    opt.zero_grad()\n",
    "    # G = grasp_opt.grasp_matrix(fine_model, grasp_points)\n",
    "    # loss = 1e-3*torch.square(clip_loss(grasp_points))# -torch.min(torch.linalg.svdvals(G))\n",
    "    d = grasp_opt.nerf_densities(fine_model, grasp_points)\n",
    "    gps = grasp_points.reshape(1, n_f, 3) + noise_std * torch.randn(num_samples, n_f, 3)\n",
    "    loss = clip_loss(gps) + grasp_opt.msv(fine_model, gps)\n",
    "    loss.backward()\n",
    "    # print(grasp_points[0].grad)\n",
    "    # print(grasp_opt.nerf_densities(fine_model, grasp_points))\n",
    "    if ii % 10 == 0: print(loss, torch.mean(d), grasp_points)\n",
    "    opt.step()"
   ]
  },
  {
   "cell_type": "code",
   "execution_count": 101,
   "id": "2eb4e1de-803d-46f6-a79e-b4c1a1212573",
   "metadata": {},
   "outputs": [
    {
     "name": "stderr",
     "output_type": "stream",
     "text": [
      "primitive has no mode! trying GL_TRIANGLES?\n",
      "primitive has no mode! trying GL_TRIANGLES?\n",
      "primitive has no mode! trying GL_TRIANGLES?\n",
      "concatenating texture: may result in visual artifacts\n"
     ]
    },
    {
     "data": {
      "text/plain": [
       "<trimesh.Trimesh(vertices.shape=(5236, 3), faces.shape=(6371, 3))>"
      ]
     },
     "execution_count": 101,
     "metadata": {},
     "output_type": "execute_result"
    }
   ],
   "source": [
    "gt_mesh = trimesh.load(\n",
    "    'nerf_shared/data/nerf_synthetic/teddy_bear/bear_demo.glb',\n",
    "    force='mesh')\n",
    "T = trimesh.transformations.euler_matrix(np.pi/2, 0., 0.,'rxyz')\n",
    "gt_mesh.apply_transform(T)"
   ]
  },
  {
   "cell_type": "code",
   "execution_count": 102,
   "id": "026dfd11-3b1e-457f-b00b-f1c7029c9422",
   "metadata": {},
   "outputs": [
    {
     "data": {
      "image/png": "[encoded data removed]",
      "text/plain": [
       "<Figure size 432x288 with 1 Axes>"
      ]
     },
     "metadata": {
      "needs_background": "light"
     },
     "output_type": "display_data"
    }
   ],
   "source": [
    "plane = 'xy'\n",
    "level = 0.\n",
    "\n",
    "fig = plt.figure()\n",
    "ax = fig.add_subplot(projection='3d')\n",
    "\n",
    "ax.scatter(*[gt_mesh.triangles_center[:, ii] for ii in range(3)], c='blue', alpha=0.025)\n",
    "ax.scatter([grasp_points[ii,0].cpu().detach() for ii in range(3)],\n",
    "           [grasp_points[ii,1].cpu().detach() for ii in range(3)],\n",
    "           [grasp_points[ii,2].cpu().detach() for ii in range(3)],\n",
    "           marker='*', s=100, c='orange')\n",
    "# ax.set_title('Density Contours, ' + plane + '-plane, ' + str(level))\n",
    "# plt.rcParams['font.size'] = '20'\n",
    "# ax.axis('off')\n",
    "plt.show()"
   ]
  },
  {
   "cell_type": "code",
   "execution_count": 71,
   "id": "5d2e4c8f-fceb-459d-b9ec-c92792b34d25",
   "metadata": {},
   "outputs": [
    {
     "ename": "SyntaxError",
     "evalue": "invalid syntax (3921528846.py, line 5)",
     "output_type": "error",
     "traceback": [
      "\u001b[0;36m  File \u001b[0;32m\"/tmp/ipykernel_31998/3921528846.py\"\u001b[0;36m, line \u001b[0;32m5\u001b[0m\n\u001b[0;31m    loss = torch.sum(torch.norm(g) fo r\u001b[0m\n\u001b[0m                                    ^\u001b[0m\n\u001b[0;31mSyntaxError\u001b[0m\u001b[0;31m:\u001b[0m invalid syntax\n"
     ]
    }
   ],
   "source": [
    "print(grasp_opt.nerf_grads(fine_model, grasp_points))\n",
    "print(grasp_opt.nerf_densities(fine_model, grasp_points))\n",
    "\n",
    "opt.zero_grad()\n",
    "loss = torch.sum(torch.norm(g) fo r\n",
    "loss.backward()\n",
    "grasp_points[0].grad\n",
    "opt.step()\n",
    "\n",
    "print(grasp_opt.nerf_densities(fine_model, grasp_points))\n"
   ]
  },
  {
   "cell_type": "code",
   "execution_count": 73,
   "id": "7be7333e-ae8e-4250-9467-a6c5988c44fb",
   "metadata": {},
   "outputs": [
    {
     "data": {
      "text/plain": [
       "tensor([[ 0.0128, -0.0739, -0.0815],\n",
       "        [-0.0380, -0.0607,  0.0463],\n",
       "        [ 0.0466, -0.0137, -0.0653]], requires_grad=True)"
      ]
     },
     "execution_count": 73,
     "metadata": {},
     "output_type": "execute_result"
    }
   ],
   "source": [
    "grasp_points"
   ]
  },
  {
   "cell_type": "code",
   "execution_count": 150,
   "id": "2f6f9197-4972-4e4e-9d4e-37bbaf27c23c",
   "metadata": {},
   "outputs": [
    {
     "data": {
      "text/plain": [
       "tensor(102.8788, grad_fn=<MeanBackward0>)"
      ]
     },
     "execution_count": 150,
     "metadata": {},
     "output_type": "execute_result"
    }
   ],
   "source": []
  },
  {
   "cell_type": "code",
   "execution_count": 105,
   "id": "fd7ef4df-3c1e-4fef-babf-705d02e3904a",
   "metadata": {},
   "outputs": [
    {
     "data": {
      "text/plain": [
       "tensor([[239.1823]], grad_fn=<SelectBackward0>)"
      ]
     },
     "execution_count": 105,
     "metadata": {},
     "output_type": "execute_result"
    }
   ],
   "source": []
  },
  {
   "cell_type": "code",
   "execution_count": 36,
   "id": "7524e8db-9a30-4709-84f5-b00bc4bdb964",
   "metadata": {},
   "outputs": [
    {
     "name": "stdout",
     "output_type": "stream",
     "text": [
      "tensor([[-0.0546, -0.0136,  0.0049],\n",
      "        [-0.0726, -0.0406, -0.0145],\n",
      "        [-0.0693, -0.0243, -0.0063],\n",
      "        [-0.0537, -0.0190, -0.0028],\n",
      "        [-0.0668, -0.0419, -0.0085],\n",
      "        [-0.0600, -0.0263, -0.0115],\n",
      "        [-0.0583, -0.0200, -0.0079],\n",
      "        [-0.0457, -0.0200, -0.0075],\n",
      "        [-0.0661, -0.0330, -0.0189],\n",
      "        [-0.0488, -0.0332, -0.0007]], grad_fn=<AddBackward0>)\n"
     ]
    }
   ],
   "source": []
  }
 ],
 "metadata": {
  "kernelspec": {
   "display_name": "nerf_grasping",
   "language": "python",
   "name": "nerf_grasping"
  },
  "language_info": {
   "codemirror_mode": {
    "name": "ipython",
    "version": 3
   },
   "file_extension": ".py",
   "mimetype": "text/x-python",
   "name": "python",
   "nbconvert_exporter": "python",
   "pygments_lexer": "ipython3",
   "version": "3.7.12"
  }
 },
 "nbformat": 4,
 "nbformat_minor": 5
}
