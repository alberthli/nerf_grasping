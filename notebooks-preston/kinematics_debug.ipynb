{
 "cells": [
  {
   "cell_type": "code",
   "execution_count": 24,
   "id": "fe88bf81-d36c-4b17-af0c-600201aed3b8",
   "metadata": {},
   "outputs": [
    {
     "name": "stdout",
     "output_type": "stream",
     "text": [
      "The autoreload extension is already loaded. To reload it, use:\n",
      "  %reload_ext autoreload\n"
     ]
    }
   ],
   "source": [
    "import numpy as np\n",
    "import pinocchio as pin\n",
    "from nerf_grasping import kinematics_utils\n",
    "%load_ext autoreload\n",
    "%autoreload 2"
   ]
  },
  {
   "cell_type": "code",
   "execution_count": 26,
   "id": "31c1d630-d53e-4cf9-89de-a4c5e4f93dfc",
   "metadata": {},
   "outputs": [
    {
     "name": "stdout",
     "output_type": "stream",
     "text": [
      "universe                 :  0.00  0.00  0.00\n",
      "finger_base_to_upper_joint_0 :  0.00  0.04  0.34\n",
      "finger_upper_to_middle_joint_0 :  0.00  0.04  0.34\n",
      "finger_middle_to_lower_joint_0 :  0.01  0.04  0.50\n",
      "finger_base_to_upper_joint_120 :  0.03 -0.02  0.34\n",
      "finger_upper_to_middle_joint_120 :  0.03 -0.02  0.34\n",
      "finger_middle_to_lower_joint_120 :  0.07  0.13  0.29\n",
      "finger_base_to_upper_joint_240 : -0.03 -0.02  0.34\n",
      "finger_upper_to_middle_joint_240 : -0.03 -0.02  0.34\n",
      "finger_middle_to_lower_joint_240 : -0.18 -0.01  0.40\n"
     ]
    }
   ],
   "source": [
    "urdf_filename = 'assets/trifinger/robot_properties_fingers/urdf/trifinger_with_stage.urdf'\n",
    "model = pin.buildModelFromUrdf(urdf_filename)\n",
    "data = model.createData()\n",
    "q = pin.randomConfiguration(model)\n",
    "\n",
    "frame_placement = pin.SE3.Random()\n",
    "frame_type = pin.FrameType.OP_FRAME\n",
    "kinematics_utils.add_ground_coll_frames(model)\n",
    "model.addFrame(pin.Frame('test_frame', 4, 0, frame_placement, frame_type))\n",
    "pin.forwardKinematics(model, data, q)\n",
    "pin.updateFramePlacements(model, data)\n",
    "\n",
    "for name, oMi in zip(model.names, data.oMi):\n",
    "    print((\"{:<24} : {: .2f} {: .2f} {: .2f}\".format(name,\n",
    "                                                     *oMi.translation.T.flat)))"
   ]
  },
  {
   "cell_type": "code",
   "execution_count": 3,
   "id": "274db250-d182-4cbd-99f7-7c0712633da9",
   "metadata": {},
   "outputs": [
    {
     "data": {
      "text/plain": [
       "  R =\n",
       "    0.99748 0.000388948   0.0709485\n",
       "          0   -0.999985  0.00548203\n",
       "  0.0709496 -0.00546822   -0.997465\n",
       "  p = -0.0191186 -0.0775661   0.608789"
      ]
     },
     "execution_count": 3,
     "metadata": {},
     "output_type": "execute_result"
    }
   ],
   "source": [
    "fingertip_id = model.getFrameId('finger_tip_link_0')\n",
    "T = pin.updateFramePlacement(model, data, fingertip_id)\n",
    "T"
   ]
  },
  {
   "cell_type": "code",
   "execution_count": 4,
   "id": "cd2fed8a-3c6a-4ad7-aa85-0f5a28d64396",
   "metadata": {},
   "outputs": [
    {
     "data": {
      "text/plain": [
       "  R =\n",
       " 0.951969  0.301018 0.0560599\n",
       "        0 -0.183086  0.983097\n",
       " 0.306194 -0.935878 -0.174292\n",
       "  p =  0.0316362 -0.0277779   0.241642"
      ]
     },
     "execution_count": 4,
     "metadata": {},
     "output_type": "execute_result"
    }
   ],
   "source": [
    "q = pin.randomConfiguration(model)\n",
    "pin.framesForwardKinematics(model, data, q)\n",
    "tip0 = model.getFrameId('finger_tip_link_0')\n",
    "J = pin.computeFrameJacobian(model, data, q, tip0)\n",
    "pin.updateFramePlacement(model, data, fingertip_id)"
   ]
  },
  {
   "cell_type": "code",
   "execution_count": 19,
   "id": "18655d1e-818f-450c-9ed6-79f841beb7b3",
   "metadata": {},
   "outputs": [
    {
     "name": "stdout",
     "output_type": "stream",
     "text": [
      "0.6929150524849133\n",
      "0.5606856305834215\n",
      "0.5166100234308947\n",
      "0.47419330258288966\n",
      "0.43395599151605035\n",
      "0.39601898582869\n",
      "0.35967740176932395\n",
      "0.31700829127237795\n",
      "0.2961816047997018\n",
      "0.27614900136966425\n",
      "0.25682117663508297\n",
      "0.23821875244539908\n",
      "0.22043460422323535\n",
      "0.2035857967614964\n",
      "0.18777377288116553\n",
      "0.17306425644637521\n",
      "0.15948557557306786\n",
      "0.14703903078477149\n",
      "0.13572617665581901\n",
      "0.1258167401354821\n",
      "0.11607990398935793\n",
      "0.10725430435747084\n",
      "0.09927808053733442\n",
      "0.09207459430347088\n",
      "0.08556714017375097\n",
      "0.07968461622072774\n",
      "0.0743615900316012\n",
      "0.06953780476212955\n",
      "0.06515798227313484\n",
      "0.06117177406987926\n",
      "0.057533712602622133\n",
      "0.05420309854127953\n",
      "0.05114380835696952\n",
      "0.04832402967461748\n",
      "0.045715941548916825\n",
      "0.04329535956749155\n",
      "0.041041364785194934\n",
      "0.03893593274451667\n",
      "0.036963575323939325\n",
      "0.03511100455474216\n",
      "0.03336682426024476\n",
      "0.03172125260801838\n",
      "0.030165876496752946\n",
      "0.028693437107977074\n",
      "0.02729764487065578\n",
      "0.025973021423234974\n",
      "0.0247147658187053\n",
      "0.023518642117033067\n",
      "0.022380885572258268\n",
      "0.02129812478980611\n"
     ]
    }
   ],
   "source": [
    "q = pin.randomConfiguration(model)\n",
    "tip_ids = kinematics_utils.get_tip_ids(model)\n",
    "\n",
    "p_des = np.array([[\n",
    "    0.0,\n",
    "    0.10,\n",
    "    0.05,\n",
    "], [\n",
    "    0.05,\n",
    "    -0.10,\n",
    "    0.05,\n",
    "], [\n",
    "    -0.05,\n",
    "    -0.10,\n",
    "    0.05,\n",
    "]]).reshape(-1)\n",
    "\n",
    "for ii in range(50):\n",
    "    pin.forwardKinematics(model, data, q)\n",
    "    J = kinematics_utils.get_fingertip_jacobian(model, data, q)\n",
    "    p = np.concatenate([\n",
    "        pin.updateFramePlacement(model, data, tt).translation for tt in tip_ids\n",
    "    ],\n",
    "                       axis=0)\n",
    "\n",
    "    dq = -np.linalg.inv(J.T @ J + 1e-10 * np.eye(9)) @ J.T @ (p - p_des)\n",
    "\n",
    "    q = q + 0.1 * dq\n",
    "\n",
    "    print(np.linalg.norm(p_des - p))"
   ]
  },
  {
   "cell_type": "code",
   "execution_count": 14,
   "id": "ce5fae14-91ed-4ded-9f9a-42f1fbffca97",
   "metadata": {},
   "outputs": [],
   "source": [
    "dq = np.random.randn(9).astype('float')\n",
    "pin.forwardKinematics(model, data, q, dq)\n",
    "fv = pin.getFrameVelocity(model, data, tip_ids[0])"
   ]
  },
  {
   "cell_type": "code",
   "execution_count": 13,
   "id": "cc2bab1b-ba13-48c6-8d8d-c581962d761c",
   "metadata": {},
   "outputs": [
    {
     "name": "stdout",
     "output_type": "stream",
     "text": [
      "<class 'numpy.ndarray'> <class 'numpy.ndarray'>\n"
     ]
    }
   ],
   "source": [
    "ddq0 = np.zeros_like(dq)\n",
    "b = pin.rnea(model, data, q, dq, ddq0)\n",
    "M = pin.crba(model, data, q)\n",
    "\n",
    "pin.forwardKinematics(model, data, q, dq)\n",
    "\n",
    "print(type(q), type(dq))"
   ]
  },
  {
   "cell_type": "code",
   "execution_count": null,
   "id": "b04a9af0-8358-4e25-9bc2-2807245948b8",
   "metadata": {},
   "outputs": [],
   "source": [
    "[ff.name for ff in model.frames]"
   ]
  },
  {
   "cell_type": "code",
   "execution_count": 23,
   "id": "8b57bbd3-b55d-47ae-b676-7d9b00755c5d",
   "metadata": {},
   "outputs": [],
   "source": [
    "tip_ids = kinematics_utils.get_tip_ids(model)\n",
    "model.frames[tip_ids[0]].placement.translation += np.ones(3)"
   ]
  },
  {
   "cell_type": "code",
   "execution_count": 10,
   "id": "8f0df6b4-b44a-43ed-9e48-d98cba49e8d8",
   "metadata": {},
   "outputs": [
    {
     "data": {
      "text/plain": [
       "[[39,\n",
       "  40,\n",
       "  41,\n",
       "  42,\n",
       "  43,\n",
       "  44,\n",
       "  45,\n",
       "  46,\n",
       "  47,\n",
       "  48,\n",
       "  49,\n",
       "  50,\n",
       "  51,\n",
       "  52,\n",
       "  53,\n",
       "  54,\n",
       "  55,\n",
       "  56,\n",
       "  57,\n",
       "  58],\n",
       " [59,\n",
       "  60,\n",
       "  61,\n",
       "  62,\n",
       "  63,\n",
       "  64,\n",
       "  65,\n",
       "  66,\n",
       "  67,\n",
       "  68,\n",
       "  69,\n",
       "  70,\n",
       "  71,\n",
       "  72,\n",
       "  73,\n",
       "  74,\n",
       "  75,\n",
       "  76,\n",
       "  77,\n",
       "  78],\n",
       " [79,\n",
       "  80,\n",
       "  81,\n",
       "  82,\n",
       "  83,\n",
       "  84,\n",
       "  85,\n",
       "  86,\n",
       "  87,\n",
       "  88,\n",
       "  89,\n",
       "  90,\n",
       "  91,\n",
       "  92,\n",
       "  93,\n",
       "  94,\n",
       "  95,\n",
       "  96,\n",
       "  97,\n",
       "  98]]"
      ]
     },
     "execution_count": 10,
     "metadata": {},
     "output_type": "execute_result"
    }
   ],
   "source": [
    "kinematics_utils.get_ground_coll_frame_ids(model)"
   ]
  }
 ],
 "metadata": {
  "kernelspec": {
   "display_name": "nerf_grasping",
   "language": "python",
   "name": "nerf_grasping"
  },
  "language_info": {
   "codemirror_mode": {
    "name": "ipython",
    "version": 3
   },
   "file_extension": ".py",
   "mimetype": "text/x-python",
   "name": "python",
   "nbconvert_exporter": "python",
   "pygments_lexer": "ipython3",
   "version": "3.7.12"
  }
 },
 "nbformat": 4,
 "nbformat_minor": 5
}
