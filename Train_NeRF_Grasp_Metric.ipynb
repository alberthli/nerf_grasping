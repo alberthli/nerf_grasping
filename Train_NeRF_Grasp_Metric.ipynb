{
 "cells": [
  {
   "cell_type": "markdown",
   "id": "9a59aada-fcf6-41d9-849d-31d71845789e",
   "metadata": {},
   "source": [
    "# Train NeRF Grasp Metric\n",
    "\n",
    "## Summary (April 18, 2023)\n",
    "\n",
    "The purpose of this script is to train a neural network model to take in:\n",
    "\n",
    "* a NeRF object model\n",
    "\n",
    "* $n$ ray origins and directions representating fingers approaching (for now, $n = 2$)\n",
    "\n",
    "and output:\n",
    "\n",
    "* a grasp metric $g$ representing the quality of grasp (for now, $g \\in [0, 1]$, where 0 is failed grasp and 1 is successful grasp).\n",
    "\n",
    "To do this, we will be using the [ACRONYM dataset](https://sites.google.com/nvidia.com/graspdataset), which contains ~1.7M grasps on over 8k objects each labeled with the grasp success."
   ]
  },
  {
   "cell_type": "code",
   "execution_count": 1,
   "id": "cd4caff0-c4d7-4fc8-ab24-2100638b6432",
   "metadata": {
    "lines_to_next_cell": 2,
    "tags": []
   },
   "outputs": [],
   "source": [
    "import wandb\n",
    "import h5py\n",
    "import numpy as np\n",
    "from localscope import localscope\n",
    "import time\n",
    "\n",
    "import random\n",
    "import torch"
   ]
  },
  {
   "cell_type": "markdown",
   "id": "692bc431-a97c-46d5-86e7-53099f71d3a1",
   "metadata": {
    "lines_to_next_cell": 2
   },
   "source": [
    "# Read In Config"
   ]
  },
  {
   "cell_type": "code",
   "execution_count": 2,
   "id": "d160ff32-6f17-46be-a748-17f7ec3f05c0",
   "metadata": {
    "lines_to_next_cell": 2
   },
   "outputs": [],
   "source": [
    "def is_notebook() -> bool:\n",
    "    try:\n",
    "        shell = get_ipython().__class__.__name__\n",
    "        if shell == \"ZMQInteractiveShell\":\n",
    "            return True  # Jupyter notebook or qtconsole\n",
    "        elif shell == \"TerminalInteractiveShell\":\n",
    "            return False  # Terminal running IPython\n",
    "        else:\n",
    "            return False  # Other type (?)\n",
    "    except NameError:\n",
    "        return False  # Probably standard Python interpreter"
   ]
  },
  {
   "cell_type": "code",
   "execution_count": 3,
   "id": "e3a3cb37-5512-49e4-86e4-0a36360bc5cd",
   "metadata": {},
   "outputs": [],
   "source": [
    "# Use with hydra later\n",
    "# if is_notebook():\n",
    "#     arguments = []\n",
    "# else:\n",
    "#     arguments = sys.argv[1:]\n",
    "#     print(f\"arguments = {arguments}\")\n",
    "#\n",
    "# OmegaConf.register_new_resolver(\"eval\", eval)\n",
    "# with initialize(version_base=None, config_path=\"train_bc_config_files\"):\n",
    "#     cfg = compose(config_name=\"config\", overrides=arguments)\n",
    "#     print(OmegaConf.to_yaml(cfg))"
   ]
  },
  {
   "cell_type": "code",
   "execution_count": null,
   "id": "15119b88-4e64-46f0-b86b-231dca30ba59",
   "metadata": {},
   "outputs": [],
   "source": []
  },
  {
   "cell_type": "markdown",
   "id": "82276de1-7ebd-400f-9bfb-0349cdee4d06",
   "metadata": {},
   "source": [
    "# Setup Wandb"
   ]
  },
  {
   "cell_type": "code",
   "execution_count": 4,
   "id": "ae76c9cd-76d5-4316-9f19-78c357be403b",
   "metadata": {},
   "outputs": [],
   "source": [
    "\n",
    "# time_str = datetime.now().strftime(\"%Y-%m-%d_%H-%M-%S\")\n",
    "# run_name = f\"{cfg.wandb_name}_{time_str}\" if len(cfg.wandb_name) > 0 else time_str\n",
    "\n",
    "# wandb.init(entity=cfg.wandb_entity,\n",
    "#            project=cfg.wandb_project,\n",
    "#            name=run_name,\n",
    "#            group=cfg.wandb_group if len(cfg.wandb_group) > 0 else None,\n",
    "#            job_type=cfg.wandb_job_type if len(cfg.wandb_job_type) > 0 else None,\n",
    "#            config=OmegaConf.to_container(cfg),\n",
    "#            reinit=True)"
   ]
  },
  {
   "cell_type": "code",
   "execution_count": 5,
   "id": "f8f47fdf-ac47-49a6-a7fc-b55e663bcac6",
   "metadata": {},
   "outputs": [],
   "source": [
    "\n",
    "\n",
    "@localscope.mfc\n",
    "def set_seed(seed):\n",
    "    random.seed(seed)\n",
    "    torch.manual_seed(seed)\n",
    "    torch.cuda.manual_seed(seed)\n",
    "    np.random.seed(seed)\n",
    "    torch.set_num_threads(1)\n",
    "\n",
    "\n",
    "# set_seed(cfg.RANDOM_SEED)"
   ]
  },
  {
   "cell_type": "markdown",
   "id": "7dd896a0-e1b8-4937-a961-dd5a86ad8300",
   "metadata": {},
   "source": [
    "# Load Data From Files"
   ]
  },
  {
   "cell_type": "code",
   "execution_count": 6,
   "id": "146a7dc2-5c73-4d38-964e-cdf9ae274203",
   "metadata": {
    "tags": []
   },
   "outputs": [],
   "source": [
    "# TODO: Need way to connect an acronym file to a nerf model nicely\n",
    "nerf_model_workspace = (\n",
    "    \"torch-ngp/isaac_Mug_10f6e09036350e92b3f21f1137c3c347_0.0002682458/\"\n",
    ")\n",
    "acronym_filepath = \"/juno/u/tylerlum/github_repos/acronym/data/grasps/Mug_10f6e09036350e92b3f21f1137c3c347_0.0002682457830986903.h5\""
   ]
  },
  {
   "cell_type": "code",
   "execution_count": 7,
   "id": "a8dbff02-f191-4673-8751-2b710ebbcf96",
   "metadata": {
    "tags": []
   },
   "outputs": [],
   "source": [
    "acronym_data = h5py.File(acronym_filepath, \"r\")\n",
    "mesh_scale = float(acronym_data[\"object/scale\"][()])\n",
    "\n",
    "grasp_transforms = np.array(acronym_data[\"grasps/transforms\"])\n",
    "grasp_successes = np.array(acronym_data[\"grasps/qualities/flex/object_in_gripper\"])"
   ]
  },
  {
   "cell_type": "code",
   "execution_count": 8,
   "id": "9439b90a-90b3-4b05-842d-af0619c9d329",
   "metadata": {
    "tags": []
   },
   "outputs": [
    {
     "name": "stdout",
     "output_type": "stream",
     "text": [
      "grasp_transforms.shape = (2000, 4, 4)\n",
      "grasp_successes.shape = (2000,)\n"
     ]
    }
   ],
   "source": [
    "print(f\"{grasp_transforms.shape = }\")\n",
    "print(f\"{grasp_successes.shape = }\")"
   ]
  },
  {
   "cell_type": "code",
   "execution_count": 9,
   "id": "cbb20c14-2e99-437e-9986-887a587abf45",
   "metadata": {
    "tags": []
   },
   "outputs": [],
   "source": [
    "LEFT_TIP_POSITION_GRASP_FRAME = np.array(\n",
    "    [4.10000000e-02, -7.27595772e-12, 1.12169998e-01]\n",
    ")\n",
    "RIGHT_TIP_POSITION_GRASP_FRAME = np.array(\n",
    "    [-4.10000000e-02, -7.27595772e-12, 1.12169998e-01]\n",
    ")"
   ]
  },
  {
   "cell_type": "code",
   "execution_count": 10,
   "id": "2a7e7363-f7ec-4e23-9e2a-e6ada8a40d10",
   "metadata": {},
   "outputs": [],
   "source": [
    "@localscope.mfc\n",
    "def position_to_transformed_positions(position, transforms):\n",
    "    assert position.shape == (3,)\n",
    "    assert len(transforms.shape) == 3 and transforms.shape[1:] == (4, 4)\n",
    "    num_transforms = transforms.shape[0]\n",
    "\n",
    "    transformed_positions = (transforms @ np.array([*position, 1.0]).reshape(1, 4, 1))[\n",
    "        :, :3, :\n",
    "    ].squeeze()\n",
    "    assert transformed_positions.shape == (num_transforms, 3)\n",
    "    return transformed_positions\n",
    "\n",
    "\n",
    "@localscope.mfc\n",
    "def position_to_transformed_positions_unvectorized(position, transforms):\n",
    "    assert position.shape == (3,)\n",
    "    assert len(transforms.shape) == 3 and transforms.shape[1:] == (4, 4)\n",
    "    num_transforms = transforms.shape[0]\n",
    "\n",
    "    transformed_positions = []\n",
    "    for i in range(num_transforms):\n",
    "        transformed_positions.append((transforms[i] @ np.array([*position, 1.0]))[:3])\n",
    "    transformed_positions = np.stack(transformed_positions)\n",
    "    return transformed_positions"
   ]
  },
  {
   "cell_type": "code",
   "execution_count": 11,
   "id": "41c6ab90-2aff-4846-ba67-13f6bc9f3a63",
   "metadata": {
    "tags": []
   },
   "outputs": [
    {
     "name": "stdout",
     "output_type": "stream",
     "text": [
      "In ms, took 13.22\n"
     ]
    }
   ],
   "source": [
    "# Non-vectorized\n",
    "start = time.time()\n",
    "left_tip_positions_object_frame = position_to_transformed_positions_unvectorized(\n",
    "    position=LEFT_TIP_POSITION_GRASP_FRAME, transforms=grasp_transforms\n",
    ")\n",
    "print(f\"In ms, took {1000 * (time.time() - start):.2f}\")"
   ]
  },
  {
   "cell_type": "code",
   "execution_count": 12,
   "id": "6d2d1860-de63-4c9b-a1f2-b818c48cc34d",
   "metadata": {
    "tags": []
   },
   "outputs": [
    {
     "data": {
      "text/plain": [
       "(2000, 3)"
      ]
     },
     "execution_count": 12,
     "metadata": {},
     "output_type": "execute_result"
    }
   ],
   "source": [
    "left_tip_positions_object_frame.shape"
   ]
  },
  {
   "cell_type": "code",
   "execution_count": 13,
   "id": "8bc0b7a4-1523-41d7-8477-b56ac3ad50b9",
   "metadata": {
    "tags": []
   },
   "outputs": [
    {
     "name": "stdout",
     "output_type": "stream",
     "text": [
      "In ms, took 0.71\n"
     ]
    }
   ],
   "source": [
    "# Vectorized version\n",
    "start = time.time()\n",
    "left_tip_positions_object_frame_2 = position_to_transformed_positions(\n",
    "    position=LEFT_TIP_POSITION_GRASP_FRAME, transforms=grasp_transforms\n",
    ")\n",
    "print(f\"In ms, took {1000 * (time.time() - start):.2f}\")"
   ]
  },
  {
   "cell_type": "code",
   "execution_count": 14,
   "id": "d3f0bf7a-acd7-4a8a-9ebf-5cc8bd9b0d5c",
   "metadata": {
    "tags": []
   },
   "outputs": [
    {
     "data": {
      "text/plain": [
       "(2000, 3)"
      ]
     },
     "execution_count": 14,
     "metadata": {},
     "output_type": "execute_result"
    }
   ],
   "source": [
    "left_tip_positions_object_frame_2.shape"
   ]
  },
  {
   "cell_type": "code",
   "execution_count": 15,
   "id": "0b3bae00-4012-4204-a215-6ac7c5f68cc7",
   "metadata": {
    "tags": []
   },
   "outputs": [
    {
     "data": {
      "text/plain": [
       "0.0"
      ]
     },
     "execution_count": 15,
     "metadata": {},
     "output_type": "execute_result"
    }
   ],
   "source": [
    "np.max(np.abs(left_tip_positions_object_frame_2 - left_tip_positions_object_frame))"
   ]
  },
  {
   "cell_type": "markdown",
   "id": "92a53641-fee1-4d15-a169-ce44aeb3f270",
   "metadata": {},
   "source": [
    "# Create Dataset"
   ]
  },
  {
   "cell_type": "markdown",
   "id": "023dbb5b-2005-4cb5-a036-c5c7dc74e978",
   "metadata": {},
   "source": [
    "# Visualize Data"
   ]
  },
  {
   "cell_type": "markdown",
   "id": "d740e882-dacf-4292-a494-c97602251802",
   "metadata": {},
   "source": [
    "# Create Model"
   ]
  },
  {
   "cell_type": "markdown",
   "id": "19e0fc77-59d6-4e75-a6bc-f35d5bb3d11a",
   "metadata": {
    "tags": []
   },
   "source": [
    "# Run Training"
   ]
  },
  {
   "cell_type": "markdown",
   "id": "ce41955c-2ed5-4c08-bb72-b4cb12b925a3",
   "metadata": {},
   "source": [
    "# Run Evaluation"
   ]
  },
  {
   "cell_type": "markdown",
   "id": "9afcd138-6d40-4a73-96c0-3c6de957fb8b",
   "metadata": {},
   "source": [
    "# Visualize Results"
   ]
  },
  {
   "cell_type": "code",
   "execution_count": null,
   "id": "1150570b-9b59-4c67-9585-7693c6b943d5",
   "metadata": {},
   "outputs": [],
   "source": []
  }
 ],
 "metadata": {
  "jupytext": {
   "formats": "ipynb,py:percent"
  },
  "kernelspec": {
   "display_name": "Python 3 (ipykernel)",
   "language": "python",
   "name": "python3"
  },
  "language_info": {
   "codemirror_mode": {
    "name": "ipython",
    "version": 3
   },
   "file_extension": ".py",
   "mimetype": "text/x-python",
   "name": "python",
   "nbconvert_exporter": "python",
   "pygments_lexer": "ipython3",
   "version": "3.8.16"
  }
 },
 "nbformat": 4,
 "nbformat_minor": 5
}
