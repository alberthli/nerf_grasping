{
 "cells": [
  {
   "cell_type": "code",
   "execution_count": 1,
   "id": "3da662e7-d361-4f59-9bc2-3af27f7bba94",
   "metadata": {
    "execution": {
     "iopub.execute_input": "2022-06-11T00:54:20.883293Z",
     "iopub.status.busy": "2022-06-11T00:54:20.883011Z",
     "iopub.status.idle": "2022-06-11T00:54:20.896446Z",
     "shell.execute_reply": "2022-06-11T00:54:20.895846Z",
     "shell.execute_reply.started": "2022-06-11T00:54:20.883213Z"
    },
    "tags": []
   },
   "outputs": [],
   "source": [
    "%load_ext autoreload\n",
    "%autoreload 2"
   ]
  },
  {
   "cell_type": "code",
   "execution_count": 2,
   "id": "15a7e1a1-b229-46c9-b9f8-833c3522d988",
   "metadata": {
    "execution": {
     "iopub.execute_input": "2022-06-11T00:54:20.897257Z",
     "iopub.status.busy": "2022-06-11T00:54:20.897104Z",
     "iopub.status.idle": "2022-06-11T00:54:24.089066Z",
     "shell.execute_reply": "2022-06-11T00:54:24.088509Z",
     "shell.execute_reply.started": "2022-06-11T00:54:20.897228Z"
    },
    "tags": []
   },
   "outputs": [
    {
     "name": "stdout",
     "output_type": "stream",
     "text": [
      "Importing module 'gym_37' (/scr-ssd/ksrini/Downloads/isaacgym-3/python/isaacgym/_bindings/linux-x86_64/gym_37.so)\n",
      "Setting GYM_USD_PLUG_INFO_PATH to /scr-ssd/ksrini/Downloads/isaacgym-3/python/isaacgym/_bindings/linux-x86_64/usd/plugInfo.json\n",
      "PyTorch version 1.11.0+cu113\n",
      "Device count 1\n",
      "/scr-ssd/ksrini/Downloads/isaacgym-3/python/isaacgym/_bindings/src/gymtorch\n",
      "Using /afs/cs.stanford.edu/u/ksrini/.cache/torch_extensions/py37_cu113 as PyTorch extensions root...\n",
      "Emitting ninja build file /afs/cs.stanford.edu/u/ksrini/.cache/torch_extensions/py37_cu113/gymtorch/build.ninja...\n",
      "Building extension module gymtorch...\n",
      "Allowing ninja to set a default number of workers... (overridable by setting the environment variable MAX_JOBS=N)\n",
      "Loading extension module gymtorch...\n",
      "WARNING: Unable to import pinocchio, skipping import\n",
      "WARNING: Unable to import pinocchio, skipping import\n",
      "WARNING: Unable to import pinocchio, skipping import\n"
     ]
    }
   ],
   "source": [
    "import numpy as np\n",
    "from isaacgym import gymapi\n",
    "from nerf_grasping.sim import ig_objects, ig_utils\n",
    "from nerf_grasping.sim.ig_robot import FingertipRobot\n",
    "from nerf_grasping.sim import ig_viz_utils\n",
    "from nerf_grasping import grasp_utils\n",
    "import torch"
   ]
  },
  {
   "cell_type": "code",
   "execution_count": 3,
   "id": "abad3c06-2ba6-4cc0-8bdc-6c771c8877a6",
   "metadata": {
    "execution": {
     "iopub.execute_input": "2022-06-11T00:54:24.090010Z",
     "iopub.status.busy": "2022-06-11T00:54:24.089845Z",
     "iopub.status.idle": "2022-06-11T00:54:28.759259Z",
     "shell.execute_reply": "2022-06-11T00:54:28.758293Z",
     "shell.execute_reply.started": "2022-06-11T00:54:24.089989Z"
    },
    "tags": []
   },
   "outputs": [
    {
     "data": {
      "text/html": [
       "<pre style=\"white-space:pre;overflow-x:auto;line-height:normal;font-family:Menlo,'DejaVu Sans Mono',consolas,'Courier New',monospace\"><span style=\"font-weight: bold\">[</span>INFO<span style=\"font-weight: bold\">]</span> Trainer: ngp | <span style=\"color: #008080; text-decoration-color: #008080; font-weight: bold\">2022</span>-<span style=\"color: #008080; text-decoration-color: #008080; font-weight: bold\">06</span>-10_17-<span style=\"color: #008080; text-decoration-color: #008080; font-weight: bold\">54</span>-<span style=\"color: #008080; text-decoration-color: #008080; font-weight: bold\">26</span> | cu<span style=\"color: #00ff00; text-decoration-color: #00ff00; font-weight: bold\">da:0</span> | fp32 | \n",
       "<span style=\"color: #800080; text-decoration-color: #800080\">/scr-ssd/ksrini/nerf_grasping/torch-ngp/logs/</span><span style=\"color: #ff00ff; text-decoration-color: #ff00ff\">banana</span>\n",
       "</pre>\n"
      ],
      "text/plain": [
       "\u001b[1m[\u001b[0mINFO\u001b[1m]\u001b[0m Trainer: ngp | \u001b[1;36m2022\u001b[0m-\u001b[1;36m06\u001b[0m-10_17-\u001b[1;36m54\u001b[0m-\u001b[1;36m26\u001b[0m | cu\u001b[1;92mda:0\u001b[0m | fp32 | \n",
       "\u001b[35m/scr-ssd/ksrini/nerf_grasping/torch-ngp/logs/\u001b[0m\u001b[95mbanana\u001b[0m\n"
      ]
     },
     "metadata": {},
     "output_type": "display_data"
    },
    {
     "data": {
      "text/html": [
       "<pre style=\"white-space:pre;overflow-x:auto;line-height:normal;font-family:Menlo,'DejaVu Sans Mono',consolas,'Courier New',monospace\"><span style=\"font-weight: bold\">[</span>INFO<span style=\"font-weight: bold\">]</span> #parameters: <span style=\"color: #008080; text-decoration-color: #008080; font-weight: bold\">12667002</span>\n",
       "</pre>\n"
      ],
      "text/plain": [
       "\u001b[1m[\u001b[0mINFO\u001b[1m]\u001b[0m #parameters: \u001b[1;36m12667002\u001b[0m\n"
      ]
     },
     "metadata": {},
     "output_type": "display_data"
    },
    {
     "data": {
      "text/html": [
       "<pre style=\"white-space:pre;overflow-x:auto;line-height:normal;font-family:Menlo,'DejaVu Sans Mono',consolas,'Courier New',monospace\"><span style=\"font-weight: bold\">[</span>INFO<span style=\"font-weight: bold\">]</span> Loading latest checkpoint <span style=\"color: #808000; text-decoration-color: #808000\">...</span>\n",
       "</pre>\n"
      ],
      "text/plain": [
       "\u001b[1m[\u001b[0mINFO\u001b[1m]\u001b[0m Loading latest checkpoint \u001b[33m...\u001b[0m\n"
      ]
     },
     "metadata": {},
     "output_type": "display_data"
    },
    {
     "data": {
      "text/html": [
       "<pre style=\"white-space:pre;overflow-x:auto;line-height:normal;font-family:Menlo,'DejaVu Sans Mono',consolas,'Courier New',monospace\"><span style=\"font-weight: bold\">[</span>INFO<span style=\"font-weight: bold\">]</span> Latest checkpoint is \n",
       "<span style=\"color: #800080; text-decoration-color: #800080\">/scr-ssd/ksrini/nerf_grasping/torch-ngp/logs/banana/checkpoints/</span><span style=\"color: #ff00ff; text-decoration-color: #ff00ff\">ngp_ep0200.pth.tar</span>\n",
       "</pre>\n"
      ],
      "text/plain": [
       "\u001b[1m[\u001b[0mINFO\u001b[1m]\u001b[0m Latest checkpoint is \n",
       "\u001b[35m/scr-ssd/ksrini/nerf_grasping/torch-ngp/logs/banana/checkpoints/\u001b[0m\u001b[95mngp_ep0200.pth.tar\u001b[0m\n"
      ]
     },
     "metadata": {},
     "output_type": "display_data"
    },
    {
     "data": {
      "text/html": [
       "<pre style=\"white-space:pre;overflow-x:auto;line-height:normal;font-family:Menlo,'DejaVu Sans Mono',consolas,'Courier New',monospace\"><span style=\"font-weight: bold\">[</span>INFO<span style=\"font-weight: bold\">]</span> loaded model.\n",
       "</pre>\n"
      ],
      "text/plain": [
       "\u001b[1m[\u001b[0mINFO\u001b[1m]\u001b[0m loaded model.\n"
      ]
     },
     "metadata": {},
     "output_type": "display_data"
    },
    {
     "data": {
      "text/html": [
       "<pre style=\"white-space:pre;overflow-x:auto;line-height:normal;font-family:Menlo,'DejaVu Sans Mono',consolas,'Courier New',monospace\"><span style=\"font-weight: bold\">[</span>WARN<span style=\"font-weight: bold\">]</span> unexpected keys: <span style=\"font-weight: bold\">[</span><span style=\"color: #008000; text-decoration-color: #008000\">'density_grid'</span>, <span style=\"color: #008000; text-decoration-color: #008000\">'step_counter'</span><span style=\"font-weight: bold\">]</span>\n",
       "</pre>\n"
      ],
      "text/plain": [
       "\u001b[1m[\u001b[0mWARN\u001b[1m]\u001b[0m unexpected keys: \u001b[1m[\u001b[0m\u001b[32m'density_grid'\u001b[0m, \u001b[32m'step_counter'\u001b[0m\u001b[1m]\u001b[0m\n"
      ]
     },
     "metadata": {},
     "output_type": "display_data"
    },
    {
     "data": {
      "text/html": [
       "<pre style=\"white-space:pre;overflow-x:auto;line-height:normal;font-family:Menlo,'DejaVu Sans Mono',consolas,'Courier New',monospace\"><span style=\"font-weight: bold\">[</span>WARN<span style=\"font-weight: bold\">]</span> Failed to load optimizer, use default.\n",
       "</pre>\n"
      ],
      "text/plain": [
       "\u001b[1m[\u001b[0mWARN\u001b[1m]\u001b[0m Failed to load optimizer, use default.\n"
      ]
     },
     "metadata": {},
     "output_type": "display_data"
    },
    {
     "data": {
      "text/html": [
       "<pre style=\"white-space:pre;overflow-x:auto;line-height:normal;font-family:Menlo,'DejaVu Sans Mono',consolas,'Courier New',monospace\"><span style=\"font-weight: bold\">[</span>WARN<span style=\"font-weight: bold\">]</span> Failed to load scheduler, use default.\n",
       "</pre>\n"
      ],
      "text/plain": [
       "\u001b[1m[\u001b[0mWARN\u001b[1m]\u001b[0m Failed to load scheduler, use default.\n"
      ]
     },
     "metadata": {},
     "output_type": "display_data"
    },
    {
     "data": {
      "text/html": [
       "<pre style=\"white-space:pre;overflow-x:auto;line-height:normal;font-family:Menlo,'DejaVu Sans Mono',consolas,'Courier New',monospace\"><span style=\"font-weight: bold\">[</span>INFO<span style=\"font-weight: bold\">]</span> loaded scaler.\n",
       "</pre>\n"
      ],
      "text/plain": [
       "\u001b[1m[\u001b[0mINFO\u001b[1m]\u001b[0m loaded scaler.\n"
      ]
     },
     "metadata": {},
     "output_type": "display_data"
    }
   ],
   "source": [
    "gym = gymapi.acquire_gym()\n",
    "sim = ig_utils.setup_sim(gym)\n",
    "env = ig_utils.setup_env(gym, sim)\n",
    "ig_utils.setup_stage(gym, sim, env)\n",
    "viewer = ig_utils.setup_viewer(gym, sim, env)\n",
    "\n",
    "Obj = ig_objects.Banana\n",
    "grasp_points, grasp_normals = Obj.grasp_points, Obj.grasp_normals\n",
    "\n",
    "def run_gym(t=450):\n",
    "    for _ in range(t): ig_utils.step_gym(gym, sim, viewer)\n",
    "\n",
    "# Creates the robot, fop objective, and object\n",
    "# robot = FingertipRobot(gym, sim, env, grasp_vars=None, \n",
    "#                        norm_start_offset=0.)\n",
    "obj = Obj(gym, sim, env)\n",
    "\n",
    "# robot.setup_tensors()\n",
    "obj.setup_tensors()\n",
    "obj.load_nerf_model()\n",
    "obj.load_trimesh()\n",
    "run_gym(4)"
   ]
  },
  {
   "cell_type": "code",
   "execution_count": 4,
   "id": "42ec1003-2610-4de1-8d6b-5c9c6f673c75",
   "metadata": {
    "execution": {
     "iopub.execute_input": "2022-06-11T00:54:28.761132Z",
     "iopub.status.busy": "2022-06-11T00:54:28.760854Z",
     "iopub.status.idle": "2022-06-11T00:54:28.785814Z",
     "shell.execute_reply": "2022-06-11T00:54:28.785203Z",
     "shell.execute_reply.started": "2022-06-11T00:54:28.761090Z"
    },
    "tags": []
   },
   "outputs": [],
   "source": [
    "grasps = np.load(\"../grasp_data/banana.npy\")\n",
    "grasp_idx = 0\n",
    "\n",
    "grasp_points = torch.tensor(grasps[grasp_idx, :, :6], dtype=torch.float32)"
   ]
  },
  {
   "cell_type": "code",
   "execution_count": 5,
   "id": "6f164d13-60c3-4cc7-a8b6-abd55f7cf883",
   "metadata": {
    "execution": {
     "iopub.execute_input": "2022-06-11T00:54:28.787473Z",
     "iopub.status.busy": "2022-06-11T00:54:28.787090Z",
     "iopub.status.idle": "2022-06-11T00:54:28.953820Z",
     "shell.execute_reply": "2022-06-11T00:54:28.953294Z",
     "shell.execute_reply.started": "2022-06-11T00:54:28.787418Z"
    },
    "tags": []
   },
   "outputs": [],
   "source": [
    "nerf_grasp_points = grasp_utils.ig_to_nerf(grasp_points.reshape(6, 3)).reshape(3, 6)\n",
    "\n",
    "# get grasp distribution from grasp_points\n",
    "_, _, weights, z_vals = grasp_utils.get_grasp_distribution(\n",
    "    nerf_grasp_points.reshape(1, 3, 6).cuda(),\n",
    "    obj.model,\n",
    "    residual_dirs=False,\n",
    ")\n",
    "pre_correction, post_correction = [], []\n"
   ]
  },
  {
   "cell_type": "code",
   "execution_count": 32,
   "id": "036ed91c-a6ed-4848-9750-cb8a3cdb504b",
   "metadata": {
    "execution": {
     "iopub.execute_input": "2022-06-11T00:57:17.871370Z",
     "iopub.status.busy": "2022-06-11T00:57:17.870956Z",
     "iopub.status.idle": "2022-06-11T00:57:17.902008Z",
     "shell.execute_reply": "2022-06-11T00:57:17.901437Z",
     "shell.execute_reply.started": "2022-06-11T00:57:17.871311Z"
    },
    "tags": []
   },
   "outputs": [
    {
     "data": {
      "text/plain": [
       "tensor([ 0.7470, -0.7930, -0.0613])"
      ]
     },
     "execution_count": 32,
     "metadata": {},
     "output_type": "execute_result"
    }
   ],
   "source": [
    "grasp_points[:, 3]"
   ]
  },
  {
   "cell_type": "code",
   "execution_count": 45,
   "id": "8959704a-dcdc-4fa0-af92-800d56409b6f",
   "metadata": {
    "execution": {
     "iopub.execute_input": "2022-06-11T00:57:43.625222Z",
     "iopub.status.busy": "2022-06-11T00:57:43.624802Z",
     "iopub.status.idle": "2022-06-11T00:57:43.656868Z",
     "shell.execute_reply": "2022-06-11T00:57:43.656147Z",
     "shell.execute_reply.started": "2022-06-11T00:57:43.625164Z"
    },
    "tags": []
   },
   "outputs": [],
   "source": [
    "rays_o = grasp_points[:, :3].cuda()\n",
    "rays_d = grasp_points[:, 3:].cuda()\n",
    "\n",
    "des_z_dist = 0.06\n",
    "# Correct rays_o to be equidistant from object surface using estimated z_vals from nerf\n",
    "# z_correction shape: (number of fingers, 1)\n",
    "z_correction = des_z_dist - torch.sum(weights * z_vals, dim=-1).reshape(3, 1)\n",
    "rays_o += z_correction * rays_d"
   ]
  },
  {
   "cell_type": "code",
   "execution_count": 61,
   "id": "8fd34729-2256-4a4e-adc3-a13cee628e36",
   "metadata": {
    "execution": {
     "iopub.execute_input": "2022-06-11T01:01:36.576511Z",
     "iopub.status.busy": "2022-06-11T01:01:36.576062Z",
     "iopub.status.idle": "2022-06-11T01:01:36.615598Z",
     "shell.execute_reply": "2022-06-11T01:01:36.614901Z",
     "shell.execute_reply.started": "2022-06-11T01:01:36.576451Z"
    },
    "tags": []
   },
   "outputs": [
    {
     "data": {
      "text/plain": [
       "array([[0.05218911],\n",
       "       [0.02802941],\n",
       "       [0.03098524]])"
      ]
     },
     "execution_count": 61,
     "metadata": {},
     "output_type": "execute_result"
    }
   ],
   "source": [
    "np.linalg.norm(ig_utils.get_mesh_contacts(obj.gt_mesh, grasp_points[:, :3])[0] - grasp_points[:, :3].numpy(), axis=1)[:, None]"
   ]
  },
  {
   "cell_type": "code",
   "execution_count": 50,
   "id": "9834e3e7-89d1-4d9a-bfc0-a430dc34cc94",
   "metadata": {
    "execution": {
     "iopub.execute_input": "2022-06-11T00:59:10.681255Z",
     "iopub.status.busy": "2022-06-11T00:59:10.680787Z",
     "iopub.status.idle": "2022-06-11T00:59:10.735104Z",
     "shell.execute_reply": "2022-06-11T00:59:10.734410Z",
     "shell.execute_reply.started": "2022-06-11T00:59:10.681175Z"
    },
    "tags": []
   },
   "outputs": [
    {
     "data": {
      "text/plain": [
       "tensor([[0.0660],\n",
       "        [0.0749],\n",
       "        [0.0575]], device='cuda:0', grad_fn=<ReshapeAliasBackward0>)"
      ]
     },
     "execution_count": 50,
     "metadata": {},
     "output_type": "execute_result"
    }
   ],
   "source": [
    "torch.sum(weights * z_vals, dim=-1).reshape(3, 1)"
   ]
  },
  {
   "cell_type": "code",
   "execution_count": 46,
   "id": "25ace531-0c15-4a34-b73b-4615e71e360c",
   "metadata": {
    "execution": {
     "iopub.execute_input": "2022-06-11T00:57:44.140600Z",
     "iopub.status.busy": "2022-06-11T00:57:44.140192Z",
     "iopub.status.idle": "2022-06-11T00:57:44.187768Z",
     "shell.execute_reply": "2022-06-11T00:57:44.187083Z",
     "shell.execute_reply.started": "2022-06-11T00:57:44.140542Z"
    },
    "tags": []
   },
   "outputs": [],
   "source": [
    "pre_correction = ig_viz_utils.visualize_markers(gym, env, sim, positions=grasp_points[:, :3],\n",
    "                               colors=[[1.,0.,0.]]*3, marker_handles=pre_correction)\n",
    "post_correction = ig_viz_utils.visualize_markers(gym, env, sim, positions=rays_o,\n",
    "                               colors=[[0.,1.,0.]]*3, marker_handles=post_correction)\n",
    "run_gym(1)"
   ]
  },
  {
   "cell_type": "code",
   "execution_count": 48,
   "id": "fd26fa33-ab34-4fef-b4ed-b56fb7b943a1",
   "metadata": {
    "execution": {
     "iopub.execute_input": "2022-06-11T00:58:09.993133Z",
     "iopub.status.busy": "2022-06-11T00:58:09.992680Z",
     "iopub.status.idle": "2022-06-11T00:58:25.880666Z",
     "shell.execute_reply": "2022-06-11T00:58:25.879589Z",
     "shell.execute_reply.started": "2022-06-11T00:58:09.993071Z"
    },
    "tags": []
   },
   "outputs": [],
   "source": [
    "run_gym(1000)"
   ]
  }
 ],
 "metadata": {
  "kernelspec": {
   "display_name": "Python 3",
   "language": "python",
   "name": "python3"
  },
  "language_info": {
   "codemirror_mode": {
    "name": "ipython",
    "version": 3
   },
   "file_extension": ".py",
   "mimetype": "text/x-python",
   "name": "python",
   "nbconvert_exporter": "python",
   "pygments_lexer": "ipython3",
   "version": "3.7.12"
  }
 },
 "nbformat": 4,
 "nbformat_minor": 5
}
