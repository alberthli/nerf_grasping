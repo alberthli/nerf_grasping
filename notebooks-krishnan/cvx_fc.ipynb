{
 "cells": [
  {
   "cell_type": "code",
   "execution_count": 2,
   "id": "56b157ec-b3b8-4d35-8dfc-cf650adf9ce6",
   "metadata": {},
   "outputs": [
    {
     "name": "stdout",
     "output_type": "stream",
     "text": [
      "Importing module 'gym_37' (/scr-ssd/ksrini/Downloads/isaacgym-3/python/isaacgym/_bindings/linux-x86_64/gym_37.so)\n",
      "Setting GYM_USD_PLUG_INFO_PATH to /scr-ssd/ksrini/Downloads/isaacgym-3/python/isaacgym/_bindings/linux-x86_64/usd/plugInfo.json\n",
      "PyTorch version 1.10.1+cu102\n",
      "Device count 1\n",
      "/scr-ssd/ksrini/Downloads/isaacgym-3/python/isaacgym/_bindings/src/gymtorch\n",
      "Using /afs/cs.stanford.edu/u/ksrini/.cache/torch_extensions/py37_cu102 as PyTorch extensions root...\n",
      "Emitting ninja build file /afs/cs.stanford.edu/u/ksrini/.cache/torch_extensions/py37_cu102/gymtorch/build.ninja...\n",
      "Building extension module gymtorch...\n",
      "Allowing ninja to set a default number of workers... (overridable by setting the environment variable MAX_JOBS=N)\n",
      "Loading extension module gymtorch...\n"
     ]
    }
   ],
   "source": [
    "from sim_trifinger_k import TeddyBear, TriFingerEnv\n",
    "\n",
    "import cvxpy as cp\n",
    "import numpy as np\n",
    "import torch\n",
    "import grasp_utils\n",
    "import grasp_opt\n",
    "import matplotlib.pyplot as plt\n",
    "from cvxpylayers.torch import CvxpyLayer\n",
    "from nerf_shared import config_parser, utils\n",
    "\n",
    "# Setup config (since we're not running from command line).\n",
    "parser = config_parser.config_parser()\n",
    "\n",
    "# Use the teddy_bear config, but change some filepaths.\n",
    "args = parser.parse_args(args=[\n",
    "    '--config', 'nerf_shared/logs/isaac_teddy4/config.txt',\n",
    "    '--basedir', 'nerf_shared/logs',\n",
    "    '--datadir', 'nerf_shared/data/isaac_teddy'])\n",
    "\n",
    "# nerf_shared requires us to default to cuda tensors.\n",
    "torch.set_default_tensor_type(torch.cuda.FloatTensor)\n",
    "\n",
    "%load_ext autoreload\n",
    "%autoreload 2\n",
    "%matplotlib widget"
   ]
  },
  {
   "cell_type": "markdown",
   "id": "5c9d60bb-e40b-4708-86e0-ce4574f576e4",
   "metadata": {},
   "source": [
    "# Controlling fingers to reach pre-grasp points"
   ]
  },
  {
   "cell_type": "code",
   "execution_count": 5,
   "id": "042f6ee0-d691-46e8-8763-17963d558546",
   "metadata": {},
   "outputs": [],
   "source": [
    "env = TriFingerEnv(viewer=False, robot=True, Obj=TeddyBear)\n",
    "env.robot.load_nerf_models(env.object.name)\n",
    "env.robot.nerfs_loaded"
   ]
  },
  {
   "cell_type": "markdown",
   "id": "b5b82fc1-1259-4630-90bb-84b09195297c",
   "metadata": {},
   "source": [
    "## Sampling Grasps"
   ]
  },
  {
   "cell_type": "code",
   "execution_count": 3,
   "id": "72c7758f-11f5-426c-9753-b0c9628a9220",
   "metadata": {
    "tags": []
   },
   "outputs": [
    {
     "name": "stdout",
     "output_type": "stream",
     "text": [
      "Found ckpts ['../nerf_shared/logs/isaac_teddy4/050000.tar', '../nerf_shared/logs/isaac_teddy4/100000.tar', '../nerf_shared/logs/isaac_teddy4/150000.tar', '../nerf_shared/logs/isaac_teddy4/200000.tar']\n",
      "Reloading from ../nerf_shared/logs/isaac_teddy4/200000.tar\n",
      "Not ndc!\n",
      "{'training': True, '_parameters': OrderedDict(), '_buffers': OrderedDict(), '_non_persistent_buffers_set': set(), '_backward_hooks': OrderedDict(), '_is_full_backward_hook': None, '_forward_hooks': OrderedDict(), '_forward_pre_hooks': OrderedDict(), '_state_dict_hooks': OrderedDict(), '_load_state_dict_pre_hooks': OrderedDict(), '_modules': OrderedDict(), 'perturb': 1.0, 'N_importance': 128, 'N_samples': 64, 'use_viewdirs': True, 'white_bkgd': False, 'raw_noise_std': 0.0, 'ndc': False, 'lindisp': False, 'near': 0.05, 'far': 0.15}\n"
     ]
    }
   ],
   "source": [
    "# Load nerf models, params from checkpoint.\n",
    "coarse_model, fine_model = utils.create_nerf_models(args)\n",
    "optimizer = utils.get_optimizer(coarse_model, fine_model, args)\n",
    "utils.load_checkpoint(coarse_model, fine_model, optimizer, args, checkpoint_index=-1)\n",
    "# Override rendering bounds for fingers.\n",
    "bds_dict = {'near': 0.05, 'far': 0.15}\n",
    "renderer = utils.get_renderer(args, bds_dict)"
   ]
  },
  {
   "cell_type": "markdown",
   "id": "90780053-6bc3-470a-a0c7-7652ba123782",
   "metadata": {},
   "source": [
    "## CVXPYLayers Example\n",
    "```python\n",
    "n, m = 2, 3\n",
    "x = cp.Variable(n)\n",
    "A = cp.Parameter((m, n))\n",
    "b = cp.Parameter(m)\n",
    "constraints = [x >= 0]\n",
    "objective = cp.Minimize(0.5 * cp.pnorm(A @ x - b, p=1))\n",
    "problem = cp.Problem(objective, constraints)\n",
    "cvxpylayer = CvxpyLayer(problem, parameters=[A, b], variables=[x])\n",
    "A_tch = torch.randn(m, n, requires_grad=True)\n",
    "b_tch = torch.randn(m, requires_grad=True)\n",
    "\n",
    "# solve the problem\n",
    "solution, = cvxpylayer(A_tch, b_tch)\n",
    "solution\n",
    "```"
   ]
  },
  {
   "cell_type": "code",
   "execution_count": 19,
   "id": "aa405267-2992-4bf8-a9c1-e4d201d7798b",
   "metadata": {},
   "outputs": [],
   "source": [
    "env.step_gym()"
   ]
  },
  {
   "cell_type": "code",
   "execution_count": 12,
   "id": "d78f9aa4-e166-4423-a5a5-d5e9c9af3e7f",
   "metadata": {},
   "outputs": [
    {
     "data": {
      "text/plain": [
       "<sim_trifinger_k.Robot at 0x7fdf9b154d50>"
      ]
     },
     "execution_count": 12,
     "metadata": {},
     "output_type": "execute_result"
    }
   ],
   "source": [
    "env.robot"
   ]
  },
  {
   "cell_type": "code",
   "execution_count": null,
   "id": "db39605e-901d-453d-aed0-5a31ab1c5fc4",
   "metadata": {},
   "outputs": [],
   "source": [
    "initial-np.array([[0.09,0.09,-0.025], [0, -0.125, 0], [-0.09, 0.09, 0.025]]) "
   ]
  },
  {
   "cell_type": "code",
   "execution_count": 23,
   "id": "340a2e85-6871-4f58-a398-22d3339957bd",
   "metadata": {},
   "outputs": [
    {
     "data": {
      "text/plain": [
       "tensor([[ 0.1099,  0.0437,  0.2733],\n",
       "        [-0.0171, -0.1170,  0.2733],\n",
       "        [-0.0928,  0.0733,  0.2733]], device='cpu')"
      ]
     },
     "execution_count": 23,
     "metadata": {},
     "output_type": "execute_result"
    }
   ],
   "source": [
    "env.robot.rb_states[[6, 11, 16], :3]"
   ]
  },
  {
   "cell_type": "code",
   "execution_count": 19,
   "id": "42923fdb-d538-4ae7-8912-6a325571af16",
   "metadata": {},
   "outputs": [
    {
     "data": {
      "text/plain": [
       "(0.010920122576211541,\n",
       " array([[2.07228986e-08],\n",
       "        [1.84369331e-05],\n",
       "        [5.41491119e-01],\n",
       "        [3.28062766e-08],\n",
       "        [4.11146969e-08],\n",
       "        [5.94580129e-08],\n",
       "        [2.07475929e-08],\n",
       "        [4.58453983e-01],\n",
       "        [3.62867745e-05]]))"
      ]
     },
     "execution_count": 19,
     "metadata": {},
     "output_type": "execute_result"
    }
   ],
   "source": [
    "# Form grasp vars\n",
    "bear_centroid = np.array([-0.0001444 ,  0.00412231,  0.08663063])\n",
    "gp = np.array([[0.09, 0.09, 0.013], [-0.09, 0.09, 0.013], [0, -0.125, 0.013]]) + bear_centroid\n",
    "grasp_points = torch.tensor(gp).reshape(1, 3, 3)\n",
    "grasp_dirs = torch.tensor(bear_centroid) - grasp_points\n",
    "grasp_vars = torch.cat([grasp_points, grasp_dirs], dim=-1)\n",
    "\n",
    "# Sample grasp points\n",
    "grasp_points, grad_ests, grasp_mask = grasp_utils.sample_grasps(grasp_vars, 10, coarse_model, fine_model, renderer)\n",
    "n_f = 3 \n",
    "grasp_points = grasp_points.reshape(-1, n_f, 3)\n",
    "normals = grad_ests.reshape(-1, n_f, 3)\n",
    "G = grasp_opt.grasp_matrix(grasp_points, normals)\n",
    "\n",
    "grasp_opt.min_norm_vector_in_facet(G[0].cpu().numpy())"
   ]
  },
  {
   "cell_type": "code",
   "execution_count": 33,
   "id": "995244d3-7607-4dae-95eb-290d754330da",
   "metadata": {},
   "outputs": [
    {
     "data": {
      "text/plain": [
       "((0.010920122576211541,\n",
       "  array([[2.07228986e-08],\n",
       "         [1.84369331e-05],\n",
       "         [5.41491119e-01],\n",
       "         [3.28062766e-08],\n",
       "         [4.11146969e-08],\n",
       "         [5.94580129e-08],\n",
       "         [2.07475929e-08],\n",
       "         [4.58453983e-01],\n",
       "         [3.62867745e-05]])),\n",
       " tensor([[-2.1892e-05],\n",
       "         [-2.8563e-05],\n",
       "         [ 8.3614e-04],\n",
       "         [ 5.1693e-02],\n",
       "         [ 1.6805e-02],\n",
       "         [ 2.1187e-03],\n",
       "         [ 3.3899e-01],\n",
       "         [ 3.2742e-01],\n",
       "         [ 2.6219e-01]]))"
      ]
     },
     "execution_count": 33,
     "metadata": {},
     "output_type": "execute_result"
    }
   ],
   "source": [
    "G_ = G[0]\n",
    "\n",
    "gsq = torch.linalg.cholesky(G_.T @ G_ + 1e-5 * torch.eye(9))\n",
    "grasp_opt.min_norm_vector_in_facet(G_.cpu().numpy()), cvxpylayer(gsq)[0]"
   ]
  },
  {
   "cell_type": "code",
   "execution_count": 57,
   "id": "965deb07-d35e-432d-a346-7c7779994c36",
   "metadata": {},
   "outputs": [
    {
     "data": {
      "text/plain": [
       "27"
      ]
     },
     "execution_count": 57,
     "metadata": {},
     "output_type": "execute_result"
    }
   ],
   "source": [
    "from pyhull import convex_hull as cvh\n",
    "\n",
    "hull = cvh.ConvexHull(G[0].cpu().numpy())\n",
    "\n",
    "len(hull.vertices)"
   ]
  },
  {
   "cell_type": "code",
   "execution_count": 83,
   "id": "77e83257-c6a0-4cfd-909d-6e1dbe7da9f6",
   "metadata": {},
   "outputs": [],
   "source": [
    "verts = []\n",
    "for i in range(10):\n",
    "    hull = cvh.ConvexHull(G[i].cpu().numpy())\n",
    "    verts.append(hull.vertices[:])\n",
    "\n",
    "verts = set.union(*[{''.join([str(x) for x in v])\n",
    "             for v in vs}\n",
    "            for vs in verts])"
   ]
  },
  {
   "cell_type": "code",
   "execution_count": 129,
   "id": "8ab738e4-4680-47db-9798-1bbb064550be",
   "metadata": {},
   "outputs": [
    {
     "name": "stdout",
     "output_type": "stream",
     "text": [
      "CPU times: user 46.9 ms, sys: 10.1 ms, total: 57 ms\n",
      "Wall time: 44.7 ms\n"
     ]
    }
   ],
   "source": [
    "%%time\n",
    "costs = []\n",
    "for G_ in G:\n",
    "    gsq = torch.linalg.cholesky(G_.T @ G_ + 1e-5 * torch.eye(9))\n",
    "    x = cvxpylayer(gsq)[0]\n",
    "    cost = torch.sum(torch.square(gsq @ x))\n",
    "    # cost = prob.value\n",
    "    costs.append(cost)"
   ]
  },
  {
   "cell_type": "code",
   "execution_count": 133,
   "id": "933fd5c9-f870-4ed0-ac1c-e603e408ad42",
   "metadata": {},
   "outputs": [
    {
     "name": "stdout",
     "output_type": "stream",
     "text": [
      "CPU times: user 29.3 ms, sys: 40.7 ms, total: 70 ms\n",
      "Wall time: 33.1 ms\n"
     ]
    }
   ],
   "source": [
    "%%time\n",
    "costs2 = []\n",
    "for G_ in G:\n",
    "    cost, _ = grasp_opt.min_norm_vector_in_facet(G_.cpu().numpy())\n",
    "    costs2.append(cost)"
   ]
  },
  {
   "cell_type": "code",
   "execution_count": 134,
   "id": "677565dd-96fc-48cb-9730-3b1c579fd970",
   "metadata": {},
   "outputs": [
    {
     "data": {
      "text/plain": [
       "[tensor(4.2305e-06),\n",
       " tensor(4.7090e-06),\n",
       " tensor(5.0606e-06),\n",
       " tensor(5.9471e-06),\n",
       " tensor(5.0698e-06),\n",
       " tensor(6.7178e-06),\n",
       " tensor(2.0134e-06),\n",
       " tensor(1.3947e-05),\n",
       " tensor(3.5483e-06),\n",
       " tensor(2.1862e-06)]"
      ]
     },
     "execution_count": 134,
     "metadata": {},
     "output_type": "execute_result"
    }
   ],
   "source": [
    "costs"
   ]
  },
  {
   "cell_type": "code",
   "execution_count": 136,
   "id": "1c6adf85-4dc4-443d-8cc8-c0423f33ca04",
   "metadata": {},
   "outputs": [
    {
     "data": {
      "text/plain": [
       "[<matplotlib.lines.Line2D at 0x7f51fd915510>]"
      ]
     },
     "execution_count": 136,
     "metadata": {},
     "output_type": "execute_result"
    }
   ],
   "source": [
    "plt.plot([x.cpu().numpy() for x in costs])"
   ]
  },
  {
   "cell_type": "code",
   "execution_count": null,
   "id": "a1d97c9f-fb83-46e3-8d1c-fb76c3ce2273",
   "metadata": {},
   "outputs": [],
   "source": [
    "costs2"
   ]
  },
  {
   "cell_type": "code",
   "execution_count": 79,
   "id": "9d44e7d1-6718-4be1-b344-aef639350d4d",
   "metadata": {},
   "outputs": [
    {
     "data": {
      "text/plain": [
       "27"
      ]
     },
     "execution_count": 79,
     "metadata": {},
     "output_type": "execute_result"
    }
   ],
   "source": [
    "len(set.union(v0, v0))"
   ]
  },
  {
   "cell_type": "code",
   "execution_count": 82,
   "id": "3deabf73-537d-4787-9a7b-2d1f51bb7a4f",
   "metadata": {},
   "outputs": [
    {
     "data": {
      "text/plain": [
       "256"
      ]
     },
     "execution_count": 82,
     "metadata": {},
     "output_type": "execute_result"
    }
   ],
   "source": [
    "sum([len(v) for v in verts])"
   ]
  },
  {
   "cell_type": "code",
   "execution_count": 21,
   "id": "0de9c84c-9893-4cec-8b5a-c6381214803b",
   "metadata": {},
   "outputs": [],
   "source": [
    "n_f = 3\n",
    "n = n_f * 3  # OR 6 in the case of \n",
    "P = cp.Parameter((n, n), value=gsq.cpu().numpy())\n",
    "# P = P.T @ P + 1e-10 * np.eye(n)\n",
    "F = -np.eye(n)\n",
    "# h = G @ np.random.randn(n)\n",
    "h = np.zeros((n, 1))\n",
    "A = np.ones((1, n))\n",
    "b = np.ones(1)\n",
    "x = cp.Variable((n, 1))\n",
    "\n",
    "quad_form = cp.sum_squares(P @ x)\n",
    "\n",
    "prob = cp.Problem(cp.Minimize(quad_form),\n",
    "                 [F @ x <= h,\n",
    "                  A @ x == b])\n",
    "cvxpylayer = CvxpyLayer(prob, parameters=[P], variables=[x])"
   ]
  },
  {
   "cell_type": "markdown",
   "id": "6206d923-cfa4-4981-9baf-4b868a17861b",
   "metadata": {},
   "source": [
    "prob.is_qp()"
   ]
  }
 ],
 "metadata": {
  "kernelspec": {
   "display_name": "Python 3",
   "language": "python",
   "name": "python3"
  },
  "language_info": {
   "codemirror_mode": {
    "name": "ipython",
    "version": 3
   },
   "file_extension": ".py",
   "mimetype": "text/x-python",
   "name": "python",
   "nbconvert_exporter": "python",
   "pygments_lexer": "ipython3",
   "version": "3.7.11"
  }
 },
 "nbformat": 4,
 "nbformat_minor": 5
}
