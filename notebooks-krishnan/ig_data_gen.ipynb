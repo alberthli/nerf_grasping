{
 "cells": [
  {
   "cell_type": "code",
   "execution_count": 2,
   "id": "54a4d00c-8ce3-4bbd-aace-1157a8b2b4b8",
   "metadata": {},
   "outputs": [],
   "source": [
    "import json\n",
    "import numpy as np\n",
    "import scipy.spatial\n",
    "import shutil\n",
    "import os"
   ]
  },
  {
   "cell_type": "code",
   "execution_count": 3,
   "id": "a918a057-a336-4124-b692-238de6da6bf8",
   "metadata": {},
   "outputs": [
    {
     "name": "stdout",
     "output_type": "stream",
     "text": [
      "/scr-ssd/ksrini/nerf_grasping/notebooks-krishnan\n"
     ]
    }
   ],
   "source": [
    "num_imgs = 32\n",
    "num_train = 26\n",
    "num_test = 3\n",
    "\n",
    "dataset = 'isaac_power_drill'\n",
    "\n",
    "img_range = np.arange(num_imgs)\n",
    "np.random.shuffle(img_range)\n",
    "train_range = img_range[:num_train]\n",
    "test_range = img_range[num_train:(num_train+num_test)]\n",
    "val_range = img_range[(num_train+num_test):]\n",
    "\n",
    "ig = True\n",
    "\n",
    "print(os.getcwd())\n",
    "\n",
    "train_data = {}\n",
    "train_data['near'] = 0.1\n",
    "train_data['far'] = 2.\n",
    "train_data['camera_angle_x'] = 0.610865\n",
    "train_data['camera_angle_y'] = 0.610865\n",
    "train_data['frames'] = []\n",
    "\n",
    "for ii in train_range:\n",
    "    with open(dataset + '/pos_xyz_quat_xyzw_'+str(ii)+'.txt') as file:\n",
    "        pose = np.fromstring(file.readline()[1:-1], sep=',')\n",
    "\n",
    "        transform_mat = np.eye(4)\n",
    "        R = scipy.spatial.transform.Rotation.from_quat(pose[-4:]).as_matrix()\n",
    "        R = R @ scipy.spatial.transform.Rotation.from_euler('YZ', [-np.pi/2, -np.pi/2]).as_matrix()\n",
    "        transform_mat[:3, :3] = R\n",
    "        transform_mat[:3, -1] = pose[:3]\n",
    "\n",
    "        source_img = 'col_' + str(ii)\n",
    "\n",
    "        os.makedirs(dataset + '/train', exist_ok=True)\n",
    "\n",
    "        shutil.copyfile(dataset + '/' + source_img + '.png',\n",
    "                        dataset + '/train/' + str(ii) + '.png')\n",
    "\n",
    "        train_data['frames'].append({'transform_matrix': transform_mat.tolist(),\n",
    "                                     'file_path': 'train/'+str(ii)})\n",
    "\n",
    "outfile = open(dataset + '/transforms_train.json', 'w')\n",
    "outfile.write(json.dumps(train_data))\n",
    "outfile.close()\n",
    "\n",
    "test_data = train_data\n",
    "test_data['frames'] = []\n",
    "\n",
    "for ii in test_range:\n",
    "    with open(dataset + '/pos_xyz_quat_xyzw_'+str(ii)+'.txt') as file:\n",
    "        pose = np.fromstring(file.readline()[1:-1], sep=',')\n",
    "\n",
    "        transform_mat = np.eye(4)\n",
    "        R = scipy.spatial.transform.Rotation.from_quat(pose[-4:]).as_matrix()\n",
    "        R = R @ scipy.spatial.transform.Rotation.from_euler('YZ', [-np.pi/2, -np.pi/2]).as_matrix()\n",
    "        transform_mat[:3, :3] = R\n",
    "        transform_mat[:3, -1] = pose[:3]\n",
    "\n",
    "        source_img = 'col_' + str(ii)\n",
    "\n",
    "        os.makedirs(dataset + '/test', exist_ok=True)\n",
    "\n",
    "        shutil.copyfile(dataset + '/' + source_img + '.png',\n",
    "                        dataset + '/test/' + str(ii) + '.png')\n",
    "\n",
    "        test_data['frames'].append({'transform_matrix': transform_mat.tolist(),\n",
    "                                     'file_path': 'test/'+str(ii)})\n",
    "\n",
    "outfile = open(dataset + '/transforms_test.json', 'w')\n",
    "outfile.write(json.dumps(test_data))\n",
    "outfile.close()\n",
    "\n",
    "val_data = test_data\n",
    "val_data['frames'] = []\n",
    "\n",
    "for ii in val_range:\n",
    "    with open(dataset + '/pos_xyz_quat_xyzw_'+str(ii)+'.txt') as file:\n",
    "        pose = np.fromstring(file.readline()[1:-1], sep=',')\n",
    "\n",
    "        transform_mat = np.eye(4)\n",
    "        R = scipy.spatial.transform.Rotation.from_quat(pose[-4:]).as_matrix()\n",
    "        R = R @ scipy.spatial.transform.Rotation.from_euler('YZ', [-np.pi/2, -np.pi/2]).as_matrix()\n",
    "        transform_mat[:3, :3] = R\n",
    "        transform_mat[:3, -1] = pose[:3]\n",
    "\n",
    "        source_img = 'col_' + str(ii)\n",
    "\n",
    "        os.makedirs(dataset + '/val', exist_ok=True)\n",
    "\n",
    "        shutil.copyfile(dataset + '/' + source_img + '.png',\n",
    "                        dataset + '/val/' + str(ii) + '.png')\n",
    "\n",
    "        val_data['frames'].append({'transform_matrix': transform_mat.tolist(),\n",
    "                                     'file_path': 'val/'+str(ii)})\n",
    "\n",
    "outfile = open(dataset + '/transforms_val.json', 'w')\n",
    "outfile.write(json.dumps(val_data))\n",
    "outfile.close()"
   ]
  },
  {
   "cell_type": "code",
   "execution_count": 4,
   "id": "4c712d40-5e95-48e1-bd58-1a8691858a86",
   "metadata": {},
   "outputs": [
    {
     "name": "stdout",
     "output_type": "stream",
     "text": [
      "\u001b[0m\u001b[01;35mcol_0.png\u001b[0m   \u001b[01;35mdep_21.png\u001b[0m                pos_xyz_quat_xyzw_3.txt\n",
      "\u001b[01;35mcol_10.png\u001b[0m  \u001b[01;35mdep_22.png\u001b[0m                pos_xyz_quat_xyzw_4.txt\n",
      "\u001b[01;35mcol_11.png\u001b[0m  \u001b[01;35mdep_23.png\u001b[0m                pos_xyz_quat_xyzw_5.txt\n",
      "\u001b[01;35mcol_12.png\u001b[0m  \u001b[01;35mdep_24.png\u001b[0m                pos_xyz_quat_xyzw_6.txt\n",
      "\u001b[01;35mcol_13.png\u001b[0m  \u001b[01;35mdep_25.png\u001b[0m                pos_xyz_quat_xyzw_7.txt\n",
      "\u001b[01;35mcol_14.png\u001b[0m  \u001b[01;35mdep_26.png\u001b[0m                pos_xyz_quat_xyzw_8.txt\n",
      "\u001b[01;35mcol_15.png\u001b[0m  \u001b[01;35mdep_27.png\u001b[0m                pos_xyz_quat_xyzw_9.txt\n",
      "\u001b[01;35mcol_16.png\u001b[0m  \u001b[01;35mdep_28.png\u001b[0m                \u001b[01;35mseg_0.png\u001b[0m\n",
      "\u001b[01;35mcol_17.png\u001b[0m  \u001b[01;35mdep_29.png\u001b[0m                \u001b[01;35mseg_10.png\u001b[0m\n",
      "\u001b[01;35mcol_18.png\u001b[0m  \u001b[01;35mdep_2.png\u001b[0m                 \u001b[01;35mseg_11.png\u001b[0m\n",
      "\u001b[01;35mcol_19.png\u001b[0m  \u001b[01;35mdep_30.png\u001b[0m                \u001b[01;35mseg_12.png\u001b[0m\n",
      "\u001b[01;35mcol_1.png\u001b[0m   \u001b[01;35mdep_31.png\u001b[0m                \u001b[01;35mseg_13.png\u001b[0m\n",
      "\u001b[01;35mcol_20.png\u001b[0m  \u001b[01;35mdep_32.png\u001b[0m                \u001b[01;35mseg_14.png\u001b[0m\n",
      "\u001b[01;35mcol_21.png\u001b[0m  \u001b[01;35mdep_3.png\u001b[0m                 \u001b[01;35mseg_15.png\u001b[0m\n",
      "\u001b[01;35mcol_22.png\u001b[0m  \u001b[01;35mdep_4.png\u001b[0m                 \u001b[01;35mseg_16.png\u001b[0m\n",
      "\u001b[01;35mcol_23.png\u001b[0m  \u001b[01;35mdep_5.png\u001b[0m                 \u001b[01;35mseg_17.png\u001b[0m\n",
      "\u001b[01;35mcol_24.png\u001b[0m  \u001b[01;35mdep_6.png\u001b[0m                 \u001b[01;35mseg_18.png\u001b[0m\n",
      "\u001b[01;35mcol_25.png\u001b[0m  \u001b[01;35mdep_7.png\u001b[0m                 \u001b[01;35mseg_19.png\u001b[0m\n",
      "\u001b[01;35mcol_26.png\u001b[0m  \u001b[01;35mdep_8.png\u001b[0m                 \u001b[01;35mseg_1.png\u001b[0m\n",
      "\u001b[01;35mcol_27.png\u001b[0m  \u001b[01;35mdep_9.png\u001b[0m                 \u001b[01;35mseg_20.png\u001b[0m\n",
      "\u001b[01;35mcol_28.png\u001b[0m  pos_xyz_quat_xyzw_0.txt   \u001b[01;35mseg_21.png\u001b[0m\n",
      "\u001b[01;35mcol_29.png\u001b[0m  pos_xyz_quat_xyzw_10.txt  \u001b[01;35mseg_22.png\u001b[0m\n",
      "\u001b[01;35mcol_2.png\u001b[0m   pos_xyz_quat_xyzw_11.txt  \u001b[01;35mseg_23.png\u001b[0m\n",
      "\u001b[01;35mcol_30.png\u001b[0m  pos_xyz_quat_xyzw_12.txt  \u001b[01;35mseg_24.png\u001b[0m\n",
      "\u001b[01;35mcol_31.png\u001b[0m  pos_xyz_quat_xyzw_13.txt  \u001b[01;35mseg_25.png\u001b[0m\n",
      "\u001b[01;35mcol_32.png\u001b[0m  pos_xyz_quat_xyzw_14.txt  \u001b[01;35mseg_26.png\u001b[0m\n",
      "\u001b[01;35mcol_3.png\u001b[0m   pos_xyz_quat_xyzw_15.txt  \u001b[01;35mseg_27.png\u001b[0m\n",
      "\u001b[01;35mcol_4.png\u001b[0m   pos_xyz_quat_xyzw_16.txt  \u001b[01;35mseg_28.png\u001b[0m\n",
      "\u001b[01;35mcol_5.png\u001b[0m   pos_xyz_quat_xyzw_17.txt  \u001b[01;35mseg_29.png\u001b[0m\n",
      "\u001b[01;35mcol_6.png\u001b[0m   pos_xyz_quat_xyzw_18.txt  \u001b[01;35mseg_2.png\u001b[0m\n",
      "\u001b[01;35mcol_7.png\u001b[0m   pos_xyz_quat_xyzw_19.txt  \u001b[01;35mseg_30.png\u001b[0m\n",
      "\u001b[01;35mcol_8.png\u001b[0m   pos_xyz_quat_xyzw_1.txt   \u001b[01;35mseg_31.png\u001b[0m\n",
      "\u001b[01;35mcol_9.png\u001b[0m   pos_xyz_quat_xyzw_20.txt  \u001b[01;35mseg_32.png\u001b[0m\n",
      "\u001b[01;35mdep_0.png\u001b[0m   pos_xyz_quat_xyzw_21.txt  \u001b[01;35mseg_3.png\u001b[0m\n",
      "\u001b[01;35mdep_10.png\u001b[0m  pos_xyz_quat_xyzw_22.txt  \u001b[01;35mseg_4.png\u001b[0m\n",
      "\u001b[01;35mdep_11.png\u001b[0m  pos_xyz_quat_xyzw_23.txt  \u001b[01;35mseg_5.png\u001b[0m\n",
      "\u001b[01;35mdep_12.png\u001b[0m  pos_xyz_quat_xyzw_24.txt  \u001b[01;35mseg_6.png\u001b[0m\n",
      "\u001b[01;35mdep_13.png\u001b[0m  pos_xyz_quat_xyzw_25.txt  \u001b[01;35mseg_7.png\u001b[0m\n",
      "\u001b[01;35mdep_14.png\u001b[0m  pos_xyz_quat_xyzw_26.txt  \u001b[01;35mseg_8.png\u001b[0m\n",
      "\u001b[01;35mdep_15.png\u001b[0m  pos_xyz_quat_xyzw_27.txt  \u001b[01;35mseg_9.png\u001b[0m\n",
      "\u001b[01;35mdep_16.png\u001b[0m  pos_xyz_quat_xyzw_28.txt  \u001b[01;34mtest\u001b[0m/\n",
      "\u001b[01;35mdep_17.png\u001b[0m  pos_xyz_quat_xyzw_29.txt  \u001b[01;34mtrain\u001b[0m/\n",
      "\u001b[01;35mdep_18.png\u001b[0m  pos_xyz_quat_xyzw_2.txt   transforms_test.json\n",
      "\u001b[01;35mdep_19.png\u001b[0m  pos_xyz_quat_xyzw_30.txt  transforms_train.json\n",
      "\u001b[01;35mdep_1.png\u001b[0m   pos_xyz_quat_xyzw_31.txt  transforms_val.json\n",
      "\u001b[01;35mdep_20.png\u001b[0m  pos_xyz_quat_xyzw_32.txt  \u001b[01;34mval\u001b[0m/\n"
     ]
    }
   ],
   "source": [
    "ls isaac_power_drill"
   ]
  },
  {
   "cell_type": "code",
   "execution_count": 6,
   "id": "725fb897-5065-4f4a-8b39-33c768924d97",
   "metadata": {},
   "outputs": [
    {
     "ename": "FileNotFoundError",
     "evalue": "[Errno 2] No such file or directory: 'poses/fixed_11.txt'",
     "output_type": "error",
     "traceback": [
      "\u001b[0;31m---------------------------------------------------------------------------\u001b[0m",
      "\u001b[0;31mFileNotFoundError\u001b[0m                         Traceback (most recent call last)",
      "\u001b[0;32m<ipython-input-6-046f0219f769>\u001b[0m in \u001b[0;36m<module>\u001b[0;34m\u001b[0m\n\u001b[1;32m      1\u001b[0m \u001b[0;32mfor\u001b[0m \u001b[0mii\u001b[0m \u001b[0;32min\u001b[0m \u001b[0mtrain_range\u001b[0m\u001b[0;34m:\u001b[0m\u001b[0;34m\u001b[0m\u001b[0;34m\u001b[0m\u001b[0m\n\u001b[0;32m----> 2\u001b[0;31m     \u001b[0;32mwith\u001b[0m \u001b[0mopen\u001b[0m\u001b[0;34m(\u001b[0m\u001b[0;34m'poses/fixed_'\u001b[0m\u001b[0;34m+\u001b[0m\u001b[0mstr\u001b[0m\u001b[0;34m(\u001b[0m\u001b[0mii\u001b[0m\u001b[0;34m)\u001b[0m\u001b[0;34m+\u001b[0m\u001b[0;34m'.txt'\u001b[0m\u001b[0;34m)\u001b[0m \u001b[0;32mas\u001b[0m \u001b[0mfile\u001b[0m\u001b[0;34m:\u001b[0m\u001b[0;34m\u001b[0m\u001b[0;34m\u001b[0m\u001b[0m\n\u001b[0m\u001b[1;32m      3\u001b[0m         \u001b[0mpose\u001b[0m \u001b[0;34m=\u001b[0m \u001b[0mnp\u001b[0m\u001b[0;34m.\u001b[0m\u001b[0mfromstring\u001b[0m\u001b[0;34m(\u001b[0m\u001b[0mfile\u001b[0m\u001b[0;34m.\u001b[0m\u001b[0mreadline\u001b[0m\u001b[0;34m(\u001b[0m\u001b[0;34m)\u001b[0m\u001b[0;34m[\u001b[0m\u001b[0;36m1\u001b[0m\u001b[0;34m:\u001b[0m\u001b[0;34m-\u001b[0m\u001b[0;36m1\u001b[0m\u001b[0;34m]\u001b[0m\u001b[0;34m,\u001b[0m \u001b[0msep\u001b[0m\u001b[0;34m=\u001b[0m\u001b[0;34m','\u001b[0m\u001b[0;34m)\u001b[0m\u001b[0;34m\u001b[0m\u001b[0;34m\u001b[0m\u001b[0m\n\u001b[1;32m      4\u001b[0m \u001b[0;34m\u001b[0m\u001b[0m\n\u001b[1;32m      5\u001b[0m     \u001b[0mprint\u001b[0m\u001b[0;34m(\u001b[0m\u001b[0mnp\u001b[0m\u001b[0;34m.\u001b[0m\u001b[0mlinalg\u001b[0m\u001b[0;34m.\u001b[0m\u001b[0mnorm\u001b[0m\u001b[0;34m(\u001b[0m\u001b[0mpose\u001b[0m\u001b[0;34m[\u001b[0m\u001b[0;34m:\u001b[0m\u001b[0;36m3\u001b[0m\u001b[0;34m]\u001b[0m\u001b[0;34m)\u001b[0m\u001b[0;34m)\u001b[0m\u001b[0;34m\u001b[0m\u001b[0;34m\u001b[0m\u001b[0m\n",
      "\u001b[0;31mFileNotFoundError\u001b[0m: [Errno 2] No such file or directory: 'poses/fixed_11.txt'"
     ]
    }
   ],
   "source": [
    "for ii in train_range:\n",
    "    with open('poses/fixed_'+str(ii)+'.txt') as file:\n",
    "        pose = np.fromstring(file.readline()[1:-1], sep=',')\n",
    "\n",
    "    print(np.linalg.norm(pose[:3]))"
   ]
  },
  {
   "cell_type": "code",
   "execution_count": 40,
   "id": "e50bbf5e-a07e-4979-aebd-616f329bdf82",
   "metadata": {},
   "outputs": [
    {
     "data": {
      "text/plain": [
       "<mpl_toolkits.mplot3d.art3d.Path3DCollection at 0x7f0d541a8f50>"
      ]
     },
     "execution_count": 40,
     "metadata": {},
     "output_type": "execute_result"
    },
    {
     "data": {
      "image/png": "[encoded data removed]",
      "text/plain": [
       "<Figure size 432x288 with 1 Axes>"
      ]
     },
     "metadata": {
      "needs_background": "light"
     },
     "output_type": "display_data"
    }
   ],
   "source": [
    "from matplotlib import pyplot as plt\n",
    "\n",
    "with open('poses/fixed_'+str(ii)+'.txt') as file:\n",
    "    pose = np.fromstring(file.readline()[1:-1], sep=',')\n",
    "\n",
    "transform_mat = np.eye(4)\n",
    "R = scipy.spatial.transform.Rotation.from_quat(pose[-4:]).as_matrix()\n",
    "R = R @ scipy.spatial.transform.Rotation.from_euler('YZ', [-np.pi/2, -np.pi/2]).as_matrix()\n",
    "transform_mat[:3, :3] = R\n",
    "transform_mat[:3, -1] = pose[:3]\n",
    "\n",
    "# transform_mat = np.linalg.inv(transform_mat)\n",
    "\n",
    "origin = np.array([0,0,0,1])\n",
    "e1 = np.array([1, 0, 0, 1])\n",
    "e2 = np.array([0, 1, 0, 1])\n",
    "e3 = np.array([0, 0, 1, 1])\n",
    "\n",
    "ow = transform_mat@origin\n",
    "w1, w2, w3 = [transform_mat @ ee for ee in (e1, e2, e3)]\n",
    "\n",
    "fig = plt.figure()\n",
    "ax = fig.add_subplot(projection='3d')\n",
    "ax.scatter(ow[0], ow[1], ow[2], c='k')\n",
    "ax.plot([ow[0], w1[0]], [ow[1], w1[1]], [ow[2], w1[2]], c='r')\n",
    "ax.plot([ow[0], w2[0]], [ow[1], w2[1]], [ow[2], w2[2]], c='g')\n",
    "ax.plot([ow[0], w3[0]], [ow[1], w3[1]], [ow[2], w3[2]], c='b')\n",
    "ax.scatter(0., 0., 0., c='k', marker='*')"
   ]
  },
  {
   "cell_type": "code",
   "execution_count": 17,
   "id": "3dba580e-ba76-49fd-848c-680829aab950",
   "metadata": {},
   "outputs": [
    {
     "data": {
      "text/plain": [
       "'0'"
      ]
     },
     "execution_count": 17,
     "metadata": {},
     "output_type": "execute_result"
    }
   ],
   "source": []
  }
 ],
 "metadata": {
  "kernelspec": {
   "display_name": "Python 3",
   "language": "python",
   "name": "python3"
  },
  "language_info": {
   "codemirror_mode": {
    "name": "ipython",
    "version": 3
   },
   "file_extension": ".py",
   "mimetype": "text/x-python",
   "name": "python",
   "nbconvert_exporter": "python",
   "pygments_lexer": "ipython3",
   "version": "3.7.11"
  }
 },
 "nbformat": 4,
 "nbformat_minor": 5
}
