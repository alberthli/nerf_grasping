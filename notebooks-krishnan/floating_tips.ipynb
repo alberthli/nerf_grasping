{
 "cells": [
  {
   "cell_type": "code",
   "execution_count": 1,
   "id": "1395c899-1da5-44ca-84dc-8de289df9c2b",
   "metadata": {
    "execution": {
     "iopub.execute_input": "2022-06-09T07:57:08.438368Z",
     "iopub.status.busy": "2022-06-09T07:57:08.437875Z",
     "iopub.status.idle": "2022-06-09T07:57:08.455431Z",
     "shell.execute_reply": "2022-06-09T07:57:08.454864Z",
     "shell.execute_reply.started": "2022-06-09T07:57:08.438227Z"
    },
    "tags": []
   },
   "outputs": [],
   "source": [
    "%load_ext autoreload\n",
    "%autoreload 2"
   ]
  },
  {
   "cell_type": "code",
   "execution_count": 2,
   "id": "d5d397b9-8794-4962-9b91-3f87c7275e70",
   "metadata": {
    "execution": {
     "iopub.execute_input": "2022-06-09T07:57:08.456635Z",
     "iopub.status.busy": "2022-06-09T07:57:08.456451Z",
     "iopub.status.idle": "2022-06-09T07:57:11.584533Z",
     "shell.execute_reply": "2022-06-09T07:57:11.583873Z",
     "shell.execute_reply.started": "2022-06-09T07:57:08.456607Z"
    },
    "tags": []
   },
   "outputs": [
    {
     "name": "stdout",
     "output_type": "stream",
     "text": [
      "Importing module 'gym_37' (/scr-ssd/ksrini/Downloads/isaacgym-3/python/isaacgym/_bindings/linux-x86_64/gym_37.so)\n",
      "Setting GYM_USD_PLUG_INFO_PATH to /scr-ssd/ksrini/Downloads/isaacgym-3/python/isaacgym/_bindings/linux-x86_64/usd/plugInfo.json\n",
      "PyTorch version 1.11.0+cu113\n",
      "Device count 1\n",
      "/scr-ssd/ksrini/Downloads/isaacgym-3/python/isaacgym/_bindings/src/gymtorch\n",
      "Using /afs/cs.stanford.edu/u/ksrini/.cache/torch_extensions/py37_cu113 as PyTorch extensions root...\n",
      "Emitting ninja build file /afs/cs.stanford.edu/u/ksrini/.cache/torch_extensions/py37_cu113/gymtorch/build.ninja...\n",
      "Building extension module gymtorch...\n",
      "Allowing ninja to set a default number of workers... (overridable by setting the environment variable MAX_JOBS=N)\n",
      "Loading extension module gymtorch...\n"
     ]
    }
   ],
   "source": [
    "from typing import Tuple, Any\n",
    "from isaacgym import gymapi, gymtorch\n",
    "from nerf_grasping.sim import ig_utils\n",
    "from nerf_grasping.sim import ig_objects\n",
    "\n",
    "import time\n",
    "import torch\n",
    "import numpy as np"
   ]
  },
  {
   "cell_type": "code",
   "execution_count": 3,
   "id": "01866703-7985-4283-af32-9570f631d83d",
   "metadata": {
    "execution": {
     "iopub.execute_input": "2022-06-09T07:57:11.586067Z",
     "iopub.status.busy": "2022-06-09T07:57:11.585922Z",
     "iopub.status.idle": "2022-06-09T07:57:11.603613Z",
     "shell.execute_reply": "2022-06-09T07:57:11.603021Z",
     "shell.execute_reply.started": "2022-06-09T07:57:11.586046Z"
    },
    "tags": []
   },
   "outputs": [],
   "source": [
    "import os\n",
    "from pathlib import Path\n",
    "\n",
    "root_dir = Path(os.path.abspath(\"./\")).parents[0]\n",
    "asset_dir = f\"{root_dir}/assets\""
   ]
  },
  {
   "cell_type": "markdown",
   "id": "6c4551d1-b061-43b8-9765-415344cc4caf",
   "metadata": {},
   "source": [
    "# Define Robot and Env"
   ]
  },
  {
   "cell_type": "markdown",
   "id": "09c08f65-a05c-44ff-bc36-f22b479d1802",
   "metadata": {
    "tags": []
   },
   "source": [
    "## Define Robot"
   ]
  },
  {
   "cell_type": "code",
   "execution_count": 71,
   "id": "becb0ba5-bd8e-4403-b0c7-43e8046bece7",
   "metadata": {
    "execution": {
     "iopub.execute_input": "2022-06-09T18:51:21.377116Z",
     "iopub.status.busy": "2022-06-09T18:51:21.376670Z",
     "iopub.status.idle": "2022-06-09T18:51:21.427095Z",
     "shell.execute_reply": "2022-06-09T18:51:21.425941Z",
     "shell.execute_reply.started": "2022-06-09T18:51:21.377056Z"
    },
    "tags": []
   },
   "outputs": [
    {
     "ename": "NameError",
     "evalue": "name 'propety' is not defined",
     "output_type": "error",
     "traceback": [
      "\u001b[0;31m---------------------------------------------------------------------------\u001b[0m",
      "\u001b[0;31mNameError\u001b[0m                                 Traceback (most recent call last)",
      "\u001b[0;32m<ipython-input-71-ba80e72a4486>\u001b[0m in \u001b[0;36m<module>\u001b[0;34m\u001b[0m\n\u001b[0;32m----> 1\u001b[0;31m \u001b[0;32mclass\u001b[0m \u001b[0mFingertipRobot\u001b[0m\u001b[0;34m:\u001b[0m\u001b[0;34m\u001b[0m\u001b[0;34m\u001b[0m\u001b[0m\n\u001b[0m\u001b[1;32m      2\u001b[0m     \u001b[0;34m\"\"\"Robot controlling 3 (or n) spheres as \"fingers\" to grasp an lift an object\"\"\"\u001b[0m\u001b[0;34m\u001b[0m\u001b[0;34m\u001b[0m\u001b[0m\n\u001b[1;32m      3\u001b[0m \u001b[0;34m\u001b[0m\u001b[0m\n\u001b[1;32m      4\u001b[0m     def __init__(\n\u001b[1;32m      5\u001b[0m         \u001b[0mself\u001b[0m\u001b[0;34m,\u001b[0m\u001b[0;34m\u001b[0m\u001b[0;34m\u001b[0m\u001b[0m\n",
      "\u001b[0;32m<ipython-input-71-ba80e72a4486>\u001b[0m in \u001b[0;36mFingertipRobot\u001b[0;34m()\u001b[0m\n\u001b[1;32m    112\u001b[0m         \u001b[0;32mreturn\u001b[0m \u001b[0mself\u001b[0m\u001b[0;34m.\u001b[0m\u001b[0mget_position\u001b[0m\u001b[0;34m(\u001b[0m\u001b[0;34m)\u001b[0m\u001b[0;34m\u001b[0m\u001b[0;34m\u001b[0m\u001b[0m\n\u001b[1;32m    113\u001b[0m \u001b[0;34m\u001b[0m\u001b[0m\n\u001b[0;32m--> 114\u001b[0;31m     \u001b[0;34m@\u001b[0m\u001b[0mpropety\u001b[0m\u001b[0;34m\u001b[0m\u001b[0;34m\u001b[0m\u001b[0m\n\u001b[0m\u001b[1;32m    115\u001b[0m     \u001b[0;32mdef\u001b[0m \u001b[0mvelocity\u001b[0m\u001b[0;34m(\u001b[0m\u001b[0mself\u001b[0m\u001b[0;34m)\u001b[0m\u001b[0;34m:\u001b[0m\u001b[0;34m\u001b[0m\u001b[0;34m\u001b[0m\u001b[0m\n\u001b[1;32m    116\u001b[0m         \u001b[0;32mreturn\u001b[0m \u001b[0mself\u001b[0m\u001b[0;34m.\u001b[0m\u001b[0mget_velocity\u001b[0m\u001b[0;34m(\u001b[0m\u001b[0;34m)\u001b[0m\u001b[0;34m\u001b[0m\u001b[0;34m\u001b[0m\u001b[0m\n",
      "\u001b[0;31mNameError\u001b[0m: name 'propety' is not defined"
     ]
    }
   ],
   "source": [
    "class FingertipRobot:\n",
    "    \"\"\"Robot controlling 3 (or n) spheres as \"fingers\" to grasp an lift an object\"\"\"\n",
    "\n",
    "    def __init__(\n",
    "        self,\n",
    "        gym: gymapi.Gym,\n",
    "        sim: Any,\n",
    "        env: Any,\n",
    "        target_height: float = 0.07,\n",
    "        use_grad_est: bool = True,\n",
    "        grasp_vars: Tuple[torch.Tensor, torch.Tensor] = None,\n",
    "        **kwargs,\n",
    "    ):\n",
    "        \"\"\"\n",
    "        Initializes Fingertip-only point mass robot\n",
    "        \"\"\"\n",
    "        self.gym = gym\n",
    "        self.sim = sim\n",
    "        self.env = env\n",
    "        self.target_height = target_height\n",
    "        self._use_grad_est = use_grad_est\n",
    "        self.grasp_points, self.grasp_normals = grasp_vars\n",
    "        self.actors = self.create_spheres()\n",
    "\n",
    "    def create_spheres(self):\n",
    "        asset_options = gymapi.AssetOptions()\n",
    "        asset_options.fix_base_link = False\n",
    "        asset_options.angular_damping = 0.0\n",
    "        asset_options.max_angular_velocity = 0.0\n",
    "        asset_options.slices_per_cylinder = 40\n",
    "        markers = []\n",
    "        actors = []\n",
    "        colors = np.array([[0, 0, 1], [0, 1, 0], [1, 0, 0]], dtype=\"float32\")\n",
    "        ftip_start_pos = grasp_points - grasp_normals * 0.1\n",
    "        for i, pos in enumerate(ftip_start_pos):\n",
    "            color = colors[i]\n",
    "            pose = gymapi.Transform()\n",
    "            pose.p.x = pos[0]\n",
    "            pose.p.y = pos[1]\n",
    "            pose.p.z = pos[2]\n",
    "            marker_asset = gym.create_sphere(self.sim, 0.005, asset_options)\n",
    "            markers.append(marker_asset)\n",
    "            actor_handle = gym.create_actor(\n",
    "                env, marker_asset, pose, f\"fingertip_{i}\",\n",
    "            )\n",
    "            actors.append(actor_handle)\n",
    "            gym.set_rigid_body_color(\n",
    "                env,\n",
    "                actor_handle,\n",
    "                0,\n",
    "                gymapi.MESH_VISUAL,\n",
    "                gymapi.Vec3(*color),\n",
    "            )\n",
    "        return actors\n",
    "\n",
    "    def setup_tensors(self):\n",
    "        _rb_states = self.gym.acquire_rigid_body_state_tensor(self.sim)\n",
    "        # (num_rigid_bodies, 13)\n",
    "        rb_count = self.gym.get_actor_rigid_body_count(self.env, self.actors[0])\n",
    "        rb_start_index = self.gym.get_actor_rigid_body_index(env, self.actors[0], 0, gymapi.DOMAIN_SIM)\n",
    "\n",
    "        # NOTE: simple indexing will return a view of the data but advanced indexing will return a copy breaking the updateing\n",
    "        self.rb_states = gymtorch.wrap_tensor(_rb_states)[rb_start_index : rb_start_index + rb_count*len(self.actors), :]\n",
    "\n",
    "    def get_position(self):\n",
    "        \"\"\"Returns tip positions\"\"\"\n",
    "        return self.rb_states[:, 0:3]\n",
    "\n",
    "    def get_velocity(self):\n",
    "        \"\"\"Returns linear velocity\"\"\"\n",
    "        return self.rb_states[:, 7:10]\n",
    "    \n",
    "    def apply_fingertip_forces(self, global_fingertip_forces):\n",
    "        \"\"\"Applies forces to individual actors\"\"\"\n",
    "        assert global_fingertip_forces.shape == (3, 3)\n",
    "        for f, actor_handle in zip(global_fingertip_forces, self.actors):\n",
    "            rb_handle = gym.get_actor_rigid_body_handle(env, actor_handl, 0)\n",
    "            fx, fy, fz = f\n",
    "            self.gym.apply_body_forces(\n",
    "                self.env,\n",
    "                rb_handle,\n",
    "                gymapi.Vec3(fx, fy, fz),      # force\n",
    "                gymapi.Vec3(0.0, 0.0, 0.0),   # torque\n",
    "                gymapi.CoordinateSpace.GLOBAL_SPACE,\n",
    "            )\n",
    "        return\n",
    "\n",
    "    def reset_actor(self, grasp_vars=None):\n",
    "        if grasp_vars is not None:\n",
    "            self.grasp_points, self.grasp_normals = grasp_vars\n",
    "        ftip_start_pos = self.grasp_points - self.grasp_normals * 0.05\n",
    "        for pos, handle in zip(ftip_start_pos, self.actors):\n",
    "            state = self.gym.get_actor_rigid_body_states(\n",
    "                self.env, handle, gymapi.STATE_POS\n",
    "            )\n",
    "            state[\"pose\"][\"p\"].fill(tuple(pos))\n",
    "            assert self.gym.set_actor_rigid_body_states(\n",
    "                self.env, handle, state, gymapi.STATE_POS\n",
    "            ), \"gym.set_actor_rigid_body_states failed\"\n",
    "            state = self.gym.get_actor_rigid_body_states(\n",
    "                self.env, handle, gymapi.STATE_VEL\n",
    "            )\n",
    "            state[\"vel\"][\"linear\"].fill((0.0, 0.0, 0.0))\n",
    "            state[\"vel\"][\"angular\"].fill((0.0, 0.0, 0.0))\n",
    "            assert self.gym.set_actor_rigid_body_states(\n",
    "                self.env, handle, state, gymapi.STATE_VEL\n",
    "            ), \"gym.set_actor_rigid_body_states failed\"\n",
    "        return\n",
    "\n",
    "    @property\n",
    "    def position(self):\n",
    "        return self.get_position()\n",
    "    \n",
    "    @propety\n",
    "    def velocity(self):\n",
    "        return self.get_velocity()\n",
    "    \n",
    "    @property\n",
    "    def use_grad_est(self):\n",
    "        return self._use_grad_est\n",
    "\n",
    "    @use_grad_est.setter\n",
    "    def use_grad_est(self, x):\n",
    "        self._use_grad_est = x\n",
    "\n",
    "    @property\n",
    "    def use_true_normals(self):\n",
    "        return not self._use_grad_est"
   ]
  },
  {
   "cell_type": "code",
   "execution_count": 40,
   "id": "6803245f-96d1-412f-8072-8e4171a75b3d",
   "metadata": {
    "execution": {
     "iopub.execute_input": "2022-06-09T18:11:34.264935Z",
     "iopub.status.busy": "2022-06-09T18:11:34.264481Z",
     "iopub.status.idle": "2022-06-09T18:11:34.292396Z",
     "shell.execute_reply": "2022-06-09T18:11:34.291780Z",
     "shell.execute_reply.started": "2022-06-09T18:11:34.264873Z"
    },
    "tags": []
   },
   "outputs": [
    {
     "data": {
      "text/plain": [
       "[1, 2, 3]"
      ]
     },
     "execution_count": 40,
     "metadata": {},
     "output_type": "execute_result"
    }
   ],
   "source": [
    "[gym.get_actor_rigid_body_handle(env, k, 0) for k in robot.actors]"
   ]
  },
  {
   "cell_type": "markdown",
   "id": "7d4eecbf-af1a-470e-a916-d06d45fda20b",
   "metadata": {
    "execution": {
     "iopub.execute_input": "2022-06-08T22:42:42.811800Z",
     "iopub.status.busy": "2022-06-08T22:42:42.811349Z",
     "iopub.status.idle": "2022-06-08T22:42:42.817168Z",
     "shell.execute_reply": "2022-06-08T22:42:42.815875Z",
     "shell.execute_reply.started": "2022-06-08T22:42:42.811742Z"
    },
    "tags": []
   },
   "source": [
    "## IG helpers"
   ]
  },
  {
   "cell_type": "code",
   "execution_count": 5,
   "id": "1dd91cef-f66d-411c-8056-16678aa9d3f8",
   "metadata": {
    "execution": {
     "iopub.execute_input": "2022-06-09T07:57:11.709709Z",
     "iopub.status.busy": "2022-06-09T07:57:11.709422Z",
     "iopub.status.idle": "2022-06-09T07:57:11.768229Z",
     "shell.execute_reply": "2022-06-09T07:57:11.767494Z",
     "shell.execute_reply.started": "2022-06-09T07:57:11.709667Z"
    },
    "tags": []
   },
   "outputs": [],
   "source": [
    "def setup_viewer():\n",
    "    viewer = gym.create_viewer(sim, gymapi.CameraProperties())\n",
    "    # position outside stage\n",
    "    cam_pos = gymapi.Vec3(0.7, 0.175, 0.6)\n",
    "    # position above banana\n",
    "    cam_pos = gymapi.Vec3(0.1, 0.02, 0.4)\n",
    "    cam_target = gymapi.Vec3(0, 0, 0.2)\n",
    "    gym.viewer_camera_look_at(viewer, env, cam_pos, cam_target)\n",
    "    return viewer\n",
    "\n",
    "\n",
    "def step_gym():\n",
    "    gym.simulate(sim)\n",
    "    gym.fetch_results(sim, True)\n",
    "\n",
    "    gym.step_graphics(sim)\n",
    "    if viewer is not None:\n",
    "        gym.draw_viewer(viewer, sim, True)\n",
    "        gym.sync_frame_time(sim)\n",
    "    refresh_tensors()\n",
    "\n",
    "\n",
    "def setup_env():\n",
    "    plane_params = gymapi.PlaneParams()\n",
    "    plane_params.normal = gymapi.Vec3(0, 0, 1)  # z-up!\n",
    "    gym.add_ground(sim, plane_params)\n",
    "\n",
    "    spacing = 1.0\n",
    "    env_lower = gymapi.Vec3(-spacing, -spacing, 0.0)\n",
    "    env_upper = gymapi.Vec3(spacing, spacing, spacing)\n",
    "    env = gym.create_env(sim, env_lower, env_upper, 0)\n",
    "    return env\n",
    "\n",
    "\n",
    "def refresh_tensors():\n",
    "    gym.refresh_mass_matrix_tensors(sim)\n",
    "    gym.refresh_jacobian_tensors(sim)\n",
    "    gym.refresh_dof_state_tensor(sim)\n",
    "    gym.refresh_rigid_body_state_tensor(sim)\n",
    "\n",
    "\n",
    "def setup_sim():\n",
    "    args = ig_utils.parse_arguments(description=\"Trifinger test\")\n",
    "    # only tested with this one\n",
    "    assert args.physics_engine == gymapi.SIM_PHYSX\n",
    "\n",
    "    # configure sim\n",
    "    sim_params = gymapi.SimParams()\n",
    "    sim_params.dt = 1.0 / 60.0\n",
    "\n",
    "    sim_params.up_axis = gymapi.UP_AXIS_Z\n",
    "    sim_params.gravity = gymapi.Vec3(0.0, 0.0, -9.8)\n",
    "\n",
    "    sim_params.physx.solver_type = 1\n",
    "    sim_params.physx.num_position_iterations = 6\n",
    "    sim_params.physx.num_velocity_iterations = 0\n",
    "    sim_params.physx.num_threads = args.num_threads\n",
    "    sim_params.physx.use_gpu = args.use_gpu\n",
    "    # sim_params.physx.use_gpu = True\n",
    "\n",
    "    # sim_params.use_gpu_pipeline = True\n",
    "    sim_params.use_gpu_pipeline = False\n",
    "    sim = gym.create_sim(\n",
    "        args.compute_device_id,\n",
    "        args.graphics_device_id,\n",
    "        args.physics_engine,\n",
    "        sim_params,\n",
    "    )\n",
    "    assert sim is not None\n",
    "\n",
    "    # intensity = 0.01 # for nerf generation\n",
    "    # ambient = 0.21 / intensity\n",
    "    intensity = 0.5\n",
    "    ambient = 0.10 / intensity\n",
    "    intensity = gymapi.Vec3(intensity, intensity, intensity)\n",
    "    ambient = gymapi.Vec3(ambient, ambient, ambient)\n",
    "\n",
    "    gym.set_light_parameters(sim, 0, intensity, ambient, gymapi.Vec3(0.5, 1, 1))\n",
    "    gym.set_light_parameters(sim, 1, intensity, ambient, gymapi.Vec3(1, 0, 1))\n",
    "    gym.set_light_parameters(sim, 2, intensity, ambient, gymapi.Vec3(0.5, -1, 1))\n",
    "    gym.set_light_parameters(sim, 3, intensity, ambient, gymapi.Vec3(0, 0, 1))\n",
    "    return sim\n",
    "\n",
    "\n",
    "def setup_stage(env):\n",
    "    # this one is convex decomposed\n",
    "    stage_urdf_file = \"trifinger/robot_properties_fingers/urdf/high_table_boundary.urdf\"\n",
    "    # stage_urdf_file = \"trifinger/robot_properties_fingers/urdf/trifinger_stage.urdf\"\n",
    "    # stage_urdf_file = \"trifinger/robot_properties_fingers/urdf/stage.urdf\"\n",
    "\n",
    "    asset_options = gymapi.AssetOptions()\n",
    "    asset_options.disable_gravity = True\n",
    "    asset_options.fix_base_link = True\n",
    "    asset_options.flip_visual_attachments = False\n",
    "    asset_options.use_mesh_materials = True\n",
    "    asset_options.thickness = 0.001\n",
    "\n",
    "    stage_asset = gym.load_asset(sim, asset_dir, stage_urdf_file, asset_options)\n",
    "    gym.create_actor(\n",
    "        env, stage_asset, gymapi.Transform(), \"Stage\", 0, 0, segmentationId=1\n",
    "    )"
   ]
  },
  {
   "cell_type": "markdown",
   "id": "c5a4da17-d37a-4513-b7ba-1dd96f58abd5",
   "metadata": {},
   "source": [
    "## Setup"
   ]
  },
  {
   "cell_type": "code",
   "execution_count": 68,
   "id": "f5fb7d58-f8e3-49e2-bf38-6c538e5cce7f",
   "metadata": {
    "execution": {
     "iopub.execute_input": "2022-06-09T18:21:34.955455Z",
     "iopub.status.busy": "2022-06-09T18:21:34.955014Z",
     "iopub.status.idle": "2022-06-09T18:21:34.985175Z",
     "shell.execute_reply": "2022-06-09T18:21:34.984310Z",
     "shell.execute_reply.started": "2022-06-09T18:21:34.955394Z"
    },
    "tags": []
   },
   "outputs": [],
   "source": [
    "def position_control(observation, desired_position):\n",
    "    \"\"\"Computes joint torques using tip link jacobian to achieve desired tip position\"\"\"\n",
    "    tip_velocities = observation[:, 7:10]\n",
    "    tip_positions = observation[:, :3]\n",
    "    assert tip_positions.shape == desired_position.shape\n",
    "    xyz_force = -2 * (tip_positions - desired_position) - 1. * tip_velocities\n",
    "    return xyz_force"
   ]
  },
  {
   "cell_type": "code",
   "execution_count": 6,
   "id": "c0b941fc-ca6d-4ff0-a662-bfb2c47ab4fd",
   "metadata": {
    "execution": {
     "iopub.execute_input": "2022-06-09T07:57:11.769426Z",
     "iopub.status.busy": "2022-06-09T07:57:11.769211Z",
     "iopub.status.idle": "2022-06-09T07:57:13.683014Z",
     "shell.execute_reply": "2022-06-09T07:57:13.682368Z",
     "shell.execute_reply.started": "2022-06-09T07:57:11.769396Z"
    },
    "tags": []
   },
   "outputs": [],
   "source": [
    "gym = gymapi.acquire_gym()\n",
    "sim = setup_sim()\n",
    "env = setup_env()\n",
    "setup_stage(env)\n",
    "viewer = setup_viewer()\n",
    "grasp_points = torch.tensor(\n",
    "    [\n",
    "        [-0.00693, 0.085422, 0.013867],\n",
    "        [0.018317, -0.001611, 0.013867],\n",
    "        [-0.058538, -0.051027, 0.013867],\n",
    "    ]\n",
    ")\n",
    "\n",
    "grasp_normals = torch.tensor([[1, -1.5, 0.0], [-2, 1.0, 0.0], [1, 0.0, 0.0]])\n",
    "grasp_normals = grasp_normals / grasp_normals.norm(dim=1, keepdim=True)\n",
    "grasp_vars = (grasp_points, grasp_normals)\n",
    "robot = FingertipRobot(gym, sim, env, grasp_vars=grasp_vars)\n",
    "Obj = ig_objects.Banana\n",
    "obj = Obj(gym, sim, env)\n",
    "robot.setup_tensors()\n",
    "obj.setup_tensors()\n",
    "for i in range(4): step_gym()"
   ]
  },
  {
   "cell_type": "code",
   "execution_count": null,
   "id": "28505543-9a01-4d0d-a795-0725c8dd3d8b",
   "metadata": {},
   "outputs": [],
   "source": [
    "def random_forces(timestep):\n",
    "    fx = -np.sin(timestep * np.pi / 10) * 0.025 + 0.001\n",
    "    fy = -np.sin(timestep * np.pi / 5) * 0.025 + 0.001\n",
    "    f = np.array([[fx, fy, 0.]]*3)\n",
    "    return f"
   ]
  },
  {
   "cell_type": "code",
   "execution_count": 43,
   "id": "acc61917-7f84-4d02-9a9b-adfeba679c00",
   "metadata": {
    "execution": {
     "iopub.execute_input": "2022-06-09T18:12:52.899578Z",
     "iopub.status.busy": "2022-06-09T18:12:52.899164Z",
     "iopub.status.idle": "2022-06-09T18:12:52.929077Z",
     "shell.execute_reply": "2022-06-09T18:12:52.927906Z",
     "shell.execute_reply.started": "2022-06-09T18:12:52.899518Z"
    },
    "tags": []
   },
   "outputs": [],
   "source": [
    "robot.reset_actor()\n",
    "obj.reset_actor()"
   ]
  },
  {
   "cell_type": "code",
   "execution_count": 70,
   "id": "8c1d58c7-e6ac-48cc-a4f7-7259b8460faf",
   "metadata": {
    "execution": {
     "iopub.execute_input": "2022-06-09T18:21:57.251896Z",
     "iopub.status.busy": "2022-06-09T18:21:57.251472Z",
     "iopub.status.idle": "2022-06-09T18:22:14.005377Z",
     "shell.execute_reply": "2022-06-09T18:22:14.004444Z",
     "shell.execute_reply.started": "2022-06-09T18:21:57.251835Z"
    },
    "tags": []
   },
   "outputs": [
    {
     "name": "stdout",
     "output_type": "stream",
     "text": [
      "POSITION: tensor([[-0.0342,  0.1264,  0.0120],\n",
      "        [ 0.0623, -0.0236,  0.0120],\n",
      "        [-0.1078, -0.0510,  0.0120]])\n",
      "FORCE MAGNITUDE: tensor(0.0274)\n",
      "POSITION: tensor([[-0.0827,  0.1991,  0.0070],\n",
      "        [ 0.1405, -0.0627,  0.0070],\n",
      "        [-0.1951, -0.0510,  0.0070]])\n",
      "FORCE MAGNITUDE: tensor(2.4512)\n",
      "POSITION: tensor([[-0.0695,  0.1997,  0.0157],\n",
      "        [ 0.1925, -0.0862,  0.0156],\n",
      "        [-0.2024, -0.0575,  0.0157]])\n",
      "FORCE MAGNITUDE: tensor(0.0537)\n",
      "POSITION: tensor([[-0.0691,  0.1999,  0.0157],\n",
      "        [ 0.1926, -0.0858,  0.0156],\n",
      "        [-0.2020, -0.0591,  0.0157]])\n",
      "FORCE MAGNITUDE: tensor(0.0537)\n",
      "POSITION: tensor([[-0.0687,  0.2001,  0.0157],\n",
      "        [ 0.1928, -0.0854,  0.0156],\n",
      "        [-0.2016, -0.0606,  0.0157]])\n",
      "FORCE MAGNITUDE: tensor(0.0537)\n",
      "POSITION: tensor([[-0.0683,  0.2002,  0.0157],\n",
      "        [ 0.1930, -0.0851,  0.0156],\n",
      "        [-0.2013, -0.0620,  0.0156]])\n",
      "FORCE MAGNITUDE: tensor(0.0536)\n",
      "POSITION: tensor([[-0.0680,  0.2004,  0.0157],\n",
      "        [ 0.1931, -0.0847,  0.0156],\n",
      "        [-0.2009, -0.0636,  0.0156]])\n",
      "FORCE MAGNITUDE: tensor(0.0535)\n",
      "POSITION: tensor([[-0.0676,  0.2006,  0.0157],\n",
      "        [ 0.1932, -0.0844,  0.0156],\n",
      "        [-0.2002, -0.0655,  0.0156]])\n",
      "FORCE MAGNITUDE: tensor(0.0534)\n",
      "POSITION: tensor([[-0.0673,  0.2007,  0.0157],\n",
      "        [ 0.1934, -0.0841,  0.0156],\n",
      "        [-0.1995, -0.0674,  0.0156]])\n",
      "FORCE MAGNITUDE: tensor(0.0534)\n",
      "POSITION: tensor([[-0.0670,  0.2009,  0.0157],\n",
      "        [ 0.1935, -0.0839,  0.0156],\n",
      "        [-0.1989, -0.0691,  0.0156]])\n",
      "FORCE MAGNITUDE: tensor(0.0533)\n",
      "POSITION: tensor([[-0.0667,  0.2010,  0.0157],\n",
      "        [ 0.1936, -0.0836,  0.0156],\n",
      "        [-0.1983, -0.0708,  0.0155]])\n",
      "FORCE MAGNITUDE: tensor(0.0533)\n",
      "POSITION: tensor([[-0.0665,  0.2011,  0.0157],\n",
      "        [ 0.1937, -0.0834,  0.0156],\n",
      "        [-0.1977, -0.0723,  0.0155]])\n",
      "FORCE MAGNITUDE: tensor(0.0533)\n",
      "POSITION: tensor([[-0.0662,  0.2013,  0.0157],\n",
      "        [ 0.1938, -0.0831,  0.0156],\n",
      "        [-0.1971, -0.0738,  0.0155]])\n",
      "FORCE MAGNITUDE: tensor(0.0533)\n",
      "POSITION: tensor([[-0.0660,  0.2014,  0.0157],\n",
      "        [ 0.1939, -0.0829,  0.0156],\n",
      "        [-0.1966, -0.0752,  0.0155]])\n",
      "FORCE MAGNITUDE: tensor(0.0533)\n",
      "POSITION: tensor([[-0.0658,  0.2015,  0.0157],\n",
      "        [ 0.1940, -0.0827,  0.0156],\n",
      "        [-0.1961, -0.0765,  0.0155]])\n",
      "FORCE MAGNITUDE: tensor(0.0532)\n",
      "POSITION: tensor([[-0.0656,  0.2016,  0.0157],\n",
      "        [ 0.1941, -0.0825,  0.0156],\n",
      "        [-0.1957, -0.0778,  0.0155]])\n",
      "FORCE MAGNITUDE: tensor(0.0532)\n",
      "POSITION: tensor([[-0.0654,  0.2017,  0.0157],\n",
      "        [ 0.1942, -0.0823,  0.0156],\n",
      "        [-0.1953, -0.0790,  0.0155]])\n",
      "FORCE MAGNITUDE: tensor(0.0532)\n",
      "POSITION: tensor([[-0.0652,  0.2018,  0.0157],\n",
      "        [ 0.1943, -0.0821,  0.0156],\n",
      "        [-0.1949, -0.0801,  0.0155]])\n",
      "FORCE MAGNITUDE: tensor(0.0532)\n"
     ]
    },
    {
     "ename": "KeyboardInterrupt",
     "evalue": "",
     "output_type": "error",
     "traceback": [
      "\u001b[0;31m---------------------------------------------------------------------------\u001b[0m",
      "\u001b[0;31mKeyboardInterrupt\u001b[0m                         Traceback (most recent call last)",
      "\u001b[0;32m<ipython-input-70-56beb10315e2>\u001b[0m in \u001b[0;36m<module>\u001b[0;34m\u001b[0m\n\u001b[1;32m      2\u001b[0m \u001b[0mobj\u001b[0m\u001b[0;34m.\u001b[0m\u001b[0mreset_actor\u001b[0m\u001b[0;34m(\u001b[0m\u001b[0;34m)\u001b[0m\u001b[0;34m\u001b[0m\u001b[0;34m\u001b[0m\u001b[0m\n\u001b[1;32m      3\u001b[0m \u001b[0;32mfor\u001b[0m \u001b[0mi\u001b[0m \u001b[0;32min\u001b[0m \u001b[0mrange\u001b[0m\u001b[0;34m(\u001b[0m\u001b[0;36m1000\u001b[0m\u001b[0;34m)\u001b[0m\u001b[0;34m:\u001b[0m\u001b[0;34m\u001b[0m\u001b[0;34m\u001b[0m\u001b[0m\n\u001b[0;32m----> 4\u001b[0;31m     \u001b[0mtime\u001b[0m\u001b[0;34m.\u001b[0m\u001b[0msleep\u001b[0m\u001b[0;34m(\u001b[0m\u001b[0;36m0.05\u001b[0m\u001b[0;34m)\u001b[0m\u001b[0;34m\u001b[0m\u001b[0;34m\u001b[0m\u001b[0m\n\u001b[0m\u001b[1;32m      5\u001b[0m     \u001b[0mstep_gym\u001b[0m\u001b[0;34m(\u001b[0m\u001b[0;34m)\u001b[0m\u001b[0;34m\u001b[0m\u001b[0;34m\u001b[0m\u001b[0m\n\u001b[1;32m      6\u001b[0m     \u001b[0mf\u001b[0m \u001b[0;34m=\u001b[0m \u001b[0mposition_control\u001b[0m\u001b[0;34m(\u001b[0m\u001b[0mrobot\u001b[0m\u001b[0;34m.\u001b[0m\u001b[0mrb_states\u001b[0m\u001b[0;34m[\u001b[0m\u001b[0;34m:\u001b[0m\u001b[0;34m]\u001b[0m\u001b[0;34m,\u001b[0m \u001b[0mgrasp_points\u001b[0m\u001b[0;34m)\u001b[0m \u001b[0;34m*\u001b[0m \u001b[0;36m.1\u001b[0m\u001b[0;34m\u001b[0m\u001b[0;34m\u001b[0m\u001b[0m\n",
      "\u001b[0;31mKeyboardInterrupt\u001b[0m: "
     ]
    }
   ],
   "source": [
    "robot.reset_actor()\n",
    "obj.reset_actor()\n",
    "for i in range(1000):\n",
    "    time.sleep(0.05)\n",
    "    step_gym()\n",
    "    f = position_control(robot.rb_states[:], grasp_points) * .1\n",
    "    if i % 10 == 0:\n",
    "        print(\"POSITION:\", robot.get_pos())\n",
    "        # print(\"VELOCITY:\", robot.get_vel())\n",
    "        print(\"FORCE MAGNITUDE:\", f.norm())\n",
    "    robot.apply_fingertip_forces(f)"
   ]
  },
  {
   "cell_type": "code",
   "execution_count": 25,
   "id": "92ed09a0-4e44-42d6-9988-7990861aee98",
   "metadata": {
    "execution": {
     "iopub.execute_input": "2022-06-09T07:04:15.310001Z",
     "iopub.status.busy": "2022-06-09T07:04:15.309548Z",
     "iopub.status.idle": "2022-06-09T07:04:15.337618Z",
     "shell.execute_reply": "2022-06-09T07:04:15.336820Z",
     "shell.execute_reply.started": "2022-06-09T07:04:15.309942Z"
    },
    "tags": []
   },
   "outputs": [],
   "source": [
    "robot.reset_actor(grasp_vars)"
   ]
  },
  {
   "cell_type": "code",
   "execution_count": null,
   "id": "8c6a00f3-0a9a-4c1d-89ec-1a00419b71e4",
   "metadata": {
    "execution": {
     "iopub.status.busy": "2022-06-09T06:44:40.719346Z",
     "iopub.status.idle": "2022-06-09T06:44:40.719544Z",
     "shell.execute_reply": "2022-06-09T06:44:40.719446Z"
    },
    "tags": []
   },
   "outputs": [],
   "source": [
    "gym.get_actor_dof_count(env, 3)"
   ]
  },
  {
   "cell_type": "code",
   "execution_count": 35,
   "id": "e0b85ad1-6896-41e2-953e-035b920daead",
   "metadata": {
    "execution": {
     "iopub.execute_input": "2022-06-09T07:12:22.439814Z",
     "iopub.status.busy": "2022-06-09T07:12:22.439394Z",
     "iopub.status.idle": "2022-06-09T07:12:22.471074Z",
     "shell.execute_reply": "2022-06-09T07:12:22.470511Z",
     "shell.execute_reply.started": "2022-06-09T07:12:22.439756Z"
    },
    "tags": []
   },
   "outputs": [
    {
     "name": "stdout",
     "output_type": "stream",
     "text": [
      "Stage\n",
      "(0., 0., 0.)\n",
      "fingertip_0\n",
      "(-2.0689284e-07, 0.14587425, 0.09843944)\n",
      "fingertip_1\n",
      "(0.03, -0.15, 0.007)\n",
      "fingertip_2\n",
      "(-0.03, -0.15, 0.007)\n"
     ]
    }
   ],
   "source": [
    "for i in range(4):\n",
    "    print(gym.get_actor_name(env, i))\n",
    "    print(gym.get_sim_rigid_body_states(sim, gymapi.STATE_POS)[i][\"pose\"][\"p\"])"
   ]
  },
  {
   "cell_type": "code",
   "execution_count": null,
   "id": "b927a4ca-e798-4d58-989b-1baff3eec3bd",
   "metadata": {
    "execution": {
     "iopub.status.busy": "2022-06-09T06:44:40.720964Z",
     "iopub.status.idle": "2022-06-09T06:44:40.721162Z",
     "shell.execute_reply": "2022-06-09T06:44:40.721064Z"
    },
    "tags": []
   },
   "outputs": [],
   "source": [
    "Obj = ig_objects.Banana\n",
    "obj = Obj(gym, sim, env)\n",
    "robot.setup_tensors()\n",
    "obj.setup_tensors()"
   ]
  },
  {
   "cell_type": "code",
   "execution_count": null,
   "id": "a7c117e9-299b-45aa-a3a9-b0d909612156",
   "metadata": {
    "execution": {
     "iopub.status.busy": "2022-06-09T06:44:40.721679Z",
     "iopub.status.idle": "2022-06-09T06:44:40.721876Z",
     "shell.execute_reply": "2022-06-09T06:44:40.721778Z"
    },
    "tags": []
   },
   "outputs": [],
   "source": [
    "gym.get_actor_actuator_count(env, 4)"
   ]
  },
  {
   "cell_type": "code",
   "execution_count": null,
   "id": "a340d166-abb6-4b61-b7b2-fb2473f00be6",
   "metadata": {
    "execution": {
     "iopub.status.busy": "2022-06-09T06:44:40.722474Z",
     "iopub.status.idle": "2022-06-09T06:44:40.722671Z",
     "shell.execute_reply": "2022-06-09T06:44:40.722574Z"
    },
    "tags": []
   },
   "outputs": [],
   "source": [
    "robot.setup_tensors()"
   ]
  },
  {
   "cell_type": "code",
   "execution_count": null,
   "id": "26d09515-0992-41f3-b742-8785b02cc8a1",
   "metadata": {
    "execution": {
     "iopub.status.busy": "2022-06-09T06:44:40.723234Z",
     "iopub.status.idle": "2022-06-09T06:44:40.723430Z",
     "shell.execute_reply": "2022-06-09T06:44:40.723334Z"
    },
    "tags": []
   },
   "outputs": [],
   "source": [
    "for i in range(5):\n",
    "    print(gym.get_actor_name(env, i))"
   ]
  },
  {
   "cell_type": "markdown",
   "id": "f3246a1c-e74a-4dc0-a6a5-ebd9bd2dfa51",
   "metadata": {},
   "source": [
    "## Load env and object"
   ]
  },
  {
   "cell_type": "code",
   "execution_count": null,
   "id": "90b1b4a1-2bb8-4acd-a702-a8f9968da87c",
   "metadata": {
    "execution": {
     "iopub.status.busy": "2022-06-09T06:44:40.724062Z",
     "iopub.status.idle": "2022-06-09T06:44:40.724258Z",
     "shell.execute_reply": "2022-06-09T06:44:40.724160Z"
    },
    "tags": []
   },
   "outputs": [],
   "source": [
    "Obj = ig_objects.Banana\n",
    "grasp_points = torch.tensor(\n",
    "    [[0.0, 0.05, 0.05], [0.03, -0.05, 0.05], [-0.03, -0.05, 0.05]]\n",
    ")\n",
    "grasp_normals = torch.tensor([[0.0, -1.0, 0.0], [0.0, 1.0, 0.0], [0.0, 1.0, 0.0]])\n",
    "robot_kwargs = dict(grasp_vars=(grasp_points, grasp_normals))\n",
    "\n",
    "tf = TriFingertipEnv(viewer=True, robot=True, Obj=Obj, **robot_kwargs)"
   ]
  }
 ],
 "metadata": {
  "kernelspec": {
   "display_name": "Python 3",
   "language": "python",
   "name": "python3"
  },
  "language_info": {
   "codemirror_mode": {
    "name": "ipython",
    "version": 3
   },
   "file_extension": ".py",
   "mimetype": "text/x-python",
   "name": "python",
   "nbconvert_exporter": "python",
   "pygments_lexer": "ipython3",
   "version": "3.7.11"
  }
 },
 "nbformat": 4,
 "nbformat_minor": 5
}
